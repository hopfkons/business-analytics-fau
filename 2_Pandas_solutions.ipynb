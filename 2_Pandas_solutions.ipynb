{
 "cells": [
  {
   "cell_type": "markdown",
   "metadata": {
    "id": "3ZPxoeLGjplW"
   },
   "source": [
    "# Introduction to Pandas"
   ]
  },
  {
   "cell_type": "markdown",
   "metadata": {
    "id": "0iK5DyBvjplj"
   },
   "source": [
    "## Learning Goals \n",
    "The goal of the Business Analytics exercise is to **teach all steps necessary to solve a predictive data analytics task** using machine learning/neural networks. As the basis for any machine learning is data, in this exercise, we will look into how to load and work with tabular data. \n",
    "\n",
    "For this, we use a CSV (comma-separated values) file that contains information about books from [Goodreads](https://www.goodreads.com). In this exercise, we will clean this data and further parse it.  We will do some exploratory data analysis to answer questions about these books and popular genres. \n",
    "\n",
    "After this introductory exercise for the Python package Pandas, you will feel more comfortable:\n",
    "\n",
    "- Loading and working with tabular data. \n",
    "- Getting a first overview over the data in a Pandas Dataframe."
   ]
  },
  {
   "cell_type": "markdown",
   "metadata": {
    "id": "lRtIHa5xpPGr"
   },
   "source": [
    "## Importing modules\n",
    "All notebooks should begin with code that imports *packages*, collections of built-in, commonly-used Python functions.  Below we import the Matplotlib package, a library for plotting images, lines, graphs, ...  Future exercises will require additional modules, which we'll import with the same syntax.\n",
    "\n",
    "`import MODULE_NAME as MODULE_NICKNAME` \n",
    "\n",
    "In the following, we can import the package named Pandas and we give it a nickname ```pd```"
   ]
  },
  {
   "cell_type": "code",
   "execution_count": 4,
   "metadata": {
    "id": "wdhBfZFzpFyy"
   },
   "outputs": [],
   "source": [
    "import pandas as pd"
   ]
  },
  {
   "cell_type": "markdown",
   "metadata": {
    "id": "UL4yjEgCjpll"
   },
   "source": [
    "## Loading and Cleaning with Pandas \n",
    "Pandas is a Python package that allows you to work with dataframes. Dataframes are two-dimensional arrays and look just like Excel-sheets. In fact, Pandas provides functionality to read Excel files as well. However, the files in our exercises come in so-called CSV (comma-separated values) format. You can simply open them in a text editor and have a look. \n",
    "\n",
    "A CSV file ```file.csv``` can be read into a variable ```df``` (denoting a Pandas dataframe) using \n",
    "\n",
    "```\n",
    "df = pd.read_csv(file.csv)\n",
    "```. "
   ]
  },
  {
   "cell_type": "markdown",
   "metadata": {
    "id": "IskuqVxCp2S7"
   },
   "source": [
    "### Exercise: Loading data\n",
    "\n",
    "1. Download or checkout the csv file `goodreads.csv` from github. Upload it to Google colab, if you are using this tool; For this, you can click on \"Files\" or \"Dateien\" on the left side and then click on \"Upload\". The file should then be available under \"data/goodreads.csv\", relative to the Jpupyter notebook.\n",
    "2. Load the file using the function ```pd.read_csv``` and store it into the variable ```df```."
   ]
  },
  {
   "cell_type": "code",
   "execution_count": 7,
   "metadata": {
    "id": "TJSsWPW6TPWc"
   },
   "outputs": [],
   "source": [
    "#1.\n",
    "\n",
    "#2.\n",
    "df = pd.read_csv('data/goodreads.csv')"
   ]
  },
  {
   "cell_type": "markdown",
   "metadata": {
    "id": "R4z-oQ_Speer"
   },
   "source": [
    "Here is a description of the columns (in order) present in this csv file:\n",
    "\n",
    "|column|description|\n",
    "|---|---|\n",
    "|rating| the average rating on a 1-5 scale achieved by the book|\n",
    "|review_count| the number of Goodreads users who reviewed this book|\n",
    "|isbn| the ISBN code for the book|\n",
    "|booktype| an internal Goodreads identifier for the book|\n",
    "|author_url| the Goodreads (relative) URL for the author of the book|\n",
    "|year| the year the book was published|\n",
    "|genre_urls| a string with '|' separated relative URLS of Goodreads genre pages|\n",
    "|dir| a directory identifier internal to the scraping code|\n",
    "|rating_count| the number of ratings for this book (this is different from the number of reviews)|\n",
    "|name| the name of the book|\n",
    " "
   ]
  },
  {
   "cell_type": "markdown",
   "metadata": {
    "id": "EgiHKkqequ0j"
   },
   "source": [
    "Let us see what issues we find with the data and resolve them. For this, you can simple type in ```print(df)```."
   ]
  },
  {
   "cell_type": "code",
   "execution_count": 10,
   "metadata": {
    "colab": {
     "base_uri": "https://localhost:8080/"
    },
    "id": "JeVTriUCTWn5",
    "outputId": "61eeeff8-90a5-41f0-e496-d862139ff299"
   },
   "outputs": [
    {
     "name": "stdout",
     "output_type": "stream",
     "text": [
      "      4.40   136455  0439023483  good_reads:book  \\\n",
      "0     4.41  16648.0  0439358078  good_reads:book   \n",
      "1     3.56  85746.0  0316015849  good_reads:book   \n",
      "2     4.23  47906.0  0061120081  good_reads:book   \n",
      "3     4.23  34772.0  0679783261  good_reads:book   \n",
      "4     4.25  12363.0  0446675539  good_reads:book   \n",
      "...    ...      ...         ...              ...   \n",
      "5994  4.17   2226.0  0767913736  good_reads:book   \n",
      "5995  3.99    775.0  1416909427  good_reads:book   \n",
      "5996  3.78    540.0  1620612321  good_reads:book   \n",
      "5997  3.91    281.0         NaN  good_reads:book   \n",
      "5998  4.35     61.0  0786929081  good_reads:book   \n",
      "\n",
      "     https://www.goodreads.com/author/show/153394.Suzanne_Collins    2008  \\\n",
      "0     https://www.goodreads.com/author/show/1077326....            2003.0   \n",
      "1     https://www.goodreads.com/author/show/941441.S...            2005.0   \n",
      "2     https://www.goodreads.com/author/show/1825.Har...            1960.0   \n",
      "3     https://www.goodreads.com/author/show/1265.Jan...            1813.0   \n",
      "4     https://www.goodreads.com/author/show/11081.Ma...            1936.0   \n",
      "...                                                 ...               ...   \n",
      "5994  https://www.goodreads.com/author/show/44565.Ca...            2005.0   \n",
      "5995  https://www.goodreads.com/author/show/151371.J...            2006.0   \n",
      "5996  https://www.goodreads.com/author/show/5761314....            2012.0   \n",
      "5997  https://www.goodreads.com/author/show/1201952....            2006.0   \n",
      "5998  https://www.goodreads.com/author/show/1023510....            2001.0   \n",
      "\n",
      "     /genres/young-adult|/genres/science-fiction|/genres/dystopia|/genres/fantasy|/genres/science-fiction|/genres/romance|/genres/adventure|/genres/book-club|/genres/young-adult|/genres/teen|/genres/apocalyptic|/genres/post-apocalyptic|/genres/action  \\\n",
      "0     /genres/fantasy|/genres/young-adult|/genres/fi...                                                                                                                                                                                                      \n",
      "1     /genres/young-adult|/genres/fantasy|/genres/ro...                                                                                                                                                                                                      \n",
      "2     /genres/classics|/genres/fiction|/genres/histo...                                                                                                                                                                                                      \n",
      "3     /genres/classics|/genres/fiction|/genres/roman...                                                                                                                                                                                                      \n",
      "4     /genres/classics|/genres/historical-fiction|/g...                                                                                                                                                                                                      \n",
      "...                                                 ...                                                                                                                                                                                                      \n",
      "5994  /genres/history|/genres/non-fiction|/genres/bi...                                                                                                                                                                                                      \n",
      "5995  /genres/young-adult|/genres/realistic-fiction|...                                                                                                                                                                                                      \n",
      "5996  /genres/contemporary|/genres/romance|/genres/y...                                                                                                                                                                                                      \n",
      "5997  /genres/religion|/genres/islam|/genres/religio...                                                                                                                                                                                                      \n",
      "5998  /genres/fiction|/genres/fantasy|/genres/magic|...                                                                                                                                                                                                      \n",
      "\n",
      "                    dir01/2767052-the-hunger-games.html    2958974  \\\n",
      "0     dir01/2.Harry_Potter_and_the_Order_of_the_Phoe...  1284478.0   \n",
      "1                             dir01/41865.Twilight.html  2579564.0   \n",
      "2                 dir01/2657.To_Kill_a_Mockingbird.html  2078123.0   \n",
      "3                   dir01/1885.Pride_and_Prejudice.html  1388992.0   \n",
      "4                   dir01/18405.Gone_with_the_Wind.html   645470.0   \n",
      "...                                                 ...        ...   \n",
      "5994                dir60/78508.The_River_of_Doubt.html    16618.0   \n",
      "5995                             dir60/259068.Shug.html     6179.0   \n",
      "5996                         dir60/13503247-flawed.html     2971.0   \n",
      "5997                                 dir60/2750008.html     3083.0   \n",
      "5998  dir60/66677.Legacy_of_the_Drow_Collector_s_Edi...     3982.0   \n",
      "\n",
      "                The Hunger Games (The Hunger Games, #1)  \n",
      "0     Harry Potter and the Order of the Phoenix (Har...  \n",
      "1                               Twilight (Twilight, #1)  \n",
      "2                                 To Kill a Mockingbird  \n",
      "3                                   Pride and Prejudice  \n",
      "4                                    Gone with the Wind  \n",
      "...                                                 ...  \n",
      "5994                                 The River of Doubt  \n",
      "5995                                               Shug  \n",
      "5996                                             Flawed  \n",
      "5997              Ø£Ø³Ø¹Ø¯ Ø§Ù",
      "Ø±Ø£Ø© ÙÙ Ø§ÙØ¹Ø§ÙÙ",
      "  \n",
      "5998  Legacy of the Drow Collector's Edition (Legacy...  \n",
      "\n",
      "[5999 rows x 10 columns]\n"
     ]
    }
   ],
   "source": [
    "print(df)"
   ]
  },
  {
   "cell_type": "markdown",
   "metadata": {
    "id": "QDDFk9rZjplr"
   },
   "source": [
    "Oh dear. That does not quite seem to be right. We are missing the column names. We need to add these in! But what are they?\n",
    "\n",
    "Here is a list of them in order:\n",
    "\n",
    "`['rating', 'review_count', 'isbn', 'booktype','author_url', 'year', 'genre_urls', 'dir','rating_count', 'name']`"
   ]
  },
  {
   "cell_type": "markdown",
   "metadata": {
    "id": "r8mf6GhAjplr"
   },
   "source": [
    "### Exercise: Load data with column names\n",
    "\n",
    "1. Use the list of column names to properly read in the CSV file (have a look at the documentation for pd.read_csv to see how this is done - https://pandas.pydata.org/docs/reference/api/pandas.read_csv.html)"
   ]
  },
  {
   "cell_type": "code",
   "execution_count": 13,
   "metadata": {
    "id": "jN39mRx0TZvE"
   },
   "outputs": [
    {
     "name": "stdout",
     "output_type": "stream",
     "text": [
      "      rating  review_count        isbn         booktype  \\\n",
      "0       4.40      136455.0  0439023483  good_reads:book   \n",
      "1       4.41       16648.0  0439358078  good_reads:book   \n",
      "2       3.56       85746.0  0316015849  good_reads:book   \n",
      "3       4.23       47906.0  0061120081  good_reads:book   \n",
      "4       4.23       34772.0  0679783261  good_reads:book   \n",
      "...      ...           ...         ...              ...   \n",
      "5995    4.17        2226.0  0767913736  good_reads:book   \n",
      "5996    3.99         775.0  1416909427  good_reads:book   \n",
      "5997    3.78         540.0  1620612321  good_reads:book   \n",
      "5998    3.91         281.0         NaN  good_reads:book   \n",
      "5999    4.35          61.0  0786929081  good_reads:book   \n",
      "\n",
      "                                             author_url    year  \\\n",
      "0     https://www.goodreads.com/author/show/153394.S...  2008.0   \n",
      "1     https://www.goodreads.com/author/show/1077326....  2003.0   \n",
      "2     https://www.goodreads.com/author/show/941441.S...  2005.0   \n",
      "3     https://www.goodreads.com/author/show/1825.Har...  1960.0   \n",
      "4     https://www.goodreads.com/author/show/1265.Jan...  1813.0   \n",
      "...                                                 ...     ...   \n",
      "5995  https://www.goodreads.com/author/show/44565.Ca...  2005.0   \n",
      "5996  https://www.goodreads.com/author/show/151371.J...  2006.0   \n",
      "5997  https://www.goodreads.com/author/show/5761314....  2012.0   \n",
      "5998  https://www.goodreads.com/author/show/1201952....  2006.0   \n",
      "5999  https://www.goodreads.com/author/show/1023510....  2001.0   \n",
      "\n",
      "                                             genre_urls  \\\n",
      "0     /genres/young-adult|/genres/science-fiction|/g...   \n",
      "1     /genres/fantasy|/genres/young-adult|/genres/fi...   \n",
      "2     /genres/young-adult|/genres/fantasy|/genres/ro...   \n",
      "3     /genres/classics|/genres/fiction|/genres/histo...   \n",
      "4     /genres/classics|/genres/fiction|/genres/roman...   \n",
      "...                                                 ...   \n",
      "5995  /genres/history|/genres/non-fiction|/genres/bi...   \n",
      "5996  /genres/young-adult|/genres/realistic-fiction|...   \n",
      "5997  /genres/contemporary|/genres/romance|/genres/y...   \n",
      "5998  /genres/religion|/genres/islam|/genres/religio...   \n",
      "5999  /genres/fiction|/genres/fantasy|/genres/magic|...   \n",
      "\n",
      "                                                    dir  rating_count  \\\n",
      "0                   dir01/2767052-the-hunger-games.html     2958974.0   \n",
      "1     dir01/2.Harry_Potter_and_the_Order_of_the_Phoe...     1284478.0   \n",
      "2                             dir01/41865.Twilight.html     2579564.0   \n",
      "3                 dir01/2657.To_Kill_a_Mockingbird.html     2078123.0   \n",
      "4                   dir01/1885.Pride_and_Prejudice.html     1388992.0   \n",
      "...                                                 ...           ...   \n",
      "5995                dir60/78508.The_River_of_Doubt.html       16618.0   \n",
      "5996                             dir60/259068.Shug.html        6179.0   \n",
      "5997                         dir60/13503247-flawed.html        2971.0   \n",
      "5998                                 dir60/2750008.html        3083.0   \n",
      "5999  dir60/66677.Legacy_of_the_Drow_Collector_s_Edi...        3982.0   \n",
      "\n",
      "                                                   name  \n",
      "0               The Hunger Games (The Hunger Games, #1)  \n",
      "1     Harry Potter and the Order of the Phoenix (Har...  \n",
      "2                               Twilight (Twilight, #1)  \n",
      "3                                 To Kill a Mockingbird  \n",
      "4                                   Pride and Prejudice  \n",
      "...                                                 ...  \n",
      "5995                                 The River of Doubt  \n",
      "5996                                               Shug  \n",
      "5997                                             Flawed  \n",
      "5998              Ø£Ø³Ø¹Ø¯ Ø§Ù",
      "Ø±Ø£Ø© ÙÙ Ø§ÙØ¹Ø§ÙÙ",
      "  \n",
      "5999  Legacy of the Drow Collector's Edition (Legacy...  \n",
      "\n",
      "[6000 rows x 10 columns]\n"
     ]
    }
   ],
   "source": [
    "#1.\n",
    "df = pd.read_csv('data/goodreads.csv', names=['rating', 'review_count', 'isbn', 'booktype','author_url', \n",
    "                                              'year', 'genre_urls', 'dir','rating_count', 'name'])\n",
    "print(df)"
   ]
  },
  {
   "cell_type": "markdown",
   "metadata": {
    "id": "D66yo7sXEtNz"
   },
   "source": [
    "## Getting a First Impression\n",
    "\n",
    "What I like doing first is having a look at the shape of the dataframe, i.e., the number of observations (rows) and the number of variables (columns). You can use the functions\n",
    "\n",
    "- ```df.shape```\n",
    "- ```len(df)```\n",
    "- ```len(df.columns)```\n",
    "\n",
    "for that. This also tells you, how memory intense it is to work with the dataframe. If there are millions of rows, you have to be way more careful to pick efficient functions when altering the dataframe.\n",
    "\n",
    "Afterwards, you can have a look at the first and last rows of the dataframe. These can be obtained by \n",
    "\n",
    "- ```df.head()```\n",
    "- ```df.tail()```\n",
    "\n",
    "### Exercise: First impression of the dataframe\n",
    "1. Get an impression about the shape of the dataframe"
   ]
  },
  {
   "cell_type": "code",
   "execution_count": 15,
   "metadata": {
    "colab": {
     "base_uri": "https://localhost:8080/"
    },
    "id": "2fSL1FmyTheB",
    "outputId": "a3c13cd5-df99-46a5-cbe2-838e054181d8"
   },
   "outputs": [
    {
     "name": "stdout",
     "output_type": "stream",
     "text": [
      "(6000, 10)\n",
      "6000\n",
      "10\n"
     ]
    }
   ],
   "source": [
    "#1.\n",
    "print(df.shape)\n",
    "print(len(df))\n",
    "print(len(df.columns))"
   ]
  },
  {
   "cell_type": "markdown",
   "metadata": {
    "id": "4kR49HUGjpls"
   },
   "source": [
    "## Cleaning: Examing the dataframe - quick checks\n",
    "\n",
    "First, we should have a look at the data types of each column. This usually already gives a good impression about what kind of values there appear in a column. You can use ```df.dtypes``` for that.\n",
    "\n",
    "### Exercise: Data types of columns\n",
    "1. Have a look at the data types and discuss them. Do they make sense? We will later fix some of the data types.\n",
    "\n",
    "- float is a floating point number (e.g., 1.342)\n",
    "- object is used in Pandas for storing strings (e.g., \"Steven King\")"
   ]
  },
  {
   "cell_type": "code",
   "execution_count": 17,
   "metadata": {
    "colab": {
     "base_uri": "https://localhost:8080/"
    },
    "id": "sjbrUIneTlfn",
    "outputId": "78aeb5e3-dc0c-4cf5-f7b0-dded27792801"
   },
   "outputs": [
    {
     "name": "stdout",
     "output_type": "stream",
     "text": [
      "rating          float64\n",
      "review_count    float64\n",
      "isbn             object\n",
      "booktype         object\n",
      "author_url       object\n",
      "year            float64\n",
      "genre_urls       object\n",
      "dir              object\n",
      "rating_count    float64\n",
      "name             object\n",
      "dtype: object\n"
     ]
    }
   ],
   "source": [
    "#1.\n",
    "print(df.dtypes)"
   ]
  },
  {
   "cell_type": "markdown",
   "metadata": {
    "id": "p1RrVX9DZQc6"
   },
   "source": [
    "## Data Selection\n",
    "\n",
    "Frequently, you want to select a single column and have some operation on that column. You can access a single columns with ```df[column_name]```. Let's have a look."
   ]
  },
  {
   "cell_type": "code",
   "execution_count": 19,
   "metadata": {
    "colab": {
     "base_uri": "https://localhost:8080/"
    },
    "id": "ZbEp46wKIPxh",
    "outputId": "a5c2e118-bca4-4cc6-9d3c-760161d39e62"
   },
   "outputs": [
    {
     "data": {
      "text/plain": [
       "0              The Hunger Games (The Hunger Games, #1)\n",
       "1    Harry Potter and the Order of the Phoenix (Har...\n",
       "2                              Twilight (Twilight, #1)\n",
       "3                                To Kill a Mockingbird\n",
       "4                                  Pride and Prejudice\n",
       "5                                   Gone with the Wind\n",
       "6    The Chronicles of Narnia (Chronicles of Narnia...\n",
       "7                                      The Giving Tree\n",
       "8                                          Animal Farm\n",
       "9    The Hitchhiker's Guide to the Galaxy (Hitchhik...\n",
       "Name: name, dtype: object"
      ]
     },
     "execution_count": 19,
     "metadata": {},
     "output_type": "execute_result"
    }
   ],
   "source": [
    "df['name'].head(10)"
   ]
  },
  {
   "cell_type": "code",
   "execution_count": 20,
   "metadata": {
    "colab": {
     "base_uri": "https://localhost:8080/",
     "height": 269
    },
    "id": "HCsn0PTRgbhn",
    "outputId": "de7d33cb-116a-454b-c577-ed934abc07eb"
   },
   "outputs": [
    {
     "data": {
      "text/html": [
       "<div>\n",
       "<style scoped>\n",
       "    .dataframe tbody tr th:only-of-type {\n",
       "        vertical-align: middle;\n",
       "    }\n",
       "\n",
       "    .dataframe tbody tr th {\n",
       "        vertical-align: top;\n",
       "    }\n",
       "\n",
       "    .dataframe thead th {\n",
       "        text-align: right;\n",
       "    }\n",
       "</style>\n",
       "<table border=\"1\" class=\"dataframe\">\n",
       "  <thead>\n",
       "    <tr style=\"text-align: right;\">\n",
       "      <th></th>\n",
       "      <th>isbn</th>\n",
       "      <th>name</th>\n",
       "    </tr>\n",
       "  </thead>\n",
       "  <tbody>\n",
       "    <tr>\n",
       "      <th>0</th>\n",
       "      <td>0439023483</td>\n",
       "      <td>The Hunger Games (The Hunger Games, #1)</td>\n",
       "    </tr>\n",
       "    <tr>\n",
       "      <th>1</th>\n",
       "      <td>0439358078</td>\n",
       "      <td>Harry Potter and the Order of the Phoenix (Har...</td>\n",
       "    </tr>\n",
       "    <tr>\n",
       "      <th>2</th>\n",
       "      <td>0316015849</td>\n",
       "      <td>Twilight (Twilight, #1)</td>\n",
       "    </tr>\n",
       "    <tr>\n",
       "      <th>3</th>\n",
       "      <td>0061120081</td>\n",
       "      <td>To Kill a Mockingbird</td>\n",
       "    </tr>\n",
       "    <tr>\n",
       "      <th>4</th>\n",
       "      <td>0679783261</td>\n",
       "      <td>Pride and Prejudice</td>\n",
       "    </tr>\n",
       "    <tr>\n",
       "      <th>5</th>\n",
       "      <td>0446675539</td>\n",
       "      <td>Gone with the Wind</td>\n",
       "    </tr>\n",
       "    <tr>\n",
       "      <th>6</th>\n",
       "      <td>0066238501</td>\n",
       "      <td>The Chronicles of Narnia (Chronicles of Narnia...</td>\n",
       "    </tr>\n",
       "  </tbody>\n",
       "</table>\n",
       "</div>"
      ],
      "text/plain": [
       "         isbn                                               name\n",
       "0  0439023483            The Hunger Games (The Hunger Games, #1)\n",
       "1  0439358078  Harry Potter and the Order of the Phoenix (Har...\n",
       "2  0316015849                            Twilight (Twilight, #1)\n",
       "3  0061120081                              To Kill a Mockingbird\n",
       "4  0679783261                                Pride and Prejudice\n",
       "5  0446675539                                 Gone with the Wind\n",
       "6  0066238501  The Chronicles of Narnia (Chronicles of Narnia..."
      ]
     },
     "execution_count": 20,
     "metadata": {},
     "output_type": "execute_result"
    }
   ],
   "source": [
    "# select 2 columns\n",
    "# Watch out: if you want multiple columns, you have to pass it as a list\n",
    "df[['isbn', 'name']].head(7)"
   ]
  },
  {
   "cell_type": "code",
   "execution_count": 21,
   "metadata": {
    "colab": {
     "base_uri": "https://localhost:8080/",
     "height": 206
    },
    "id": "v0omUnjEg2dU",
    "outputId": "f5c90831-7d08-4a47-c714-b522bd4a00c0"
   },
   "outputs": [
    {
     "data": {
      "text/html": [
       "<div>\n",
       "<style scoped>\n",
       "    .dataframe tbody tr th:only-of-type {\n",
       "        vertical-align: middle;\n",
       "    }\n",
       "\n",
       "    .dataframe tbody tr th {\n",
       "        vertical-align: top;\n",
       "    }\n",
       "\n",
       "    .dataframe thead th {\n",
       "        text-align: right;\n",
       "    }\n",
       "</style>\n",
       "<table border=\"1\" class=\"dataframe\">\n",
       "  <thead>\n",
       "    <tr style=\"text-align: right;\">\n",
       "      <th></th>\n",
       "      <th>isbn</th>\n",
       "      <th>name</th>\n",
       "    </tr>\n",
       "  </thead>\n",
       "  <tbody>\n",
       "    <tr>\n",
       "      <th>5993</th>\n",
       "      <td>0345515501</td>\n",
       "      <td>The Silent Girl (Rizzoli &amp; Isles, #9)</td>\n",
       "    </tr>\n",
       "    <tr>\n",
       "      <th>5994</th>\n",
       "      <td>0393062260</td>\n",
       "      <td>The Book of Psalms</td>\n",
       "    </tr>\n",
       "    <tr>\n",
       "      <th>5995</th>\n",
       "      <td>0767913736</td>\n",
       "      <td>The River of Doubt</td>\n",
       "    </tr>\n",
       "    <tr>\n",
       "      <th>5996</th>\n",
       "      <td>1416909427</td>\n",
       "      <td>Shug</td>\n",
       "    </tr>\n",
       "    <tr>\n",
       "      <th>5997</th>\n",
       "      <td>1620612321</td>\n",
       "      <td>Flawed</td>\n",
       "    </tr>\n",
       "    <tr>\n",
       "      <th>5998</th>\n",
       "      <td>NaN</td>\n",
       "      <td>Ø£Ø³Ø¹Ø¯ Ø§Ù",
       "Ø±Ø£Ø© ÙÙ Ø§ÙØ¹Ø§ÙÙ</td>\n",
       "    </tr>\n",
       "    <tr>\n",
       "      <th>5999</th>\n",
       "      <td>0786929081</td>\n",
       "      <td>Legacy of the Drow Collector's Edition (Legacy...</td>\n",
       "    </tr>\n",
       "  </tbody>\n",
       "</table>\n",
       "</div>"
      ],
      "text/plain": [
       "            isbn                                               name\n",
       "5993  0345515501              The Silent Girl (Rizzoli & Isles, #9)\n",
       "5994  0393062260                                 The Book of Psalms\n",
       "5995  0767913736                                 The River of Doubt\n",
       "5996  1416909427                                               Shug\n",
       "5997  1620612321                                             Flawed\n",
       "5998         NaN              Ø£Ø³Ø¹Ø¯ Ø§Ù\n",
       "Ø±Ø£Ø© ÙÙ Ø§ÙØ¹Ø§ÙÙ\n",
       "\n",
       "5999  0786929081  Legacy of the Drow Collector's Edition (Legacy..."
      ]
     },
     "execution_count": 21,
     "metadata": {},
     "output_type": "execute_result"
    }
   ],
   "source": [
    "col_a = 'isbn'\n",
    "col_b = 'name'\n",
    "\n",
    "df[[col_a, col_b]].tail(7)"
   ]
  },
  {
   "cell_type": "markdown",
   "metadata": {
    "id": "XYdWRpyzc3oG"
   },
   "source": [
    "## Indexing\n",
    "Indexing means that you want to access one or multiple rows. There are two different ways to do that.\n",
    "\n",
    "- First, you can use the **integer index of the rows** (starting with 0) using **`df.iloc`**. Thereby, the ```n-th``` row is accessed by ```df.iloc[n-1]```. This is quite similar to indexing in lists, which we covered in the last exercise. With `.iloc`, the elements are counted from the top down.\n",
    "- A second approach is to use the **row labels (i.e., index) using `.loc`**. You have probably seen above that there are these bold numbers at the very left of the output of the dataframe. These are called the index in the world of Pandas. You can select the index ```i``` by calling ```df.loc[i]```. "
   ]
  },
  {
   "cell_type": "code",
   "execution_count": 23,
   "metadata": {
    "colab": {
     "base_uri": "https://localhost:8080/"
    },
    "id": "PYsfUqKjhigg",
    "outputId": "b473fd8a-018f-4c42-e54f-048061d04ce0"
   },
   "outputs": [
    {
     "data": {
      "text/plain": [
       "rating                                                        4.4\n",
       "review_count                                             136455.0\n",
       "isbn                                                   0439023483\n",
       "booktype                                          good_reads:book\n",
       "author_url      https://www.goodreads.com/author/show/153394.S...\n",
       "year                                                       2008.0\n",
       "genre_urls      /genres/young-adult|/genres/science-fiction|/g...\n",
       "dir                           dir01/2767052-the-hunger-games.html\n",
       "rating_count                                            2958974.0\n",
       "name                      The Hunger Games (The Hunger Games, #1)\n",
       "Name: 0, dtype: object"
      ]
     },
     "execution_count": 23,
     "metadata": {},
     "output_type": "execute_result"
    }
   ],
   "source": [
    "# get the first row -> notice: iloc uses the row numbers but not the value of the index\n",
    "df.loc[0]"
   ]
  },
  {
   "cell_type": "code",
   "execution_count": 24,
   "metadata": {},
   "outputs": [
    {
     "data": {
      "text/plain": [
       "[RangeIndex(start=0, stop=6000, step=1),\n",
       " Index(['rating', 'review_count', 'isbn', 'booktype', 'author_url', 'year',\n",
       "        'genre_urls', 'dir', 'rating_count', 'name'],\n",
       "       dtype='object')]"
      ]
     },
     "execution_count": 24,
     "metadata": {},
     "output_type": "execute_result"
    }
   ],
   "source": [
    "#the followint attribute gives us the dimensions of the data frame\n",
    "df.axes"
   ]
  },
  {
   "cell_type": "markdown",
   "metadata": {},
   "source": [
    "At the moment, the integer index (`.iloc`) and the index (`.loc`) lead to the same result, but this will change later."
   ]
  },
  {
   "cell_type": "code",
   "execution_count": 26,
   "metadata": {},
   "outputs": [
    {
     "data": {
      "text/plain": [
       "rating                                                        4.4\n",
       "review_count                                             136455.0\n",
       "isbn                                                   0439023483\n",
       "booktype                                          good_reads:book\n",
       "author_url      https://www.goodreads.com/author/show/153394.S...\n",
       "year                                                       2008.0\n",
       "genre_urls      /genres/young-adult|/genres/science-fiction|/g...\n",
       "dir                           dir01/2767052-the-hunger-games.html\n",
       "rating_count                                            2958974.0\n",
       "name                      The Hunger Games (The Hunger Games, #1)\n",
       "Name: 0, dtype: object"
      ]
     },
     "execution_count": 26,
     "metadata": {},
     "output_type": "execute_result"
    }
   ],
   "source": [
    "df.loc[0]"
   ]
  },
  {
   "cell_type": "code",
   "execution_count": 27,
   "metadata": {
    "colab": {
     "base_uri": "https://localhost:8080/",
     "height": 319
    },
    "id": "pppKHkpQh0jM",
    "outputId": "5da47bdf-150c-41d6-b954-99a17f6aea32"
   },
   "outputs": [
    {
     "data": {
      "text/html": [
       "<div>\n",
       "<style scoped>\n",
       "    .dataframe tbody tr th:only-of-type {\n",
       "        vertical-align: middle;\n",
       "    }\n",
       "\n",
       "    .dataframe tbody tr th {\n",
       "        vertical-align: top;\n",
       "    }\n",
       "\n",
       "    .dataframe thead th {\n",
       "        text-align: right;\n",
       "    }\n",
       "</style>\n",
       "<table border=\"1\" class=\"dataframe\">\n",
       "  <thead>\n",
       "    <tr style=\"text-align: right;\">\n",
       "      <th></th>\n",
       "      <th>rating</th>\n",
       "      <th>review_count</th>\n",
       "      <th>isbn</th>\n",
       "      <th>booktype</th>\n",
       "      <th>author_url</th>\n",
       "      <th>year</th>\n",
       "      <th>genre_urls</th>\n",
       "      <th>dir</th>\n",
       "      <th>rating_count</th>\n",
       "      <th>name</th>\n",
       "    </tr>\n",
       "  </thead>\n",
       "  <tbody>\n",
       "    <tr>\n",
       "      <th>5995</th>\n",
       "      <td>4.17</td>\n",
       "      <td>2226.0</td>\n",
       "      <td>0767913736</td>\n",
       "      <td>good_reads:book</td>\n",
       "      <td>https://www.goodreads.com/author/show/44565.Ca...</td>\n",
       "      <td>2005.0</td>\n",
       "      <td>/genres/history|/genres/non-fiction|/genres/bi...</td>\n",
       "      <td>dir60/78508.The_River_of_Doubt.html</td>\n",
       "      <td>16618.0</td>\n",
       "      <td>The River of Doubt</td>\n",
       "    </tr>\n",
       "    <tr>\n",
       "      <th>5996</th>\n",
       "      <td>3.99</td>\n",
       "      <td>775.0</td>\n",
       "      <td>1416909427</td>\n",
       "      <td>good_reads:book</td>\n",
       "      <td>https://www.goodreads.com/author/show/151371.J...</td>\n",
       "      <td>2006.0</td>\n",
       "      <td>/genres/young-adult|/genres/realistic-fiction|...</td>\n",
       "      <td>dir60/259068.Shug.html</td>\n",
       "      <td>6179.0</td>\n",
       "      <td>Shug</td>\n",
       "    </tr>\n",
       "    <tr>\n",
       "      <th>5997</th>\n",
       "      <td>3.78</td>\n",
       "      <td>540.0</td>\n",
       "      <td>1620612321</td>\n",
       "      <td>good_reads:book</td>\n",
       "      <td>https://www.goodreads.com/author/show/5761314....</td>\n",
       "      <td>2012.0</td>\n",
       "      <td>/genres/contemporary|/genres/romance|/genres/y...</td>\n",
       "      <td>dir60/13503247-flawed.html</td>\n",
       "      <td>2971.0</td>\n",
       "      <td>Flawed</td>\n",
       "    </tr>\n",
       "    <tr>\n",
       "      <th>5998</th>\n",
       "      <td>3.91</td>\n",
       "      <td>281.0</td>\n",
       "      <td>NaN</td>\n",
       "      <td>good_reads:book</td>\n",
       "      <td>https://www.goodreads.com/author/show/1201952....</td>\n",
       "      <td>2006.0</td>\n",
       "      <td>/genres/religion|/genres/islam|/genres/religio...</td>\n",
       "      <td>dir60/2750008.html</td>\n",
       "      <td>3083.0</td>\n",
       "      <td>Ø£Ø³Ø¹Ø¯ Ø§Ù",
       "Ø±Ø£Ø© ÙÙ Ø§ÙØ¹Ø§ÙÙ</td>\n",
       "    </tr>\n",
       "    <tr>\n",
       "      <th>5999</th>\n",
       "      <td>4.35</td>\n",
       "      <td>61.0</td>\n",
       "      <td>0786929081</td>\n",
       "      <td>good_reads:book</td>\n",
       "      <td>https://www.goodreads.com/author/show/1023510....</td>\n",
       "      <td>2001.0</td>\n",
       "      <td>/genres/fiction|/genres/fantasy|/genres/magic|...</td>\n",
       "      <td>dir60/66677.Legacy_of_the_Drow_Collector_s_Edi...</td>\n",
       "      <td>3982.0</td>\n",
       "      <td>Legacy of the Drow Collector's Edition (Legacy...</td>\n",
       "    </tr>\n",
       "  </tbody>\n",
       "</table>\n",
       "</div>"
      ],
      "text/plain": [
       "      rating  review_count        isbn         booktype  \\\n",
       "5995    4.17        2226.0  0767913736  good_reads:book   \n",
       "5996    3.99         775.0  1416909427  good_reads:book   \n",
       "5997    3.78         540.0  1620612321  good_reads:book   \n",
       "5998    3.91         281.0         NaN  good_reads:book   \n",
       "5999    4.35          61.0  0786929081  good_reads:book   \n",
       "\n",
       "                                             author_url    year  \\\n",
       "5995  https://www.goodreads.com/author/show/44565.Ca...  2005.0   \n",
       "5996  https://www.goodreads.com/author/show/151371.J...  2006.0   \n",
       "5997  https://www.goodreads.com/author/show/5761314....  2012.0   \n",
       "5998  https://www.goodreads.com/author/show/1201952....  2006.0   \n",
       "5999  https://www.goodreads.com/author/show/1023510....  2001.0   \n",
       "\n",
       "                                             genre_urls  \\\n",
       "5995  /genres/history|/genres/non-fiction|/genres/bi...   \n",
       "5996  /genres/young-adult|/genres/realistic-fiction|...   \n",
       "5997  /genres/contemporary|/genres/romance|/genres/y...   \n",
       "5998  /genres/religion|/genres/islam|/genres/religio...   \n",
       "5999  /genres/fiction|/genres/fantasy|/genres/magic|...   \n",
       "\n",
       "                                                    dir  rating_count  \\\n",
       "5995                dir60/78508.The_River_of_Doubt.html       16618.0   \n",
       "5996                             dir60/259068.Shug.html        6179.0   \n",
       "5997                         dir60/13503247-flawed.html        2971.0   \n",
       "5998                                 dir60/2750008.html        3083.0   \n",
       "5999  dir60/66677.Legacy_of_the_Drow_Collector_s_Edi...        3982.0   \n",
       "\n",
       "                                                   name  \n",
       "5995                                 The River of Doubt  \n",
       "5996                                               Shug  \n",
       "5997                                             Flawed  \n",
       "5998              Ø£Ø³Ø¹Ø¯ Ø§Ù\n",
       "Ø±Ø£Ø© ÙÙ Ø§ÙØ¹Ø§ÙÙ\n",
       "  \n",
       "5999  Legacy of the Drow Collector's Edition (Legacy...  "
      ]
     },
     "execution_count": 27,
     "metadata": {},
     "output_type": "execute_result"
    }
   ],
   "source": [
    "# get the last 5 rows\n",
    "df.iloc[-5:]"
   ]
  },
  {
   "cell_type": "markdown",
   "metadata": {
    "id": "pE8ZmfYWyqCK"
   },
   "source": [
    "### Exercise: Indexing I\n",
    "1. Do you remember the negativ index? If not, you can discuss it briefly again in your group."
   ]
  },
  {
   "cell_type": "code",
   "execution_count": 29,
   "metadata": {
    "colab": {
     "base_uri": "https://localhost:8080/",
     "height": 191
    },
    "id": "dZUQHlCoiI6h",
    "outputId": "5725b469-a07a-4642-ed5e-69f843b5e377"
   },
   "outputs": [
    {
     "data": {
      "text/html": [
       "<div>\n",
       "<style scoped>\n",
       "    .dataframe tbody tr th:only-of-type {\n",
       "        vertical-align: middle;\n",
       "    }\n",
       "\n",
       "    .dataframe tbody tr th {\n",
       "        vertical-align: top;\n",
       "    }\n",
       "\n",
       "    .dataframe thead th {\n",
       "        text-align: right;\n",
       "    }\n",
       "</style>\n",
       "<table border=\"1\" class=\"dataframe\">\n",
       "  <thead>\n",
       "    <tr style=\"text-align: right;\">\n",
       "      <th></th>\n",
       "      <th>rating</th>\n",
       "      <th>review_count</th>\n",
       "      <th>isbn</th>\n",
       "      <th>booktype</th>\n",
       "      <th>author_url</th>\n",
       "      <th>year</th>\n",
       "      <th>genre_urls</th>\n",
       "      <th>dir</th>\n",
       "      <th>rating_count</th>\n",
       "      <th>name</th>\n",
       "    </tr>\n",
       "  </thead>\n",
       "  <tbody>\n",
       "    <tr>\n",
       "      <th>5995</th>\n",
       "      <td>4.17</td>\n",
       "      <td>2226.0</td>\n",
       "      <td>0767913736</td>\n",
       "      <td>good_reads:book</td>\n",
       "      <td>https://www.goodreads.com/author/show/44565.Ca...</td>\n",
       "      <td>2005.0</td>\n",
       "      <td>/genres/history|/genres/non-fiction|/genres/bi...</td>\n",
       "      <td>dir60/78508.The_River_of_Doubt.html</td>\n",
       "      <td>16618.0</td>\n",
       "      <td>The River of Doubt</td>\n",
       "    </tr>\n",
       "    <tr>\n",
       "      <th>5999</th>\n",
       "      <td>4.35</td>\n",
       "      <td>61.0</td>\n",
       "      <td>0786929081</td>\n",
       "      <td>good_reads:book</td>\n",
       "      <td>https://www.goodreads.com/author/show/1023510....</td>\n",
       "      <td>2001.0</td>\n",
       "      <td>/genres/fiction|/genres/fantasy|/genres/magic|...</td>\n",
       "      <td>dir60/66677.Legacy_of_the_Drow_Collector_s_Edi...</td>\n",
       "      <td>3982.0</td>\n",
       "      <td>Legacy of the Drow Collector's Edition (Legacy...</td>\n",
       "    </tr>\n",
       "  </tbody>\n",
       "</table>\n",
       "</div>"
      ],
      "text/plain": [
       "      rating  review_count        isbn         booktype  \\\n",
       "5995    4.17        2226.0  0767913736  good_reads:book   \n",
       "5999    4.35          61.0  0786929081  good_reads:book   \n",
       "\n",
       "                                             author_url    year  \\\n",
       "5995  https://www.goodreads.com/author/show/44565.Ca...  2005.0   \n",
       "5999  https://www.goodreads.com/author/show/1023510....  2001.0   \n",
       "\n",
       "                                             genre_urls  \\\n",
       "5995  /genres/history|/genres/non-fiction|/genres/bi...   \n",
       "5999  /genres/fiction|/genres/fantasy|/genres/magic|...   \n",
       "\n",
       "                                                    dir  rating_count  \\\n",
       "5995                dir60/78508.The_River_of_Doubt.html       16618.0   \n",
       "5999  dir60/66677.Legacy_of_the_Drow_Collector_s_Edi...        3982.0   \n",
       "\n",
       "                                                   name  \n",
       "5995                                 The River of Doubt  \n",
       "5999  Legacy of the Drow Collector's Edition (Legacy...  "
      ]
     },
     "execution_count": 29,
     "metadata": {},
     "output_type": "execute_result"
    }
   ],
   "source": [
    "# loc works with the actual values of the index, not with the row number. We will see that this makes a difference later\n",
    "df.loc[[5995, 5999]]"
   ]
  },
  {
   "cell_type": "markdown",
   "metadata": {
    "id": "WQRKvNp6hbTG"
   },
   "source": [
    "## Choose rows by condition\n",
    "\n",
    "The fun usually starts, when cutting rows out of the dataframe and have a closer look at them. Let's have a look at how to do that."
   ]
  },
  {
   "cell_type": "code",
   "execution_count": 31,
   "metadata": {
    "colab": {
     "base_uri": "https://localhost:8080/"
    },
    "id": "7SQIsRq_jwlE",
    "outputId": "c5e9d38d-1cab-4a30-e1bd-4eae1d3b4204"
   },
   "outputs": [
    {
     "data": {
      "text/plain": [
       "0       False\n",
       "1       False\n",
       "2       False\n",
       "3       False\n",
       "4       False\n",
       "        ...  \n",
       "5995    False\n",
       "5996    False\n",
       "5997     True\n",
       "5998    False\n",
       "5999    False\n",
       "Name: year, Length: 6000, dtype: bool"
      ]
     },
     "execution_count": 31,
     "metadata": {},
     "output_type": "execute_result"
    }
   ],
   "source": [
    "# check whether book was published after 2010\n",
    "df['year'] > 2010"
   ]
  },
  {
   "cell_type": "markdown",
   "metadata": {
    "id": "bniQrNwYJqLJ"
   },
   "source": [
    "You see a Boolean value for each row if the entry in the column ```year``` is greater than 2010. This output is not too informative itself. However, you can store the output and then find out statistics, such as the sum or the mean.\n",
    "\n",
    "### Exercise: Indexing II\n",
    "\n",
    "1. Store the above output in a variable ```x```.\n",
    "2. Determine the data type of ```x```.\n",
    "3. Search online, how to get the sum and the mean of ```x```. Does the sum and mean make sense on Boolean values? Discuss in the group what these numbers represent."
   ]
  },
  {
   "cell_type": "code",
   "execution_count": 33,
   "metadata": {
    "colab": {
     "base_uri": "https://localhost:8080/"
    },
    "id": "1sIacS2ITyK-",
    "outputId": "731f6b5a-2034-4f01-f98a-ca89b055713a"
   },
   "outputs": [
    {
     "name": "stdout",
     "output_type": "stream",
     "text": [
      "bool\n",
      "<class 'pandas.core.series.Series'>\n",
      "1092\n",
      "0.182\n"
     ]
    }
   ],
   "source": [
    "#1.\n",
    "x = df['year'] > 2010\n",
    "\n",
    "#2.\n",
    "print(x.dtype)\n",
    "print(type(x))\n",
    "\n",
    "#3.\n",
    "print(x.sum())\n",
    "print(x.mean())"
   ]
  },
  {
   "cell_type": "markdown",
   "metadata": {
    "id": "P7zRA8vlKwDA"
   },
   "source": [
    "\n",
    "With the previous exercise, we already have a feeling about what kind of books there are in the dataframe in terms of year published. But now, we want to have all the information about these books. We can do this as follows."
   ]
  },
  {
   "cell_type": "code",
   "execution_count": 35,
   "metadata": {
    "id": "W0iHGt7Oj1G9"
   },
   "outputs": [],
   "source": [
    "# get all entries where the book was published after 2010\n",
    "#df_after_2010 = df[df['year'] > 2010]\n",
    "df_after_2010 = df[x] #would lead to the same result"
   ]
  },
  {
   "cell_type": "code",
   "execution_count": 36,
   "metadata": {
    "colab": {
     "base_uri": "https://localhost:8080/",
     "height": 528
    },
    "id": "GYKkoSgQkEOP",
    "outputId": "23b5c2e9-0f23-4bb9-e4ff-f1b4cfcb34b8"
   },
   "outputs": [
    {
     "data": {
      "text/html": [
       "<div>\n",
       "<style scoped>\n",
       "    .dataframe tbody tr th:only-of-type {\n",
       "        vertical-align: middle;\n",
       "    }\n",
       "\n",
       "    .dataframe tbody tr th {\n",
       "        vertical-align: top;\n",
       "    }\n",
       "\n",
       "    .dataframe thead th {\n",
       "        text-align: right;\n",
       "    }\n",
       "</style>\n",
       "<table border=\"1\" class=\"dataframe\">\n",
       "  <thead>\n",
       "    <tr style=\"text-align: right;\">\n",
       "      <th></th>\n",
       "      <th>rating</th>\n",
       "      <th>review_count</th>\n",
       "      <th>isbn</th>\n",
       "      <th>booktype</th>\n",
       "      <th>author_url</th>\n",
       "      <th>year</th>\n",
       "      <th>genre_urls</th>\n",
       "      <th>dir</th>\n",
       "      <th>rating_count</th>\n",
       "      <th>name</th>\n",
       "    </tr>\n",
       "  </thead>\n",
       "  <tbody>\n",
       "    <tr>\n",
       "      <th>26</th>\n",
       "      <td>4.43</td>\n",
       "      <td>112279.0</td>\n",
       "      <td>0525478817</td>\n",
       "      <td>good_reads:book</td>\n",
       "      <td>https://www.goodreads.com/author/show/1406384....</td>\n",
       "      <td>2012.0</td>\n",
       "      <td>/genres/young-adult|/genres/book-club|/genres/...</td>\n",
       "      <td>dir01/11870085-the-fault-in-our-stars.html</td>\n",
       "      <td>1150626.0</td>\n",
       "      <td>The Fault in Our Stars</td>\n",
       "    </tr>\n",
       "    <tr>\n",
       "      <th>43</th>\n",
       "      <td>4.34</td>\n",
       "      <td>82098.0</td>\n",
       "      <td>0062024035</td>\n",
       "      <td>good_reads:book</td>\n",
       "      <td>https://www.goodreads.com/author/show/4039811....</td>\n",
       "      <td>2011.0</td>\n",
       "      <td>/genres/young-adult|/genres/science-fiction|/g...</td>\n",
       "      <td>dir01/13335037-divergent.html</td>\n",
       "      <td>1127983.0</td>\n",
       "      <td>Divergent (Divergent, #1)</td>\n",
       "    </tr>\n",
       "    <tr>\n",
       "      <th>163</th>\n",
       "      <td>4.17</td>\n",
       "      <td>43787.0</td>\n",
       "      <td>0007442912</td>\n",
       "      <td>good_reads:book</td>\n",
       "      <td>https://www.goodreads.com/author/show/4039811....</td>\n",
       "      <td>2012.0</td>\n",
       "      <td>/genres/science-fiction|/genres/dystopia|/genr...</td>\n",
       "      <td>dir02/11735983-insurgent.html</td>\n",
       "      <td>552682.0</td>\n",
       "      <td>Insurgent (Divergent, #2)</td>\n",
       "    </tr>\n",
       "    <tr>\n",
       "      <th>209</th>\n",
       "      <td>3.69</td>\n",
       "      <td>64489.0</td>\n",
       "      <td>1612130291</td>\n",
       "      <td>good_reads:book</td>\n",
       "      <td>https://www.goodreads.com/author/show/4725841....</td>\n",
       "      <td>2011.0</td>\n",
       "      <td>/genres/romance|/genres/adult-fiction|/genres/...</td>\n",
       "      <td>dir03/10818853-fifty-shades-of-grey.html</td>\n",
       "      <td>922131.0</td>\n",
       "      <td>Fifty Shades of Grey (Fifty Shades, #1)</td>\n",
       "    </tr>\n",
       "    <tr>\n",
       "      <th>256</th>\n",
       "      <td>4.16</td>\n",
       "      <td>13452.0</td>\n",
       "      <td>1442403543</td>\n",
       "      <td>good_reads:book</td>\n",
       "      <td>https://www.goodreads.com/author/show/150038.C...</td>\n",
       "      <td>2011.0</td>\n",
       "      <td>/genres/young-adult|/genres/paranormal|/genres...</td>\n",
       "      <td>dir03/6752378-city-of-fallen-angels.html</td>\n",
       "      <td>224643.0</td>\n",
       "      <td>City of Fallen Angels (The Mortal Instruments,...</td>\n",
       "    </tr>\n",
       "    <tr>\n",
       "      <th>265</th>\n",
       "      <td>4.04</td>\n",
       "      <td>19435.0</td>\n",
       "      <td>0061726834</td>\n",
       "      <td>good_reads:book</td>\n",
       "      <td>https://www.goodreads.com/author/show/2936493....</td>\n",
       "      <td>2011.0</td>\n",
       "      <td>/genres/young-adult|/genres/science-fiction|/g...</td>\n",
       "      <td>dir03/11614718-delirium.html</td>\n",
       "      <td>229511.0</td>\n",
       "      <td>Delirium (Delirium, #1)</td>\n",
       "    </tr>\n",
       "    <tr>\n",
       "      <th>282</th>\n",
       "      <td>4.48</td>\n",
       "      <td>11827.0</td>\n",
       "      <td>1416975888</td>\n",
       "      <td>good_reads:book</td>\n",
       "      <td>https://www.goodreads.com/author/show/150038.C...</td>\n",
       "      <td>2011.0</td>\n",
       "      <td>/genres/fantasy|/genres/young-adult|/genres/fa...</td>\n",
       "      <td>dir03/10025305-clockwork-prince.html</td>\n",
       "      <td>175876.0</td>\n",
       "      <td>Clockwork Prince (The Infernal Devices, #2)</td>\n",
       "    </tr>\n",
       "    <tr>\n",
       "      <th>284</th>\n",
       "      <td>4.58</td>\n",
       "      <td>15195.0</td>\n",
       "      <td>1406321346</td>\n",
       "      <td>good_reads:book</td>\n",
       "      <td>https://www.goodreads.com/author/show/150038.C...</td>\n",
       "      <td>2013.0</td>\n",
       "      <td>/genres/fantasy|/genres/young-adult|/genres/fa...</td>\n",
       "      <td>dir03/18335634-clockwork-princess.html</td>\n",
       "      <td>130161.0</td>\n",
       "      <td>Clockwork Princess (The Infernal Devices, #3)</td>\n",
       "    </tr>\n",
       "    <tr>\n",
       "      <th>299</th>\n",
       "      <td>4.20</td>\n",
       "      <td>19915.0</td>\n",
       "      <td>NaN</td>\n",
       "      <td>good_reads:book</td>\n",
       "      <td>https://www.goodreads.com/author/show/4464118....</td>\n",
       "      <td>2011.0</td>\n",
       "      <td>/genres/romance|/genres/new-adult|/genres/youn...</td>\n",
       "      <td>dir03/11505797-beautiful-disaster.html</td>\n",
       "      <td>271613.0</td>\n",
       "      <td>Beautiful Disaster (Beautiful, #1)</td>\n",
       "    </tr>\n",
       "    <tr>\n",
       "      <th>329</th>\n",
       "      <td>3.93</td>\n",
       "      <td>23622.0</td>\n",
       "      <td>1612130585</td>\n",
       "      <td>good_reads:book</td>\n",
       "      <td>https://www.goodreads.com/author/show/4725841....</td>\n",
       "      <td>2011.0</td>\n",
       "      <td>/genres/romance|/genres/adult-fiction|/genres/...</td>\n",
       "      <td>dir04/11857408-fifty-shades-darker.html</td>\n",
       "      <td>431846.0</td>\n",
       "      <td>Fifty Shades Darker (Fifty Shades, #2)</td>\n",
       "    </tr>\n",
       "  </tbody>\n",
       "</table>\n",
       "</div>"
      ],
      "text/plain": [
       "     rating  review_count        isbn         booktype  \\\n",
       "26     4.43      112279.0  0525478817  good_reads:book   \n",
       "43     4.34       82098.0  0062024035  good_reads:book   \n",
       "163    4.17       43787.0  0007442912  good_reads:book   \n",
       "209    3.69       64489.0  1612130291  good_reads:book   \n",
       "256    4.16       13452.0  1442403543  good_reads:book   \n",
       "265    4.04       19435.0  0061726834  good_reads:book   \n",
       "282    4.48       11827.0  1416975888  good_reads:book   \n",
       "284    4.58       15195.0  1406321346  good_reads:book   \n",
       "299    4.20       19915.0         NaN  good_reads:book   \n",
       "329    3.93       23622.0  1612130585  good_reads:book   \n",
       "\n",
       "                                            author_url    year  \\\n",
       "26   https://www.goodreads.com/author/show/1406384....  2012.0   \n",
       "43   https://www.goodreads.com/author/show/4039811....  2011.0   \n",
       "163  https://www.goodreads.com/author/show/4039811....  2012.0   \n",
       "209  https://www.goodreads.com/author/show/4725841....  2011.0   \n",
       "256  https://www.goodreads.com/author/show/150038.C...  2011.0   \n",
       "265  https://www.goodreads.com/author/show/2936493....  2011.0   \n",
       "282  https://www.goodreads.com/author/show/150038.C...  2011.0   \n",
       "284  https://www.goodreads.com/author/show/150038.C...  2013.0   \n",
       "299  https://www.goodreads.com/author/show/4464118....  2011.0   \n",
       "329  https://www.goodreads.com/author/show/4725841....  2011.0   \n",
       "\n",
       "                                            genre_urls  \\\n",
       "26   /genres/young-adult|/genres/book-club|/genres/...   \n",
       "43   /genres/young-adult|/genres/science-fiction|/g...   \n",
       "163  /genres/science-fiction|/genres/dystopia|/genr...   \n",
       "209  /genres/romance|/genres/adult-fiction|/genres/...   \n",
       "256  /genres/young-adult|/genres/paranormal|/genres...   \n",
       "265  /genres/young-adult|/genres/science-fiction|/g...   \n",
       "282  /genres/fantasy|/genres/young-adult|/genres/fa...   \n",
       "284  /genres/fantasy|/genres/young-adult|/genres/fa...   \n",
       "299  /genres/romance|/genres/new-adult|/genres/youn...   \n",
       "329  /genres/romance|/genres/adult-fiction|/genres/...   \n",
       "\n",
       "                                            dir  rating_count  \\\n",
       "26   dir01/11870085-the-fault-in-our-stars.html     1150626.0   \n",
       "43                dir01/13335037-divergent.html     1127983.0   \n",
       "163               dir02/11735983-insurgent.html      552682.0   \n",
       "209    dir03/10818853-fifty-shades-of-grey.html      922131.0   \n",
       "256    dir03/6752378-city-of-fallen-angels.html      224643.0   \n",
       "265                dir03/11614718-delirium.html      229511.0   \n",
       "282        dir03/10025305-clockwork-prince.html      175876.0   \n",
       "284      dir03/18335634-clockwork-princess.html      130161.0   \n",
       "299      dir03/11505797-beautiful-disaster.html      271613.0   \n",
       "329     dir04/11857408-fifty-shades-darker.html      431846.0   \n",
       "\n",
       "                                                  name  \n",
       "26                              The Fault in Our Stars  \n",
       "43                           Divergent (Divergent, #1)  \n",
       "163                          Insurgent (Divergent, #2)  \n",
       "209            Fifty Shades of Grey (Fifty Shades, #1)  \n",
       "256  City of Fallen Angels (The Mortal Instruments,...  \n",
       "265                            Delirium (Delirium, #1)  \n",
       "282        Clockwork Prince (The Infernal Devices, #2)  \n",
       "284      Clockwork Princess (The Infernal Devices, #3)  \n",
       "299                 Beautiful Disaster (Beautiful, #1)  \n",
       "329             Fifty Shades Darker (Fifty Shades, #2)  "
      ]
     },
     "execution_count": 36,
     "metadata": {},
     "output_type": "execute_result"
    }
   ],
   "source": [
    "df_after_2010.head(10)"
   ]
  },
  {
   "cell_type": "markdown",
   "metadata": {
    "id": "M0_pjOVIzO0b"
   },
   "source": [
    "Note, that the bolt index at the very left now does not simply count the rows. The reason for this is, that the dataframe ```df_after_2010``` is only a view on the original dataframe ```df``` (i.e., the values in the dataframe are not copied in the memory)."
   ]
  },
  {
   "cell_type": "markdown",
   "metadata": {
    "id": "dzLJdDcGLD7A"
   },
   "source": [
    "### Exercise: Indexing III\n",
    "\n",
    "1. Recall the difference between ```df.loc``` and ```df.iloc``` and select the 5-th row and then the row with index 299 of the dataframe ```df_after_2010```."
   ]
  },
  {
   "cell_type": "code",
   "execution_count": 39,
   "metadata": {
    "colab": {
     "base_uri": "https://localhost:8080/"
    },
    "id": "Ls7eUOPoYn-G",
    "outputId": "11d58896-6888-47bb-d2af-6345840da9f9"
   },
   "outputs": [
    {
     "name": "stdout",
     "output_type": "stream",
     "text": [
      "rating                                                       4.16\n",
      "review_count                                              13452.0\n",
      "isbn                                                   1442403543\n",
      "booktype                                          good_reads:book\n",
      "author_url      https://www.goodreads.com/author/show/150038.C...\n",
      "year                                                       2011.0\n",
      "genre_urls      /genres/young-adult|/genres/paranormal|/genres...\n",
      "dir                      dir03/6752378-city-of-fallen-angels.html\n",
      "rating_count                                             224643.0\n",
      "name            City of Fallen Angels (The Mortal Instruments,...\n",
      "Name: 256, dtype: object\n",
      "[Index([  26,   43,  163,  209,  256,  265,  282,  284,  299,  329,\n",
      "       ...\n",
      "       5946, 5947, 5972, 5973, 5974, 5975, 5976, 5989, 5993, 5997],\n",
      "      dtype='int64', length=1092), Index(['rating', 'review_count', 'isbn', 'booktype', 'author_url', 'year',\n",
      "       'genre_urls', 'dir', 'rating_count', 'name'],\n",
      "      dtype='object')]\n"
     ]
    }
   ],
   "source": [
    "#1.\n",
    "\n",
    "#print(df_after_2010.iloc[0]) \n",
    "#print(df_after_2010.loc[0]) #will not be found\n",
    "\n",
    "print(df_after_2010.iloc[4]) \n",
    "#print(df_after_2010.loc[299])\n",
    "#print(df_after_2010.iloc[299])\n",
    "\n",
    "#print(df_after_2010.loc[299]) \n",
    "#print(df_after_2010.iloc[299])\n",
    "\n",
    "print(df_after_2010.axes)\n",
    "#print(df_after_2010.shape)\n"
   ]
  },
  {
   "cell_type": "code",
   "execution_count": 40,
   "metadata": {
    "colab": {
     "base_uri": "https://localhost:8080/"
    },
    "id": "WXdxcUHwkGY4",
    "outputId": "6f38f38d-e82c-451c-dede-e0d8cc577690"
   },
   "outputs": [
    {
     "data": {
      "text/plain": [
       "(1092, 10)"
      ]
     },
     "execution_count": 40,
     "metadata": {},
     "output_type": "execute_result"
    }
   ],
   "source": [
    "# Lets see how many books were published after 2010\n",
    "df_after_2010.shape"
   ]
  },
  {
   "cell_type": "code",
   "execution_count": 41,
   "metadata": {
    "id": "_-9scY5ckJAg"
   },
   "outputs": [],
   "source": [
    "# Lets get the books that were published after 2010 and which have a rating of 5.0\n",
    "df_after_2010_rating_equal_5 = df[(df['year'] > 2010) & (df['rating'] == 5.0)]"
   ]
  },
  {
   "cell_type": "markdown",
   "metadata": {
    "id": "DAkpFSnbLep0"
   },
   "source": [
    "Now it's becoming more interesting. You can combine the selection criteria. You can combine them as follows:\n",
    "\n",
    "- ```x & y``` means ```x AND y```. So you tell that you want to have both criterias being True.\n",
    "- ```x | y``` means ```x OR y```. So you tell that you want at least one of the criterias being True (or both).\n",
    "- ```~x``` means ```NOT x```. So you tell that you want the criteria ```x``` to be False."
   ]
  },
  {
   "cell_type": "code",
   "execution_count": 43,
   "metadata": {
    "colab": {
     "base_uri": "https://localhost:8080/",
     "height": 382
    },
    "id": "pwyifsFGkvbf",
    "outputId": "949c57e3-e704-4869-95c4-c5bd30476724"
   },
   "outputs": [
    {
     "data": {
      "text/html": [
       "<div>\n",
       "<style scoped>\n",
       "    .dataframe tbody tr th:only-of-type {\n",
       "        vertical-align: middle;\n",
       "    }\n",
       "\n",
       "    .dataframe tbody tr th {\n",
       "        vertical-align: top;\n",
       "    }\n",
       "\n",
       "    .dataframe thead th {\n",
       "        text-align: right;\n",
       "    }\n",
       "</style>\n",
       "<table border=\"1\" class=\"dataframe\">\n",
       "  <thead>\n",
       "    <tr style=\"text-align: right;\">\n",
       "      <th></th>\n",
       "      <th>rating</th>\n",
       "      <th>review_count</th>\n",
       "      <th>isbn</th>\n",
       "      <th>booktype</th>\n",
       "      <th>author_url</th>\n",
       "      <th>year</th>\n",
       "      <th>genre_urls</th>\n",
       "      <th>dir</th>\n",
       "      <th>rating_count</th>\n",
       "      <th>name</th>\n",
       "    </tr>\n",
       "  </thead>\n",
       "  <tbody>\n",
       "    <tr>\n",
       "      <th>1718</th>\n",
       "      <td>5.0</td>\n",
       "      <td>28.0</td>\n",
       "      <td>NaN</td>\n",
       "      <td>good_reads:book</td>\n",
       "      <td>https://www.goodreads.com/author/show/6467808....</td>\n",
       "      <td>2014.0</td>\n",
       "      <td>/genres/poetry|/genres/childrens</td>\n",
       "      <td>dir18/22204746-an-elephant-is-on-my-house.html</td>\n",
       "      <td>64.0</td>\n",
       "      <td>An Elephant Is On My House</td>\n",
       "    </tr>\n",
       "    <tr>\n",
       "      <th>2145</th>\n",
       "      <td>5.0</td>\n",
       "      <td>3.0</td>\n",
       "      <td>1300589469</td>\n",
       "      <td>good_reads:book</td>\n",
       "      <td>https://www.goodreads.com/author/show/6906561....</td>\n",
       "      <td>2012.0</td>\n",
       "      <td>NaN</td>\n",
       "      <td>dir22/17287259-a-book-about-absolutely-nothing...</td>\n",
       "      <td>63.0</td>\n",
       "      <td>A Book About Absolutely Nothing.</td>\n",
       "    </tr>\n",
       "    <tr>\n",
       "      <th>2903</th>\n",
       "      <td>5.0</td>\n",
       "      <td>0.0</td>\n",
       "      <td>0983002282</td>\n",
       "      <td>good_reads:book</td>\n",
       "      <td>https://www.goodreads.com/author/show/6589034....</td>\n",
       "      <td>2012.0</td>\n",
       "      <td>NaN</td>\n",
       "      <td>dir30/17608096-obscured-darkness.html</td>\n",
       "      <td>8.0</td>\n",
       "      <td>Obscured Darkness (Family Secrets #2)</td>\n",
       "    </tr>\n",
       "    <tr>\n",
       "      <th>2909</th>\n",
       "      <td>5.0</td>\n",
       "      <td>0.0</td>\n",
       "      <td>0983002215</td>\n",
       "      <td>good_reads:book</td>\n",
       "      <td>https://www.goodreads.com/author/show/6589034....</td>\n",
       "      <td>2011.0</td>\n",
       "      <td>NaN</td>\n",
       "      <td>dir30/16200303-family-secrets.html</td>\n",
       "      <td>9.0</td>\n",
       "      <td>Family Secrets</td>\n",
       "    </tr>\n",
       "    <tr>\n",
       "      <th>4473</th>\n",
       "      <td>5.0</td>\n",
       "      <td>0.0</td>\n",
       "      <td>NaN</td>\n",
       "      <td>good_reads:book</td>\n",
       "      <td>https://www.goodreads.com/author/show/6896621....</td>\n",
       "      <td>2012.0</td>\n",
       "      <td>NaN</td>\n",
       "      <td>dir45/17259227-patience-s-love.html</td>\n",
       "      <td>7.0</td>\n",
       "      <td>Patience's Love</td>\n",
       "    </tr>\n",
       "    <tr>\n",
       "      <th>5564</th>\n",
       "      <td>5.0</td>\n",
       "      <td>9.0</td>\n",
       "      <td>NaN</td>\n",
       "      <td>good_reads:book</td>\n",
       "      <td>https://www.goodreads.com/author/show/7738947....</td>\n",
       "      <td>2014.0</td>\n",
       "      <td>/genres/romance|/genres/new-adult</td>\n",
       "      <td>dir56/21902777-untainted.html</td>\n",
       "      <td>14.0</td>\n",
       "      <td>Untainted (Photographer Trilogy, #3)</td>\n",
       "    </tr>\n",
       "    <tr>\n",
       "      <th>5692</th>\n",
       "      <td>5.0</td>\n",
       "      <td>0.0</td>\n",
       "      <td>NaN</td>\n",
       "      <td>good_reads:book</td>\n",
       "      <td>https://www.goodreads.com/author/show/5989528....</td>\n",
       "      <td>2012.0</td>\n",
       "      <td>NaN</td>\n",
       "      <td>dir57/14288412-abstraction-in-theory---laws-of...</td>\n",
       "      <td>6.0</td>\n",
       "      <td>Abstraction In Theory - Laws Of Physical Trans...</td>\n",
       "    </tr>\n",
       "  </tbody>\n",
       "</table>\n",
       "</div>"
      ],
      "text/plain": [
       "      rating  review_count        isbn         booktype  \\\n",
       "1718     5.0          28.0         NaN  good_reads:book   \n",
       "2145     5.0           3.0  1300589469  good_reads:book   \n",
       "2903     5.0           0.0  0983002282  good_reads:book   \n",
       "2909     5.0           0.0  0983002215  good_reads:book   \n",
       "4473     5.0           0.0         NaN  good_reads:book   \n",
       "5564     5.0           9.0         NaN  good_reads:book   \n",
       "5692     5.0           0.0         NaN  good_reads:book   \n",
       "\n",
       "                                             author_url    year  \\\n",
       "1718  https://www.goodreads.com/author/show/6467808....  2014.0   \n",
       "2145  https://www.goodreads.com/author/show/6906561....  2012.0   \n",
       "2903  https://www.goodreads.com/author/show/6589034....  2012.0   \n",
       "2909  https://www.goodreads.com/author/show/6589034....  2011.0   \n",
       "4473  https://www.goodreads.com/author/show/6896621....  2012.0   \n",
       "5564  https://www.goodreads.com/author/show/7738947....  2014.0   \n",
       "5692  https://www.goodreads.com/author/show/5989528....  2012.0   \n",
       "\n",
       "                             genre_urls  \\\n",
       "1718   /genres/poetry|/genres/childrens   \n",
       "2145                                NaN   \n",
       "2903                                NaN   \n",
       "2909                                NaN   \n",
       "4473                                NaN   \n",
       "5564  /genres/romance|/genres/new-adult   \n",
       "5692                                NaN   \n",
       "\n",
       "                                                    dir  rating_count  \\\n",
       "1718     dir18/22204746-an-elephant-is-on-my-house.html          64.0   \n",
       "2145  dir22/17287259-a-book-about-absolutely-nothing...          63.0   \n",
       "2903              dir30/17608096-obscured-darkness.html           8.0   \n",
       "2909                 dir30/16200303-family-secrets.html           9.0   \n",
       "4473                dir45/17259227-patience-s-love.html           7.0   \n",
       "5564                      dir56/21902777-untainted.html          14.0   \n",
       "5692  dir57/14288412-abstraction-in-theory---laws-of...           6.0   \n",
       "\n",
       "                                                   name  \n",
       "1718                         An Elephant Is On My House  \n",
       "2145                   A Book About Absolutely Nothing.  \n",
       "2903              Obscured Darkness (Family Secrets #2)  \n",
       "2909                                     Family Secrets  \n",
       "4473                                    Patience's Love  \n",
       "5564               Untainted (Photographer Trilogy, #3)  \n",
       "5692  Abstraction In Theory - Laws Of Physical Trans...  "
      ]
     },
     "execution_count": 43,
     "metadata": {},
     "output_type": "execute_result"
    }
   ],
   "source": [
    "df_after_2010_rating_equal_5"
   ]
  },
  {
   "cell_type": "markdown",
   "metadata": {
    "id": "F-p2LX2CMcad"
   },
   "source": [
    "### Exercise: Selecting data and descriptive statistics\n",
    "\n",
    "1. Get the books that were published before 1850 or after 2008.\n",
    "2. Which book was published after 2005 and has a rating lower than 2.5?\n",
    "3. Calculate the mean and standard deviation of the year.\n",
    "4. Which formula is implemented in the method `std()` and `var()` of the pandas data frame?\n",
    "5. Calculate the median and the first and the third quartile."
   ]
  },
  {
   "cell_type": "code",
   "execution_count": 45,
   "metadata": {
    "colab": {
     "base_uri": "https://localhost:8080/"
    },
    "id": "JwUlprgeY6Jt",
    "outputId": "afd73091-6d00-4da5-c1d7-75ae6d593030"
   },
   "outputs": [
    {
     "name": "stdout",
     "output_type": "stream",
     "text": [
      "      rating  review_count        isbn         booktype  \\\n",
      "4       4.23       34772.0  0679783261  good_reads:book   \n",
      "14      3.72       10156.0  0743477111  good_reads:book   \n",
      "26      4.43      112279.0  0525478817  good_reads:book   \n",
      "32      4.44       70247.0  0399155341  good_reads:book   \n",
      "34      4.07       22713.0  0142437204  good_reads:book   \n",
      "...      ...           ...         ...              ...   \n",
      "5986    4.06         954.0  1606840584  good_reads:book   \n",
      "5989    3.36         192.0  842534607X  good_reads:book   \n",
      "5991    4.20         650.0         NaN  good_reads:book   \n",
      "5993    4.09        1256.0  0345515501  good_reads:book   \n",
      "5997    3.78         540.0  1620612321  good_reads:book   \n",
      "\n",
      "                                             author_url    year  \\\n",
      "4     https://www.goodreads.com/author/show/1265.Jan...  1813.0   \n",
      "14    https://www.goodreads.com/author/show/947.Will...  1597.0   \n",
      "26    https://www.goodreads.com/author/show/1406384....  2012.0   \n",
      "32    https://www.goodreads.com/author/show/1943477....  2009.0   \n",
      "34    https://www.goodreads.com/author/show/1036615....  1847.0   \n",
      "...                                                 ...     ...   \n",
      "5986  https://www.goodreads.com/author/show/2891503....  2010.0   \n",
      "5989  https://www.goodreads.com/author/show/3493970....  2011.0   \n",
      "5991    https://www.goodreads.com/author/show/1112683._  2009.0   \n",
      "5993  https://www.goodreads.com/author/show/18149.Te...  2011.0   \n",
      "5997  https://www.goodreads.com/author/show/5761314....  2012.0   \n",
      "\n",
      "                                             genre_urls  \\\n",
      "4     /genres/classics|/genres/fiction|/genres/roman...   \n",
      "14    /genres/classics|/genres/plays|/genres/fiction...   \n",
      "26    /genres/young-adult|/genres/book-club|/genres/...   \n",
      "32    /genres/book-club|/genres/historical-fiction|/...   \n",
      "34    /genres/fiction|/genres/romance|/genres/litera...   \n",
      "...                                                 ...   \n",
      "5986  /genres/young-adult|/genres/fantasy|/genres/pa...   \n",
      "5989  /genres/european-literature|/genres/spanish-li...   \n",
      "5991  /genres/novels|/genres/fiction|/genres/religio...   \n",
      "5993  /genres/mystery|/genres/mystery|/genres/crime|...   \n",
      "5997  /genres/contemporary|/genres/romance|/genres/y...   \n",
      "\n",
      "                                                    dir  rating_count  \\\n",
      "4                   dir01/1885.Pride_and_Prejudice.html     1388992.0   \n",
      "14                    dir01/18135.Romeo_and_Juliet.html     1211146.0   \n",
      "26           dir01/11870085-the-fault-in-our-stars.html     1150626.0   \n",
      "32                          dir01/4667024-the-help.html     1091909.0   \n",
      "34                           dir01/10210.Jane_Eyre.html      893232.0   \n",
      "...                                                 ...           ...   \n",
      "5986                  dir60/7831742-the-lost-saint.html       12690.0   \n",
      "5989  dir60/10832326-si-t-me-dices-ven-lo-dejo-todo-...        1914.0   \n",
      "5991                                 dir60/6976667.html        2899.0   \n",
      "5993                 dir60/9578677-the-silent-girl.html       16312.0   \n",
      "5997                         dir60/13503247-flawed.html        2971.0   \n",
      "\n",
      "                                                   name  \n",
      "4                                   Pride and Prejudice  \n",
      "14                                     Romeo and Juliet  \n",
      "26                               The Fault in Our Stars  \n",
      "32                                             The Help  \n",
      "34                                            Jane Eyre  \n",
      "...                                                 ...  \n",
      "5986               The Lost Saint (The Dark Divine, #2)  \n",
      "5989  Si tÃº me dices ven lo dejo todo... pero dime ven  \n",
      "5991                                Ø£ÙÙØ§Ø­ ÙØ¯Ø³Ø±  \n",
      "5993              The Silent Girl (Rizzoli & Isles, #9)  \n",
      "5997                                             Flawed  \n",
      "\n",
      "[1886 rows x 10 columns]\n",
      "      rating  review_count        isbn         booktype  \\\n",
      "3738     2.0         368.0  0983650322  good_reads:book   \n",
      "\n",
      "                                             author_url    year  \\\n",
      "3738  https://www.goodreads.com/author/show/9414.Vic...  2011.0   \n",
      "\n",
      "                                             genre_urls  \\\n",
      "3738  /genres/young-adult|/genres/science-fiction|/g...   \n",
      "\n",
      "                                     dir  rating_count  \\\n",
      "3738  dir38/12393909-revealing-eden.html         688.0   \n",
      "\n",
      "                                      name  \n",
      "3738  Revealing Eden (Save the Pearls, #1)  \n"
     ]
    }
   ],
   "source": [
    "#1.\n",
    "df_before_1850_or_after_2008 = df[(df.year < 1850) | (df.year > 2008)]\n",
    "print(df_before_1850_or_after_2008)\n",
    "\n",
    "#2.\n",
    "df_after_2005_rating_below_25 = df[(df.year > 2005) & (df.rating < 2.5)]\n",
    "print(df_after_2005_rating_below_25)\n"
   ]
  },
  {
   "cell_type": "code",
   "execution_count": 46,
   "metadata": {},
   "outputs": [
    {
     "name": "stdout",
     "output_type": "stream",
     "text": [
      "Mean: \t\t 1969.0850992824962\n",
      "SD: \t\t 185.38316893845032\n",
      "Median: \t 2002.0\n",
      "First quartile:  1980.0\n",
      "Third quartile:  2009.0\n"
     ]
    },
    {
     "data": {
      "text/html": [
       "<div>\n",
       "<style scoped>\n",
       "    .dataframe tbody tr th:only-of-type {\n",
       "        vertical-align: middle;\n",
       "    }\n",
       "\n",
       "    .dataframe tbody tr th {\n",
       "        vertical-align: top;\n",
       "    }\n",
       "\n",
       "    .dataframe thead th {\n",
       "        text-align: right;\n",
       "    }\n",
       "</style>\n",
       "<table border=\"1\" class=\"dataframe\">\n",
       "  <thead>\n",
       "    <tr style=\"text-align: right;\">\n",
       "      <th></th>\n",
       "      <th>rating</th>\n",
       "      <th>review_count</th>\n",
       "      <th>year</th>\n",
       "      <th>rating_count</th>\n",
       "    </tr>\n",
       "  </thead>\n",
       "  <tbody>\n",
       "    <tr>\n",
       "      <th>count</th>\n",
       "      <td>5998.000000</td>\n",
       "      <td>5998.000000</td>\n",
       "      <td>5993.000000</td>\n",
       "      <td>5.998000e+03</td>\n",
       "    </tr>\n",
       "    <tr>\n",
       "      <th>mean</th>\n",
       "      <td>4.042201</td>\n",
       "      <td>2372.487162</td>\n",
       "      <td>1969.085099</td>\n",
       "      <td>5.114278e+04</td>\n",
       "    </tr>\n",
       "    <tr>\n",
       "      <th>std</th>\n",
       "      <td>0.260661</td>\n",
       "      <td>5491.177007</td>\n",
       "      <td>185.383169</td>\n",
       "      <td>1.375993e+05</td>\n",
       "    </tr>\n",
       "    <tr>\n",
       "      <th>min</th>\n",
       "      <td>2.000000</td>\n",
       "      <td>0.000000</td>\n",
       "      <td>-1500.000000</td>\n",
       "      <td>5.000000e+00</td>\n",
       "    </tr>\n",
       "    <tr>\n",
       "      <th>25%</th>\n",
       "      <td>3.870000</td>\n",
       "      <td>389.250000</td>\n",
       "      <td>1980.000000</td>\n",
       "      <td>7.495250e+03</td>\n",
       "    </tr>\n",
       "    <tr>\n",
       "      <th>50%</th>\n",
       "      <td>4.050000</td>\n",
       "      <td>932.500000</td>\n",
       "      <td>2002.000000</td>\n",
       "      <td>1.806300e+04</td>\n",
       "    </tr>\n",
       "    <tr>\n",
       "      <th>75%</th>\n",
       "      <td>4.210000</td>\n",
       "      <td>2210.500000</td>\n",
       "      <td>2009.000000</td>\n",
       "      <td>4.285325e+04</td>\n",
       "    </tr>\n",
       "    <tr>\n",
       "      <th>max</th>\n",
       "      <td>5.000000</td>\n",
       "      <td>136455.000000</td>\n",
       "      <td>2014.000000</td>\n",
       "      <td>2.958974e+06</td>\n",
       "    </tr>\n",
       "  </tbody>\n",
       "</table>\n",
       "</div>"
      ],
      "text/plain": [
       "            rating   review_count         year  rating_count\n",
       "count  5998.000000    5998.000000  5993.000000  5.998000e+03\n",
       "mean      4.042201    2372.487162  1969.085099  5.114278e+04\n",
       "std       0.260661    5491.177007   185.383169  1.375993e+05\n",
       "min       2.000000       0.000000 -1500.000000  5.000000e+00\n",
       "25%       3.870000     389.250000  1980.000000  7.495250e+03\n",
       "50%       4.050000     932.500000  2002.000000  1.806300e+04\n",
       "75%       4.210000    2210.500000  2009.000000  4.285325e+04\n",
       "max       5.000000  136455.000000  2014.000000  2.958974e+06"
      ]
     },
     "execution_count": 46,
     "metadata": {},
     "output_type": "execute_result"
    }
   ],
   "source": [
    "#3. Mean and standard deviation \n",
    "print(\"Mean: \\t\\t\", df.year.mean())\n",
    "print(\"SD: \\t\\t\", df.year.std())\n",
    "\n",
    "#5. quartiles\n",
    "print(\"Median: \\t\", df.year.median())\n",
    "print(\"First quartile: \", df.year.quantile(q=0.25))\n",
    "print(\"Third quartile: \", df.year.quantile(q=0.75))\n",
    "\n",
    "# an easier way to describe the data\n",
    "#df.year.describe()\n",
    "df.describe()"
   ]
  },
  {
   "cell_type": "markdown",
   "metadata": {
    "id": "vaRU0z9kjpl3"
   },
   "source": [
    "## Cleaning: Examining the dataframe - a deeper look"
   ]
  },
  {
   "cell_type": "markdown",
   "metadata": {
    "id": "VJ-VPJN_jpl4"
   },
   "source": [
    "Beyond checking some quick general properties of the dataframe and looking at the first rows, we can dig a bit deeper into the values being stored. One thing that occurs frequently in real-world data are missing values. I have seen many forms of missing values, such as\n",
    "\n",
    "- -1 or 999 for the age of patients in hospital data\n",
    "- 0 for the height of patients\n",
    "- NaN (not a number)\n",
    "\n",
    "All of them need to be detected and taken care of because these missing values screw up the whole data analytics pipeline. Thereby, NaN is the nicest one because it is easy to spot.\n",
    "\n",
    "Let's start with this one and see for a column which seemed OK to us."
   ]
  },
  {
   "cell_type": "code",
   "execution_count": 49,
   "metadata": {
    "colab": {
     "base_uri": "https://localhost:8080/"
    },
    "id": "8bsPvIngjpl4",
    "outputId": "2c0f407b-b601-414b-a8a6-5bc033ed2434"
   },
   "outputs": [
    {
     "data": {
      "text/plain": [
       "0       False\n",
       "1       False\n",
       "2       False\n",
       "3       False\n",
       "4       False\n",
       "        ...  \n",
       "5995    False\n",
       "5996    False\n",
       "5997    False\n",
       "5998     True\n",
       "5999    False\n",
       "Name: isbn, Length: 6000, dtype: bool"
      ]
     },
     "execution_count": 49,
     "metadata": {},
     "output_type": "execute_result"
    }
   ],
   "source": [
    "#Get a sense of how many missing values there are in the dataframe.\n",
    "df['isbn'].isnull()"
   ]
  },
  {
   "cell_type": "markdown",
   "metadata": {
    "id": "jluirOiPPaK6"
   },
   "source": [
    "### Exercise: Missing values\n",
    "1. Recall the function ```sum``` that you looked up above? Figure out how many values are missing in the column ```isbn```\n",
    "2. Combine the selection criteria with the function ```isnull()``` to print rows for which there is an ISBN\n",
    "3. See how many missing values every column has (you can also use a for-loop on ```df.columns``` here)"
   ]
  },
  {
   "cell_type": "code",
   "execution_count": 51,
   "metadata": {
    "colab": {
     "base_uri": "https://localhost:8080/"
    },
    "id": "PtIV9LmJe8Gl",
    "outputId": "25760a54-7987-48f3-86f0-5c1b4a557c8b"
   },
   "outputs": [
    {
     "name": "stdout",
     "output_type": "stream",
     "text": [
      "477\n",
      "rating\n",
      "2\n",
      "review_count\n",
      "2\n",
      "isbn\n",
      "477\n",
      "booktype\n",
      "2\n",
      "author_url\n",
      "2\n",
      "year\n",
      "7\n",
      "genre_urls\n",
      "62\n",
      "dir\n",
      "0\n",
      "rating_count\n",
      "2\n",
      "name\n",
      "2\n",
      "rating            2\n",
      "review_count      2\n",
      "isbn            477\n",
      "booktype          2\n",
      "author_url        2\n",
      "year              7\n",
      "genre_urls       62\n",
      "dir               0\n",
      "rating_count      2\n",
      "name              2\n",
      "dtype: int64\n"
     ]
    }
   ],
   "source": [
    "#1. Number of missing values\n",
    "#print(df['isbn'].isnull().sum())\n",
    "print(df.isbn.isnull().sum())\n",
    "\n",
    "#2. print missing values / complete cases\n",
    "#print(df[df['isbn'].isnull()])\n",
    "#alternative\n",
    "#print(df[~df['isbn'].notnull()])\n",
    "\n",
    "#3. missing values in each column\n",
    "for c in df.columns:\n",
    "  print(c)\n",
    "  print(df[c].isnull().sum())\n",
    "#alternative\n",
    "print(df.isnull().sum())"
   ]
  },
  {
   "cell_type": "markdown",
   "metadata": {
    "id": "VRA_BiCGjpl-"
   },
   "source": [
    "## Cleaning: Dealing with Missing Values\n",
    "How should we interpret 'missing' or 'invalid' values in the data (hint: look at where these values occur)? One approach is to simply exclude them from the dataframe. Is this appropriate for all 'missing' or 'invalid' values? "
   ]
  },
  {
   "cell_type": "code",
   "execution_count": 53,
   "metadata": {
    "colab": {
     "base_uri": "https://localhost:8080/"
    },
    "id": "djHoEr3Ijpl_",
    "outputId": "e9c169b6-d1e4-48b1-bd57-7bd4836c52c0"
   },
   "outputs": [
    {
     "name": "stdout",
     "output_type": "stream",
     "text": [
      "(6000, 10)\n",
      "(5993, 10)\n"
     ]
    }
   ],
   "source": [
    "#Treat the missing or invalid values in the column 'year' of your dataframe\n",
    "df_clean = df[df['year'].notnull()].copy()\n",
    "\n",
    "print(df.shape)\n",
    "print(df_clean.shape)"
   ]
  },
  {
   "cell_type": "markdown",
   "metadata": {
    "id": "stY0RLezjpmA"
   },
   "source": [
    "Ok so we have removed all the NaNs in the column ```year```. You can see that we only removed 7 rows, which is not too bad. Always check, how many rows you are removing as data is valuable. If you are removing 50% of the data, better think of another strategy than simply removing the rows.\n",
    "\n",
    "As you have probably noticed above, the data type of this column was ```float```. We can now try to change that to ```int``` which makes more sense for a year."
   ]
  },
  {
   "cell_type": "code",
   "execution_count": 55,
   "metadata": {
    "colab": {
     "base_uri": "https://localhost:8080/"
    },
    "id": "_P0Uig8-jpmA",
    "outputId": "856fab3c-aceb-4d97-8848-44f365cbc436"
   },
   "outputs": [
    {
     "name": "stdout",
     "output_type": "stream",
     "text": [
      "rating          float64\n",
      "review_count    float64\n",
      "isbn             object\n",
      "booktype         object\n",
      "author_url       object\n",
      "year              int64\n",
      "genre_urls       object\n",
      "dir              object\n",
      "rating_count    float64\n",
      "name             object\n",
      "dtype: object\n"
     ]
    }
   ],
   "source": [
    "#print(df.dtypes)\n",
    "df_clean['year'] = df_clean['year'].astype(int)\n",
    "print(df_clean.dtypes)"
   ]
  },
  {
   "cell_type": "markdown",
   "metadata": {
    "id": "QBXDF3x4jpmC"
   },
   "source": [
    "### Exercise: Dealing with missing values\n",
    "\n",
    "1. Difficult: Let's try to change the data types of ```review_count```, ```isbn```, and ```rating_count``` to the appropriate data type int. Discuss which data type is appropriate. If the type conversion fails, we now know we have further problems and have to remove rows with missing values.\n",
    "\n",
    "Functions that can be helpful are:\n",
    "- df_clean['isbn'].str.isdigit() which returns a boolean vector of True where the entry of column isbn is a digit and False otherwise."
   ]
  },
  {
   "cell_type": "code",
   "execution_count": 57,
   "metadata": {
    "colab": {
     "base_uri": "https://localhost:8080/"
    },
    "id": "GjUv-iJQofut",
    "outputId": "f4da5fc8-dc8c-4367-c5aa-657aee80869a"
   },
   "outputs": [
    {
     "data": {
      "text/plain": [
       "rating            0\n",
       "review_count      0\n",
       "isbn            471\n",
       "booktype          0\n",
       "author_url        0\n",
       "year              0\n",
       "genre_urls       59\n",
       "dir               0\n",
       "rating_count      0\n",
       "name              0\n",
       "dtype: int64"
      ]
     },
     "execution_count": 57,
     "metadata": {},
     "output_type": "execute_result"
    }
   ],
   "source": [
    "#Let's see what rows still have missing values\n",
    "df_clean.isnull().sum()"
   ]
  },
  {
   "cell_type": "code",
   "execution_count": 58,
   "metadata": {
    "colab": {
     "base_uri": "https://localhost:8080/"
    },
    "id": "pGSZMMcUotYJ",
    "outputId": "c6654324-b3e7-4cf3-aa25-59c17406931f"
   },
   "outputs": [
    {
     "name": "stdout",
     "output_type": "stream",
     "text": [
      "rating           0\n",
      "review_count     0\n",
      "isbn             0\n",
      "booktype         0\n",
      "author_url       0\n",
      "year             0\n",
      "genre_urls      26\n",
      "dir              0\n",
      "rating_count     0\n",
      "name             0\n",
      "dtype: int64\n"
     ]
    }
   ],
   "source": [
    "df_clean = df_clean[df_clean['isbn'].notnull()]\n",
    "#df_clean = df_clean[df_clean['genre_urls'].notnull()] # wollen wir später noch ersetzen\n",
    "\n",
    "#Missing values in column isbn are now fixed\n",
    "print(df_clean.isnull().sum())"
   ]
  },
  {
   "cell_type": "markdown",
   "metadata": {
    "id": "LR70tIRZ6NxD"
   },
   "source": [
    "Before we continue, we want to copy the pandas Dataframe. As mentioned earlier, Pandas creates a view on the data and doesn't create a new Dataframe when we select rows as above. This can lead to problems if we now want to change the datatypes. By copying, we avoid these problems:"
   ]
  },
  {
   "cell_type": "code",
   "execution_count": 101,
   "metadata": {
    "id": "ZwSK1s8e6oU_"
   },
   "outputs": [],
   "source": [
    "df_clean = df_clean.copy()"
   ]
  },
  {
   "cell_type": "markdown",
   "metadata": {
    "id": "cIMfuEfh65U-"
   },
   "source": [
    "Now we continue with updating the datatypes."
   ]
  },
  {
   "cell_type": "code",
   "execution_count": 103,
   "metadata": {
    "colab": {
     "base_uri": "https://localhost:8080/"
    },
    "id": "6pNxdIJUo2TB",
    "outputId": "e1e549ae-1d31-4046-a3b0-6137b63d63d3"
   },
   "outputs": [],
   "source": [
    "df_clean['review_count'] = df_clean['review_count'].astype(int)\n",
    "df_clean['rating_count'] = df_clean['rating_count'].astype(int)"
   ]
  },
  {
   "cell_type": "code",
   "execution_count": 51,
   "metadata": {
    "id": "NzksDq67fl4n"
   },
   "outputs": [],
   "source": [
    "#isbn still has some entries which are not integers. We fix that now\n",
    "df_clean = df_clean[df_clean['isbn'].str.isdigit()].copy()\n",
    "df_clean['isbn'] = pd.to_numeric(df_clean['isbn']) #we use the pandas function"
   ]
  },
  {
   "cell_type": "markdown",
   "metadata": {
    "id": "E7tiX4VyjpmC"
   },
   "source": [
    "Once you do this, we seem to be good on these columns (no errors in conversion). Lets look:"
   ]
  },
  {
   "cell_type": "code",
   "execution_count": 105,
   "metadata": {
    "colab": {
     "base_uri": "https://localhost:8080/"
    },
    "id": "DQxbtJ6djpmD",
    "outputId": "27792dc5-658f-4cfa-8bc2-8bf674a32c9f"
   },
   "outputs": [
    {
     "data": {
      "text/plain": [
       "rating          float64\n",
       "review_count      int64\n",
       "isbn             object\n",
       "booktype         object\n",
       "author_url       object\n",
       "year              int64\n",
       "genre_urls       object\n",
       "dir              object\n",
       "rating_count      int64\n",
       "name             object\n",
       "dtype: object"
      ]
     },
     "execution_count": 105,
     "metadata": {},
     "output_type": "execute_result"
    }
   ],
   "source": [
    "df_clean.dtypes"
   ]
  },
  {
   "cell_type": "markdown",
   "metadata": {
    "id": "sIyzuTi2jpmD"
   },
   "source": [
    "Sweet! Let's overwrite the df with the cleaned version."
   ]
  },
  {
   "cell_type": "code",
   "execution_count": 107,
   "metadata": {
    "id": "NVwt9p707I9T"
   },
   "outputs": [],
   "source": [
    "df = df_clean"
   ]
  },
  {
   "cell_type": "markdown",
   "metadata": {
    "id": "qXAS-kzvjpmE"
   },
   "source": [
    "Some of the other colums that should be strings have NaN. We now want to set them to \"\" --- an empty string. You might think about something like\n",
    "\n",
    "```\n",
    "df[df['genre_urls'].isnull()]['genre_urls'] = \"\"\n",
    "```\n",
    "\n",
    "Please try it out and see what happens.\n"
   ]
  },
  {
   "cell_type": "markdown",
   "metadata": {
    "id": "lUiKZIDZ6184"
   },
   "source": [
    "As mentioned before, ```df[condition]``` is creating a view on the original dataset. And Pandas doesn't allow to change values on only a view to protect the user. Instead, we can use the ```loc``` function as follows:"
   ]
  },
  {
   "cell_type": "code",
   "execution_count": 93,
   "metadata": {
    "id": "5WJ9YPU8jpmE"
   },
   "outputs": [],
   "source": [
    "df.loc[df['genre_urls'].isnull(), 'genre_urls']=\"\"\n",
    "#df.loc[df['isbn'].isnull(), 'isbn'] = float(\"nan\")"
   ]
  },
  {
   "cell_type": "code",
   "execution_count": 95,
   "metadata": {
    "colab": {
     "base_uri": "https://localhost:8080/"
    },
    "id": "qpMjZXkA4aWS",
    "outputId": "15445d4f-fe5b-418c-e2d9-25548a056806"
   },
   "outputs": [
    {
     "name": "stdout",
     "output_type": "stream",
     "text": [
      "0\n"
     ]
    }
   ],
   "source": [
    "print(df['genre_urls'].isnull().sum())\n",
    "#print(df['isbn'].isnull().sum())"
   ]
  },
  {
   "cell_type": "markdown",
   "metadata": {
    "id": "uLFsVFKg8NdU"
   },
   "source": [
    "Nice, now you learned the basic functionality of Pandas!!! Pandas is a super powerful package which I use daily. To learn how to work with data in Pandas Dataframes is extremely important and a skill that is very valuable. If you like you can continue learning Pandas using any kind of online course, e.g., https://www.datacamp.com/tutorial/pandas or https://www.youtube.com/watch?v=r-uOLxNrNk8."
   ]
  }
 ],
 "metadata": {
  "anaconda-cloud": {},
  "colab": {
   "provenance": []
  },
  "kernelspec": {
   "display_name": "Python [conda env:base] *",
   "language": "python",
   "name": "conda-base-py"
  },
  "language_info": {
   "codemirror_mode": {
    "name": "ipython",
    "version": 3
   },
   "file_extension": ".py",
   "mimetype": "text/x-python",
   "name": "python",
   "nbconvert_exporter": "python",
   "pygments_lexer": "ipython3",
   "version": "3.12.7"
  }
 },
 "nbformat": 4,
 "nbformat_minor": 4
}
