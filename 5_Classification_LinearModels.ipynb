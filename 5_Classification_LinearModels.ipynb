{
 "cells": [
  {
   "cell_type": "markdown",
   "id": "1a3f6902-027a-4241-a35d-633810db82bb",
   "metadata": {},
   "source": [
    "# Classification using linear models"
   ]
  },
  {
   "cell_type": "code",
   "execution_count": null,
   "id": "5d062c74-3144-4d88-af1e-86285cb44430",
   "metadata": {},
   "outputs": [],
   "source": [
    "import matplotlib.pyplot as plt\n",
    "import numpy as np\n",
    "import pandas as pd\n",
    "\n",
    "from sklearn import linear_model\n",
    "from sklearn.metrics import classification_report, confusion_matrix\n",
    "from sklearn.model_selection import train_test_split"
   ]
  },
  {
   "cell_type": "markdown",
   "id": "10cad4b6-7f87-4335-b68c-0cb6f57e2ebd",
   "metadata": {},
   "source": [
    "# Annual power consumption data\n",
    "\n",
    "## Case description / business understanding \n",
    "\n",
    "Electric utility companies do not know much about their customers. The information that is available for all customers is their consumption and address. In addition, some utility companies use web-portals to engage a part of their users and collect some additional information.\n",
    "\n",
    "\n",
    "Some example questions the utility companies want to answer with the help of this data\n",
    "\n",
    "* Who are the customers using the efficiency portal?\n",
    "* Can we learn from the information provided on the portal? Can we predict this information for other customers?\n",
    "* What are the typical customers?\n",
    "\n",
    "We use a dataset that consists of two combined parts\n",
    "\n",
    "1. Yearly electricity consumption (address and consumption in kW).\n",
    "2. Data collected via an efficiency web application (detailed household information and activity on the customers)\n"
   ]
  },
  {
   "cell_type": "code",
   "execution_count": null,
   "id": "e1791af1-b13e-45a0-8f3d-2dcf410fdc98",
   "metadata": {},
   "outputs": [],
   "source": [
    "apc = pd.read_csv('data/APC-dataset-anonym.csv', sep=';')\n",
    "apc.head(5)\n",
    "#apc.shape"
   ]
  },
  {
   "cell_type": "markdown",
   "id": "3e0bb2ac-8f46-463e-9883-6147292fcee0",
   "metadata": {},
   "source": [
    "|Variable          | Description|\n",
    "|------------------|------------|\n",
    "|ID\tUnique         |customer ID |\n",
    "|PLZ               |address information: postal code|\n",
    "|City              |address information: city|\n",
    "|Strasse           |address information: street|\n",
    "|Betreff           |miscellaneous information about the meter and the housing|\n",
    "|Cons_2011;Cons_2012;Cons_2013 |consumption in kWh per year|\n",
    "|Days_2011;Days_2012;Days_2013 | days in one year in which the consumption was created|\n",
    "|FilterNonHousehold |a filter created by the utility; the company is not sure if it covers all non-households|\n",
    "|Portal            |indicates whether the customer uses the energy efficiency portal|\n",
    "|pPoints           |points on the portal|\n",
    "|pEarnedPoints     |earned points on the porta|\n",
    "|pHouseholdType    |type of housing |\n",
    "|pMainHeatingType  |the main heating type of the household | \n",
    "|pWaterHeatingType |the type of water heating|\n",
    "|pLivingAreaM2     |the living area of the household|\n",
    "|pHouseholdMembers |the number of people living in the household|\n",
    "|pDateCreated      |timestamp of account creation|\n",
    "|pLastVisited      |Visited\ttimestamp of the last visit|\n",
    "\n"
   ]
  },
  {
   "cell_type": "code",
   "execution_count": null,
   "id": "e16d52e0-86e0-4501-9782-7ed6f24d9cdc",
   "metadata": {},
   "outputs": [],
   "source": [
    "apc.describe(include='all')"
   ]
  },
  {
   "cell_type": "code",
   "execution_count": null,
   "id": "580fe03b-64d4-4c65-8ec0-165d7932b857",
   "metadata": {},
   "outputs": [],
   "source": [
    "apc.isnull().sum()"
   ]
  },
  {
   "cell_type": "code",
   "execution_count": null,
   "id": "b8012354-166e-4c62-9375-bd1ffa2abf29",
   "metadata": {},
   "outputs": [],
   "source": [
    "apc.dtypes"
   ]
  },
  {
   "cell_type": "markdown",
   "id": "3731f9d8-2cb2-4627-969a-cc34f938dcbe",
   "metadata": {},
   "source": [
    "## Data preparation - exercises\n",
    "1. Inspect the output of the previous chunks. What are problematic values in the data, and how could we handle them?\n",
    "2. Use the function `value_counts()` to see the distribution of the column `Portal`"
   ]
  },
  {
   "cell_type": "code",
   "execution_count": null,
   "id": "1af29178-0ab6-4b9a-9879-a6523f49afd3",
   "metadata": {},
   "outputs": [],
   "source": [
    "# isdentify problems here"
   ]
  },
  {
   "cell_type": "markdown",
   "id": "a62e29c7-0c2b-477d-a4e4-27c878ce2124",
   "metadata": {},
   "source": [
    "## A linear regression model for portal usage\n",
    "Look into the script of the last session how a model is trained using linear regression using the `scikit learn` package. \n",
    "\n",
    "### Exercise: Estimate regression model for portal usage\n",
    "1. Try to build a model that estimates the variable `Portal` based on the code from last session.\n",
    "2. Inspect the model: What can you say about its quality. You can use `np.corrcoef()` ([see documentation](https://numpy.org/doc/2.2/reference/generated/numpy.corrcoef.html)) to compute a correlation between the predicted and the true data. You can also use the function `classification_report()` from scikit learn ([see documentation](https://scikit-learn.org/stable/modules/generated/sklearn.metrics.classification_report.html))."
   ]
  },
  {
   "cell_type": "code",
   "execution_count": null,
   "id": "00ce14c8-9ac4-4fe4-a5ce-599e0ffb2e29",
   "metadata": {},
   "outputs": [],
   "source": [
    "# Create linear regression object\n",
    "\n",
    "\n",
    "\n"
   ]
  },
  {
   "cell_type": "code",
   "execution_count": null,
   "id": "d729071b-7ebf-4ff7-aa3b-2fdae81ad792",
   "metadata": {},
   "outputs": [],
   "source": [
    "#correlation between prediction and test data\n",
    "\n",
    "#classification statistics\n"
   ]
  },
  {
   "cell_type": "markdown",
   "id": "4c3b7d35-7a02-4b4a-98eb-3e05c15e05d3",
   "metadata": {},
   "source": [
    "## A logistic regression model \n",
    "\n",
    "The linear model is incapable of predicting portal users. This is unsatisfactory. Let's try to use a logistic model. "
   ]
  },
  {
   "cell_type": "code",
   "execution_count": null,
   "id": "c542a3e2-46e1-4bd6-bad2-4e5f9ff2ea4b",
   "metadata": {},
   "outputs": [],
   "source": [
    "# instantiate the model (using the default parameters)\n",
    "logreg = linear_model.LogisticRegression(random_state=16)\n",
    "\n",
    "# fit the model with data\n",
    "logreg.fit(X_train, y_train)\n",
    "\n",
    "y_pred = logreg.predict(X_test)\n",
    "cnf_matrix = confusion_matrix(y_test, y_pred)\n",
    "cnf_matrix\n",
    "\n",
    "print(classification_report(y_test, y_pred))\n"
   ]
  }
 ],
 "metadata": {
  "kernelspec": {
   "display_name": "Python [conda env:base] *",
   "language": "python",
   "name": "conda-base-py"
  },
  "language_info": {
   "codemirror_mode": {
    "name": "ipython",
    "version": 3
   },
   "file_extension": ".py",
   "mimetype": "text/x-python",
   "name": "python",
   "nbconvert_exporter": "python",
   "pygments_lexer": "ipython3",
   "version": "3.12.7"
  }
 },
 "nbformat": 4,
 "nbformat_minor": 5
}
