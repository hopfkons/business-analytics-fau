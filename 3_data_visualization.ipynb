{
 "cells": [
  {
   "cell_type": "markdown",
   "metadata": {
    "id": "U3H_1liU66Qc"
   },
   "source": [
    "# Data visualization in Python"
   ]
  },
  {
   "cell_type": "markdown",
   "metadata": {
    "id": "7dsWs_QM7TQO"
   },
   "source": [
    "## Learning Goals\n",
    "The goal of this Business Analytics exercise is to teach the most common way of data visualization - plotting.\n",
    "\n",
    "For training purposes we will use the [Diabetes Classification](https://www.kaggle.com/c/diabetes-classification/overview) dataset, that contains information about patients with and without diabetes. Note that we use a slightly different version of the dataset compared to the original kaggle version.\n",
    "\n",
    "We will visualize some of the patients' information and try to derive on our own, which information could be interesting for understanding diabetes.\n",
    "\n",
    "After this exercise for the Python package Matplotlib, you will feel more comfortable:\n",
    "\n",
    "* Working with Pandas dataframes.\n",
    "* Creating different plots from dataframes' data\n",
    "* Interpreting the plots and finding patterns\n",
    "\n"
   ]
  },
  {
   "cell_type": "markdown",
   "metadata": {
    "id": "Qsalli5z7jb4"
   },
   "source": [
    "## Importing modules\n",
    "For this exercise we will need the ***Matplotlib*** library, that helps us to illustrate graphs, images, lines, etc. The specialty of the Matplotlib package is, that it includes sub-packages. One of the sub-packages is called pyplot which we import as follows:"
   ]
  },
  {
   "cell_type": "code",
   "execution_count": null,
   "metadata": {
    "id": "mqsiH8aV8LKy"
   },
   "outputs": [],
   "source": [
    "import matplotlib.pyplot as plt\n",
    "import pandas as pd # we also need pandas, as we will work with our own dataset\n",
    "import numpy as np # and numpy, which is a package that is optimized for working with vectors, matrizes, ..."
   ]
  },
  {
   "cell_type": "markdown",
   "metadata": {
    "id": "srEMjuIJscnd"
   },
   "source": [
    "## Basic lines and dots"
   ]
  },
  {
   "cell_type": "markdown",
   "metadata": {
    "id": "sPNumO1u8lt-"
   },
   "source": [
    "Now that Matplotlib has been imported, we can access some useful functions. For example, we can use `plot()` to plot a line going through given points. The points are thereby connected through a straight line. The style of the line can be changed as we will see later."
   ]
  },
  {
   "cell_type": "code",
   "execution_count": null,
   "metadata": {
    "id": "4rx1CTls8nWJ"
   },
   "outputs": [],
   "source": [
    "x_values = [1, 2, 3, 7, 8]\n",
    "y_values = [5, 4, 1, 2, 1] # make sure you have the same number of points in both axis\n",
    "\n",
    "plt.plot(x_values, y_values) # by default 1st parameter is considered as x-axis, 2nd as y-axis\n",
    "plt.ylabel('Y values') # for a better readability support your graphs with axis labels\n",
    "plt.xlabel('X values')\n",
    "plt.title('matplotlib graph') # and title\n",
    "plt.show()"
   ]
  },
  {
   "cell_type": "markdown",
   "metadata": {
    "id": "mqAXHoTY9YHZ"
   },
   "source": [
    "Note that if you pass only one parameter to the `plot()` function, it will consider your passed values as y-axis. For the x-axis it will use an index array 0..N-1, where N = len(passed parameter):"
   ]
  },
  {
   "cell_type": "code",
   "execution_count": null,
   "metadata": {
    "id": "L0XqYCy0r0Ri"
   },
   "outputs": [],
   "source": [
    "plt.plot(x_values) # these values will be plotted on y-axis\n",
    "plt.show()"
   ]
  },
  {
   "cell_type": "markdown",
   "metadata": {
    "id": "6x0O2GAKumuh"
   },
   "source": [
    "You may wonder, why we need `plt.show()` after each `plt.plot()`. Technically, Jupyter Notebook will output your graphs without specifying `plt.show()`, but if you want to plot two different graphs and don't say explicitly `plt.show()`, they will be drawn on the same canvas. This can sometimes be nice if you have multiple lines/dots that you want to put on top of each other. But sometimes, it also doesn't make sense and you rather keep the plots seperate. On another note, you might notice that some other IDEs don't print graphs without `plt.show()` at all.\n",
    "\n",
    "Try out the following code and see what will be printed out:"
   ]
  },
  {
   "cell_type": "code",
   "execution_count": null,
   "metadata": {
    "id": "DbvEK4gi9x7t"
   },
   "outputs": [],
   "source": [
    "plt.plot(x_values, 'bo') # optional parameter 'bo' allows you to respresent data in blue dots, 'go' and 'ro' can make them green and red respectively\n",
    "plt.plot(y_values, linestyle='dashdot', linewidth=4, color='red') # you can play with lines' style, width and color"
   ]
  },
  {
   "cell_type": "markdown",
   "metadata": {
    "id": "gWP3lnzq_y8M"
   },
   "source": [
    "With Matplotlib we can also build other types of graphs such as bar charts, histograms, boxplots, pie charts and many more. We'll come to that later today when visualizing real dataset."
   ]
  },
  {
   "cell_type": "markdown",
   "metadata": {
    "id": "z0NAVItgDc3v"
   },
   "source": [
    "## Loading the data\n",
    "Today we will have a look at the [Diabetes](https://www.kaggle.com/c/diabetes-classification/overview) dataset."
   ]
  },
  {
   "cell_type": "markdown",
   "metadata": {
    "id": "94jOrTqVFnrZ"
   },
   "source": [
    "### Exercise\n",
    "1. Download file `diabetes.csv` from github. Upload it to Google colab, if you are using this tool; For this, you can click on \"Files\" or \"Dateien\" on the left side and then click on \"Upload\". The file should then be available under the path `data/diabetes.csv`, relative to the Jpupyter notebook.\n",
    "\n",
    "Similarly to the previous exercise you need to load this file to a dataframe using pd.read_csv"
   ]
  },
  {
   "cell_type": "code",
   "execution_count": null,
   "metadata": {
    "id": "3lO0kLsdHrmc"
   },
   "outputs": [],
   "source": [
    "df = pd.read_csv('data/diabetes.csv')"
   ]
  },
  {
   "cell_type": "markdown",
   "metadata": {
    "id": "P31Vt8WlIkcD"
   },
   "source": [
    "2. As a recap from the last exercise, examine the dataset.\n",
    "  - Figure out, which columns the dataframe contains.\n",
    "  - Print the data type of each column. Do they make sense or do we need to fix that?\n",
    "  - How many rows are there?\n",
    "  - Take a look at the first 5 rows.\n",
    "\n",
    "3. Probably you have noticed that the column `bmi` is of data type object. We need to fix that.\n",
    "  - Check if there are any NaN values in the column.\n",
    "  - Try to cast the data type to `float`. What error do you get?\n",
    "  - Remove the rows which cause the error and cast `bmi` to float.\n",
    "  - Print the data types once more to make sure you have casted the column correctly."
   ]
  },
  {
   "cell_type": "markdown",
   "metadata": {
    "id": "YYVReNxIFI0d"
   },
   "source": [
    "## Pandas plotting functions\n",
    "\n",
    "Pandas recently included functionality to plot data right out of the dataframe. Internally, Pandas makes use of Matplotlib. This is very nice, as we can build a basic plot and then still change things using Matplotlib functions afterwards. Pandas doesn't include every type of plot, however quite many are included. You can call them using the methods:\n",
    "- line : line plot (default)\n",
    "- bar : vertical bar plot\n",
    "- barh : horizontal bar plot\n",
    "- hist : histogram\n",
    "- box : boxplot\n",
    "- kde : Kernel Density Estimation plot\n",
    "- density : same as ‘kde’\n",
    "- area : area plot\n",
    "- pie : pie plot\n",
    "- scatter : scatter plot\n",
    "- hexbin : hexbin plot.\n",
    "\n",
    "Let's have a look, starting with a scatter plot."
   ]
  },
  {
   "cell_type": "markdown",
   "metadata": {
    "id": "y88bMy1UxRwN"
   },
   "source": [
    "## Scatter plot\n",
    "A scatter plot is a type of plot using Cartesian coordinates to display values for typically two variables for a set of data.\n",
    "\n",
    "Scatter plots can be drawn by using the `DataFrame.plot.scatter()` method. Scatter plots require numeric columns for the x and y axes. These can be specified by the x and y keywords."
   ]
  },
  {
   "cell_type": "code",
   "execution_count": null,
   "metadata": {
    "id": "0Ez9p_zb_Doo"
   },
   "outputs": [],
   "source": [
    "example = pd.DataFrame(np.random.rand(50, 4), columns=[\"a\", \"b\", \"c\", \"d\"]) # populate 50*4 array with random samples from a uniform distribution over [0, 1)\n",
    "print(example.head())\n",
    "example.plot.scatter(x=\"a\", y=\"b\")  # We can call a scatter function from the dataframe!\n",
    "plt.show()"
   ]
  },
  {
   "cell_type": "markdown",
   "metadata": {
    "id": "_9HYRvRjB4eQ"
   },
   "source": [
    "### Exercise\n",
    "1. Plot the dependency of body mass index (bmi) from the age using scatter plot. Do you see any trend in the data?\n",
    "2. Now try to plot the average dependency between age and the bmi. For this:\n",
    "  - Create a dataframe `aggr_by_age` that groups the patients based on their age and aggregates the column `bmi` using the mean. Hint: Have a look at the previous exercise if you don't remember the functions.\n",
    "  - Print the dataframe `aggr_by_age`. There is only one column `bmi`, right? The other column `age` is actually the index and not a true column in the dataframe. Use the function `reset_index()` to make `age` a proper column as well.\n",
    "  - Plot the dependency between age and the average `bmi` value in that age group.\n",
    "\n",
    "\n",
    "You'll see some suspicious outliers, that distract us from looking closer at the main part of the graph. We don't want to modify the data in the dataframe, but rather restrict the visible area of the graph.\n",
    "3. Use `plt.xlim(min value, max value)` and `plt.ylim(min value, max value)` to get a scatter plot without the outliers."
   ]
  },
  {
   "cell_type": "markdown",
   "metadata": {
    "id": "dI4VysRGHrd1"
   },
   "source": [
    "## Histograms and density plots\n",
    "A histogram is a graphical display of data using bars of different heights. In a histogram, each bar groups numbers into ranges. Taller bars show that more data falls in that range. A histogram displays the shape and spread of continuous sample data."
   ]
  },
  {
   "cell_type": "code",
   "execution_count": null,
   "metadata": {
    "id": "Xov4WQAhrio3"
   },
   "outputs": [],
   "source": [
    "example = pd.DataFrame([21,22,23,4,5,6,77,8,9,10,31,32,33,34,35,36,37,18,49,50,100], columns=[\"random column\"])\n",
    "example.plot.hist(bins=5, alpha=0.7)\n",
    "plt.show()"
   ]
  },
  {
   "cell_type": "markdown",
   "metadata": {
    "id": "qNaK9AFjJvyk"
   },
   "source": [
    "### Exercise\n",
    "\n",
    "1. Try to change the `num_bins` parameters and see how the plot changes.\n",
    "2. Change the parameter `alpha` and see how the plot changes."
   ]
  },
  {
   "cell_type": "markdown",
   "metadata": {
    "id": "yHRpuxFyLSxo"
   },
   "source": [
    "Density plots are similar to histograms in the sense that they also help us visualize the distrubution of a variable. An advantage that density plots have over histograms is that they're better at determining the distribution shape because they're not affected by the number of bins used, so that we have a smooth curve. We can create density plots straight out of a dataframe as follows."
   ]
  },
  {
   "cell_type": "code",
   "execution_count": null,
   "metadata": {
    "id": "IzsyZMJvNTQ8"
   },
   "outputs": [],
   "source": [
    "example1 = pd.DataFrame(np.random.randn(1000), columns=[\"random standard normal\"]) # we create an array with 1000 points from the “standard normal” distribution.\n",
    "example1.plot.kde()\n",
    "plt.show()"
   ]
  },
  {
   "cell_type": "markdown",
   "metadata": {
    "id": "F819cw1APKI6"
   },
   "source": [
    "### Exercise\n",
    "1. Plot the age distribution of all observed patients using both histogram and density plot\n",
    "2. Now let's look what age groups mostly suffer from diabetes (hint: create new dataframes `df_disease` and `df_no_disease` by applying a filter on the column \"diabetes\". Use copy to not only have a view on them but have new dataframes.)\n",
    "3. Plot the densities for both non-diabetics and diabetics in the same plot. Use the parameter `label=\"diabetic\"` and `label=\"non diabetic\"` when calling the kde function from pandas. Also call `plt.legend()` before showing the plot to print the labels."
   ]
  },
  {
   "cell_type": "markdown",
   "metadata": {
    "id": "HTsf0D2it2CH"
   },
   "source": [
    "## Pie plots\n",
    "\n",
    "Important: Pie plots can sometimes be missleading as the human eye is not very good at interpreting angles. Nevertheless, pie plots are a common way of illustrating data outside of academia. So it is nice to know how to create pie plots, but use them carefully!\n",
    "\n",
    "A pie chart is a circular statistical graphic, which is divided into slices to illustrate numerical proportion. You can create a pie plot with `DataFrame.plot.pie()`. If your data includes any NaN, they will be automatically filled with 0. A ValueError will be raised if there are any negative values in your data."
   ]
  },
  {
   "cell_type": "code",
   "execution_count": null,
   "metadata": {
    "id": "e61UIm3OusRe"
   },
   "outputs": [],
   "source": [
    "example2 = pd.DataFrame({'mass': [0.330, 4.87 , 5.97],\n",
    "                   'radius': [2439.7, 6051.8, 6378.1]},\n",
    "                  index=['Mercury', 'Venus', 'Earth'])\n",
    "print(example2)\n",
    "my_explode = [0.2,0,0] # pass an array to \"explode\" parameter to distinguish some slices from the whole pie\n",
    "example2.plot.pie(y='mass', autopct=\"%.2f\", figsize=(4,4), explode = my_explode) # with figsize you can resize your pie plot\n",
    "plt.show()"
   ]
  },
  {
   "cell_type": "markdown",
   "metadata": {
    "id": "nu9yDQvEyvit"
   },
   "source": [
    "If you want to see the visualization of different columns in the same dataframe at the same time, use (subplots = True):"
   ]
  },
  {
   "cell_type": "code",
   "execution_count": null,
   "metadata": {
    "id": "CP0pq_Njydgy"
   },
   "outputs": [],
   "source": [
    "example2.plot.pie(subplots = True, autopct=\"%.2f\", figsize=(10,10), explode = my_explode) # with figsize you can resize your pie plot\n",
    "# autopct labels the wedges with their numeric value\n",
    "plt.show()"
   ]
  },
  {
   "cell_type": "markdown",
   "metadata": {
    "id": "A4HKcCHBvZMb"
   },
   "source": [
    "### Exercise\n",
    "\n",
    "Analyse the number of pregnancies in terms of bins for patients with diabetes. Therefore,\n",
    "1. Create a new column 'no_times_pregnant_bin' which contains one of the strings 'no pregnancies', '1-3 pregnancies', ..., '7-9 pregnancies' (hint: Use `map` to apply the function `count_preg` on the column `no_times_pregnant`). A first version of the function is described below.\n",
    "2. Group the diseased people by 'no_times_pregnant_bin' and count the number of people in each of these groups (hint: use aggregations again). The result should look similar to the image below.\n",
    "3. Plot the grouped dataframe using a pie chart.\n",
    "4. Repeat the previous steps using the dataframe `df_non_disease`. What do you see? Do you have any ideas about the effect of pregnancies on the likelihood of developing diabetes? Use google to comfirm your ideas.\n",
    "\n",
    "![image.png](data:image/png;base64,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)"
   ]
  },
  {
   "cell_type": "code",
   "execution_count": null,
   "metadata": {
    "id": "lWtXBzyk_DP0"
   },
   "outputs": [],
   "source": [
    "def count_preg(no_times_pregnant):\n",
    "  if no_times_pregnant >= 10:\n",
    "    return '10+ times'\n",
    "  # finish the function\n",
    "\n",
    "# use dataframe with only diseased people, that we created above and .map(count_preg) to it"
   ]
  },
  {
   "cell_type": "code",
   "execution_count": null,
   "metadata": {
    "id": "toK7xVgEAFS8"
   },
   "outputs": [],
   "source": [
    "# now group all diseased patients by their pregnancies and plot.pie() them"
   ]
  },
  {
   "cell_type": "markdown",
   "metadata": {
    "id": "MGd0SNu4Apkx"
   },
   "source": [
    "## Boxplots\n",
    "\n",
    "A boxplot is a very common style of illustrating data. It is a standardized way of displaying the distribution of data based on five summary statistics (minimum”, first quartile (Q1), median, third quartile (Q3), and “maximum”). It immediately shows outliers along with the values. It can also tell if the data is symmetrical, how tightly your data is grouped, and if and how your data is skewed."
   ]
  },
  {
   "cell_type": "code",
   "execution_count": null,
   "metadata": {
    "id": "1NVAK4nFB6bZ"
   },
   "outputs": [],
   "source": [
    "example3 = pd.DataFrame(np.random.rand(10))\n",
    "example3.plot.box(vert = False) # by default a vertical boxplot is drawn, if you want horizontal, set vert to False\n",
    "plt.show()"
   ]
  },
  {
   "cell_type": "markdown",
   "metadata": {
    "id": "c7tTf2mED4sl"
   },
   "source": [
    "### Exercise\n",
    "\n",
    "Have a look at the distributions of serum insulin and glucose levels of the patients with diabetes and without diabetes using boxplots. Use a horizontal boxplot for serum insulin and a vertical boxplot for the glucose levels. Can you see a difference? Can you spot the 5 number summary?"
   ]
  }
 ],
 "metadata": {
  "colab": {
   "collapsed_sections": [
    "7dsWs_QM7TQO"
   ],
   "provenance": []
  },
  "kernelspec": {
   "display_name": "Python [conda env:base] *",
   "language": "python",
   "name": "conda-base-py"
  },
  "language_info": {
   "codemirror_mode": {
    "name": "ipython",
    "version": 3
   },
   "file_extension": ".py",
   "mimetype": "text/x-python",
   "name": "python",
   "nbconvert_exporter": "python",
   "pygments_lexer": "ipython3",
   "version": "3.12.7"
  }
 },
 "nbformat": 4,
 "nbformat_minor": 4
}
