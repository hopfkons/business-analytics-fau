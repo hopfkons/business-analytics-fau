{
 "cells": [
  {
   "cell_type": "markdown",
   "id": "976ce381-44d6-48ab-a523-5ea3d935ceb0",
   "metadata": {},
   "source": [
    "# First linear regression model\n",
    "This notebook will illustrate the contents of the lecture and tutorial in the week 5."
   ]
  },
  {
   "cell_type": "code",
   "execution_count": null,
   "id": "0685acdd-715e-4da6-8f24-e52ea554a286",
   "metadata": {},
   "outputs": [],
   "source": [
    "import matplotlib.pyplot as plt\n",
    "import numpy as np\n",
    "import pandas as pd\n",
    "import statsmodels.api as sm\n",
    "\n",
    "from sklearn import linear_model\n",
    "from sklearn.metrics import mean_squared_error, r2_score"
   ]
  },
  {
   "cell_type": "markdown",
   "id": "997de6c6-fac2-4082-9e0f-5a10d2896e81",
   "metadata": {},
   "source": [
    "## Load the rent index data\n",
    "The data stems from a rent index in Munich from 1999 and stems from the [Textbook of L. Fahrmeir et al.](https://link.springer.com/book/10.1007/978-3-642-01837-4)."
   ]
  },
  {
   "cell_type": "code",
   "execution_count": null,
   "id": "aa818d29-7a35-4527-a710-e8de9ecf95be",
   "metadata": {},
   "outputs": [],
   "source": [
    "mietspiegel = pd.read_table(\"data/mietspiegel99.raw\")\n",
    "print(mietspiegel.dtypes)\n",
    "mietspiegel.head(5)\n",
    "print(mietspiegel.shape)"
   ]
  },
  {
   "cell_type": "markdown",
   "id": "4d85b3f5-5f58-42f8-8d67-d88f298bdd69",
   "metadata": {},
   "source": [
    "| Variable  | Description                       | Categories |\r\n",
    "|-----------|-----------------------------------|------------|\r\n",
    "|miete      |Net rent per month (in DM)         | *numeric* |\r\n",
    "|mieteqm    |Net rent per square meter (in DM)  | *numeric* |\r\n",
    "|flaeche    |Living area in square meter        | *numeric* |\r\n",
    "|bjahr      |Year of construction (in years)    | *numeric* |\r\n",
    "|lage       |Exposure of the dwelling            |1 = norm |  \r\n",
    "|           |                                    |2 = g  d |\r\n",
    "|           |                                    |3 = excellent |\r\n",
    "|bad        |Furnishings in the bathroom         |0 = normal |\r\n",
    "|           |                                    |1 = upper |\r\n",
    "|kueche     |Furnishings in the kitchen         | 0 = normal |\r\n",
    "|           |                                    |1 = upper |\r\n",
    "|zh         |Central heating                     |0 = no |\r\n",
    "|           |                                    |1 = yes |\r\n",
    "|bez        |District in Munich                | *numeric* |\r\n",
    "ich\t(numeric)\r\n"
   ]
  },
  {
   "cell_type": "markdown",
   "id": "817f6287-cd14-43a3-8489-e0b0a667627c",
   "metadata": {},
   "source": [
    "## Some data preparations"
   ]
  },
  {
   "cell_type": "code",
   "execution_count": null,
   "id": "fdd358b2-a650-4918-8608-8070306681e3",
   "metadata": {},
   "outputs": [],
   "source": [
    "mietspiegel.bjahr = mietspiegel.bjahr.astype(int)\n",
    "#mietspiegel = mietspiegel[mietspiegel.bjahr <= 1995]\n",
    "mietspiegel"
   ]
  },
  {
   "cell_type": "markdown",
   "id": "2b093c86-433d-40f5-bd39-0763d16445ae",
   "metadata": {},
   "source": [
    "## Descriptive analyses\n",
    "We compute descriptive statistics for all variables and visualize the correlation of all variables"
   ]
  },
  {
   "cell_type": "code",
   "execution_count": null,
   "id": "961ab1aa-ed6c-4795-89e0-ee5a7d6da3ed",
   "metadata": {},
   "outputs": [],
   "source": [
    "mietspiegel.describe()"
   ]
  },
  {
   "cell_type": "code",
   "execution_count": null,
   "id": "d560a8dd-7786-4e34-a696-28ca98996c49",
   "metadata": {},
   "outputs": [],
   "source": [
    "colnames = mietspiegel.columns.values\n",
    "#print(colnames)\n",
    "\n",
    "fig = plt.figure()\n",
    "ax = fig.add_subplot(111)\n",
    "cax = ax.matshow(mietspiegel.corr())\n",
    "fig.colorbar(cax)\n",
    "\n",
    "#set the column names as axis tick labels\n",
    "xaxis = np.arange(len(colnames))\n",
    "ax.set_xticks(xaxis)\n",
    "ax.set_yticks(xaxis)\n",
    "ax.set_xticklabels(colnames)\n",
    "ax.set_yticklabels(colnames)\n",
    "\n",
    "plt.show()"
   ]
  },
  {
   "cell_type": "markdown",
   "id": "2492ac87-a5b9-49cd-95b5-c8d0aebd4eed",
   "metadata": {},
   "source": [
    "## First regression model\n",
    "The rent (`miete`) has a high correlation with the living space area (`flaeche`)."
   ]
  },
  {
   "cell_type": "code",
   "execution_count": null,
   "id": "2827c269-15f4-473e-8bc6-4f4bde5ef90e",
   "metadata": {},
   "outputs": [],
   "source": [
    "mietspiegel.plot.scatter(x=\"flaeche\", y=\"miete\")"
   ]
  },
  {
   "cell_type": "code",
   "execution_count": null,
   "id": "4a0b5e2a-41ec-4bb7-af4f-d9c8f7b45936",
   "metadata": {},
   "outputs": [],
   "source": [
    "# Create linear regression object\n",
    "regr1 = linear_model.LinearRegression()\n",
    "\n",
    "#extract the variables that we need from the dataset\n",
    "y = mietspiegel.miete.values\n",
    "x = mietspiegel.flaeche.values\n",
    "\n",
    "# they currently have the shape (3059,) but we need (3059,1), see https://scikit-learn.org/stable/modules/generated/sklearn.linear_model.LinearRegression.html#sklearn.linear_model.LinearRegression.fit\n",
    "print(y.shape)\n",
    "len = x.size\n",
    "x = x.reshape(len, 1)\n",
    "y = y.reshape(len, 1)\n",
    "print(y.shape)\n",
    "\n",
    "# We fit a linear regression model\n",
    "regr1.fit(x, y)\n",
    "\n",
    "# The regression coefficient\n",
    "print(\"Coefficients: \\n\", regr1.coef_)\n",
    "print(\"Intercept: \\n\", regr1.intercept_)\n"
   ]
  },
  {
   "cell_type": "markdown",
   "id": "085d3f19-cb6e-422b-8055-b99b4ed06797",
   "metadata": {},
   "source": [
    "## Interpretation of the results\n",
    "The model estimates an intercept / constant of 262.45, which means that a (hypothetical) appartment with 0m² living area has a base price of 262.48 DM. The coefficient of 9.40 means that for every 1m² 9.40 DM are added to the price.\n",
    "\n",
    "We plot the estimated regression line in the scatterplot. The line has the slope of 9.40 and an its intersection with the y-axis at 262.45."
   ]
  },
  {
   "cell_type": "code",
   "execution_count": null,
   "id": "acc2b5c8-c724-4323-bb23-38305787ee49",
   "metadata": {},
   "outputs": [],
   "source": [
    "pred = regr1.predict(x)\n",
    "plt.scatter(x, y, color=\"black\")\n",
    "plt.plot(x, pred, color=\"red\")\n",
    "plt.show()"
   ]
  },
  {
   "cell_type": "markdown",
   "id": "0523e4ad-458d-4ce2-be0f-e9ae3f28838e",
   "metadata": {},
   "source": [
    "# Linear regression using the statsmodel library\n",
    "We see that the interface to the regression model with scikit learn is very limited. This is not surprising, given that scikit learn is a library primarily used for machine learning application. If more insights are needed into regression models -- indeed, linear regression is a very powerful tool to understand data and conduct exploratory data analysis -- you can use the statsmodel library. \n",
    "\n",
    "Further learning resources using the statsmodel library with python can be found in an [online book by the Simon Fraser University](https://www.sfu.ca/~mjbrydon/tutorials/BAinPy/09_regression.html)."
   ]
  },
  {
   "cell_type": "code",
   "execution_count": null,
   "id": "b1a221cf-3232-4b15-8622-2db446c13a5e",
   "metadata": {},
   "outputs": [],
   "source": [
    "x2 = sm.add_constant(x)\n",
    "regr2 = sm.OLS(y, x2)\n",
    "regr2_result = regr2.fit()\n",
    "regr2_result.summary()"
   ]
  },
  {
   "cell_type": "markdown",
   "id": "850f6c1c-a290-47ff-954b-1c7b1bc3747e",
   "metadata": {},
   "source": [
    "## Analysis of residuals\n",
    "\n",
    "One assumption of the linear regression is that the residuals are normally distributed (it is called *homoscedasticity*, or homogeneity of variances). To check this, we can plot the distributions. \n",
    "\n",
    "### Exercise: Visually analyzing the residuals\n",
    "1. Use a histogram to plot the residuals (hint: you can access them using `regr2_result.resid`.\n",
    "2. Use a boxplot to visualize the residuals. Are they normally distributed?\n",
    "3. Now, use a quantile-quantile (QQ-plot) to compare the distribution of the residuals with the normal distribution. "
   ]
  },
  {
   "cell_type": "code",
   "execution_count": null,
   "id": "979b276c-1d37-4f60-b4ae-cc0116b659a4",
   "metadata": {},
   "outputs": [],
   "source": [
    "# 1. using the histogram\n",
    "\n",
    "\n",
    "# 2. using the boxplot\n",
    "\n",
    "\n",
    "# 3. using a QQ plot\n"
   ]
  },
  {
   "cell_type": "markdown",
   "id": "858bb1b3-63b2-4779-889b-1a573ffd9e5b",
   "metadata": {},
   "source": [
    "## Multinomial linear regression\n",
    "\n",
    "We want to further improve the model and add further independent variables. We start with a dummy `glage` variable encoding a better exposure of the object.\n",
    "\n",
    "### Exercise: Include dummy variables\n",
    "1. Prepare a dummy variable for exposure\n",
    "2. Fit the regression and visualize the regression lines in the scatterplot\n",
    "   "
   ]
  },
  {
   "cell_type": "code",
   "execution_count": null,
   "id": "da4eada0-7f82-42ca-abdb-9bb82734a6b8",
   "metadata": {},
   "outputs": [],
   "source": [
    "#please implement here\n"
   ]
  },
  {
   "cell_type": "code",
   "execution_count": null,
   "id": "41b58343-a1f0-44b7-84f2-735b70a9fe12",
   "metadata": {},
   "outputs": [],
   "source": [
    "# visualize the fitted regression lines in the scatterplot\n"
   ]
  },
  {
   "cell_type": "markdown",
   "id": "ee32285f-a6c4-470f-b6fc-269d998d36b7",
   "metadata": {},
   "source": [
    "# Use a dummy variable with three categories\n",
    "For more categories, we can use the build-in function of pandas to do the encoding.\n",
    "\n",
    "### Expercise: Multiple levels in the dummy variable\n",
    "1. After defining the new dummy variable with three levels, use it in the regression mode\n",
    "2. Plot the three lines in the scatterplot"
   ]
  },
  {
   "cell_type": "code",
   "execution_count": null,
   "id": "7a1670d9-e307-4351-b72f-cd0304fc31e8",
   "metadata": {},
   "outputs": [],
   "source": [
    "#x3 = mietspiegel[[\"flaeche\", \"lage\"]]\n",
    "dlage = pd.get_dummies(mietspiegel.lage, # the variable to be encoded\n",
    "                       prefix=\"dlage\",   #prefix of the name of the dummy variables\n",
    "                       drop_first=True,  #remove the first value of the dummy to avoid perfect colinearity\n",
    "                       dtype=float)      #dummy should be numeric, not boolean\n",
    "print(dlage.head(5))"
   ]
  },
  {
   "cell_type": "code",
   "execution_count": null,
   "id": "10d16cd2-4672-4a85-8c1c-964442538778",
   "metadata": {},
   "outputs": [],
   "source": [
    "#use the new dummy in the regression\n"
   ]
  },
  {
   "cell_type": "code",
   "execution_count": null,
   "id": "4c84abbb-ea7d-41ac-8237-b11a2a300592",
   "metadata": {},
   "outputs": [],
   "source": [
    "#visualize the new estimates in the scatterplot\n"
   ]
  }
 ],
 "metadata": {
  "kernelspec": {
   "display_name": "Python [conda env:base] *",
   "language": "python",
   "name": "conda-base-py"
  },
  "language_info": {
   "codemirror_mode": {
    "name": "ipython",
    "version": 3
   },
   "file_extension": ".py",
   "mimetype": "text/x-python",
   "name": "python",
   "nbconvert_exporter": "python",
   "pygments_lexer": "ipython3",
   "version": "3.12.7"
  }
 },
 "nbformat": 4,
 "nbformat_minor": 5
}
