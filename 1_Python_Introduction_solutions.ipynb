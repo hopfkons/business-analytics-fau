{
 "cells": [
  {
   "cell_type": "markdown",
   "metadata": {
    "id": "CKVp5759VWS3"
   },
   "source": [
    "# Introduction and Recap of Python\n",
    "\n",
    "This tutorial is part of the course \"Business Analytics: Technologies, Methods, and Concepts\"\n",
    "\n",
    "Instructor: [Dr. Konstantin Hopf](https://www.uni-bamberg.de/eesys/team/konstantin-hopf/)\n",
    "\n",
    "The Script was initially created by [Prof. Dr. Mathias Kraus](https://www.uni-regensburg.de/informatik-data-science/nachvollziehbare-ki/mitarbeiter/prof-dr-mathias-kraus/index.html) and [Prof. Dr. Patrick Zschech](https://www.wifa.uni-leipzig.de/institut-fuer-wirtschaftsinformatik/professuren/professur-fuer-anwendungssysteme/team)"
   ]
  },
  {
   "cell_type": "markdown",
   "metadata": {
    "id": "4lnyKtEBVWTI"
   },
   "source": [
    "## Programming Expectations\n",
    "All assignments for this class will use Python and the browser-based Jupyter notebook format you are currently viewing. We will refer to the Python 3 [documentation](https://docs.python.org/3/) in this exercise and throughout the course. In case you are not professional in Python programming, we recommend using the service of google colab which we use to test our Jupyter notebooks."
   ]
  },
  {
   "cell_type": "markdown",
   "metadata": {
    "id": "JQY8m-3CVWTK"
   },
   "source": [
    "## Learning Goals \n",
    "The goal of the Business Analytics exercise is to **teach all steps necessary to solve a predictive data analytics task** using machine learning/neural networks. On purpose, we do not go into **breadth but rather depth**, so you are able to train state-of-the-art machine learning models after only few exercises.\n",
    "\n",
    "This introductory exercise is a condensed introduction and recap to Python programming. By the end of this exercise, you will feel more comfortable:\n",
    "\n",
    "- Writing short Python code using variables, loops, and lists.\n",
    "- Writing your own Python functions."
   ]
  },
  {
   "cell_type": "markdown",
   "metadata": {
    "id": "hweTiDQyYPJI"
   },
   "source": [
    "## Variables\n",
    "\n",
    "Python variables are used to store values. Each variable has a data type. Common basic data types that come with the original Python are Booleans, Integers, Floats, Lists, Strings:\n",
    "\n",
    "- Booleans is a data type that can only store two states --- True or False\n",
    "- Integers are normal numbers --- -10, -4, 0, 49\n",
    "- Floats are real numbers --- -2.39, 0.42, 1009023.1\n",
    "- Lists are a sequence of other objects --- [True, -19, 0.32, False]\n",
    "- Strings are texts = sequences of characters --- 'this is a string'\n",
    "\n",
    "There are also other data types which we don't need in this exercise. \n",
    "\n",
    "Variable names should be lower-cased, can not start with a number and can not contain special characters (just don't use anything funky and you will be fine).\n",
    "\n",
    "You can use the function `print` which outputs the stored values to the screen.\n",
    "\n",
    "You can use the function `type` which returns the data type of the variable. \n",
    "\n",
    "`print` in combination with `type` allows you to output the type of a variable."
   ]
  },
  {
   "cell_type": "code",
   "execution_count": 20,
   "metadata": {
    "id": "9RYll-1GYOPB"
   },
   "outputs": [],
   "source": [
    "# This is a comment, we will use it to specify what is going on in a line of code\n",
    "a = 4   # This creates a variable a which holds the value 4"
   ]
  },
  {
   "cell_type": "code",
   "execution_count": 22,
   "metadata": {
    "id": "MtWRFeTmeCP6"
   },
   "outputs": [
    {
     "name": "stdout",
     "output_type": "stream",
     "text": [
      "4\n"
     ]
    }
   ],
   "source": [
    "print(a) # Using print to output the value stored in a"
   ]
  },
  {
   "cell_type": "code",
   "execution_count": 24,
   "metadata": {
    "id": "T8CIdRb7eFV5"
   },
   "outputs": [
    {
     "name": "stdout",
     "output_type": "stream",
     "text": [
      "<class 'int'>\n"
     ]
    }
   ],
   "source": [
    "type_of_a = type(a) # Store the data type of a in variable type_of_a\n",
    "print(type_of_a)  # Print the variable type which is stored in type_of_a"
   ]
  },
  {
   "cell_type": "code",
   "execution_count": 28,
   "metadata": {
    "id": "un5Bq8pNe2_k"
   },
   "outputs": [
    {
     "name": "stdout",
     "output_type": "stream",
     "text": [
      "<class 'int'>\n",
      "<class 'str'>\n"
     ]
    }
   ],
   "source": [
    "# The previous two lines can be put into one using the following. Thereby the returned value from the function type is directly forwarded to the function print.\n",
    "print(type(a))\n",
    "print(type(\"3\"))"
   ]
  },
  {
   "cell_type": "code",
   "execution_count": 30,
   "metadata": {
    "id": "eXZvqap0gNZM"
   },
   "outputs": [
    {
     "name": "stdout",
     "output_type": "stream",
     "text": [
      "2\n"
     ]
    }
   ],
   "source": [
    "a = 2 # We can reset the value stored in variable a\n",
    "print(a)"
   ]
  },
  {
   "cell_type": "code",
   "execution_count": 32,
   "metadata": {
    "id": "53TiGM-KfRMS"
   },
   "outputs": [],
   "source": [
    "b = 3.4 # This creates a variable b and initializes it with the value 3.4\n",
    "c = 'hello' # This creates a variable c and initializes it with the string 'hello'"
   ]
  },
  {
   "cell_type": "code",
   "execution_count": 34,
   "metadata": {
    "id": "4ZAKOaWiKmN3"
   },
   "outputs": [
    {
     "name": "stdout",
     "output_type": "stream",
     "text": [
      "3.4\n",
      "hello\n"
     ]
    }
   ],
   "source": [
    "print(b)\n",
    "print(c)"
   ]
  },
  {
   "cell_type": "code",
   "execution_count": 36,
   "metadata": {
    "id": "mFFcOBi_O1xd"
   },
   "outputs": [
    {
     "name": "stdout",
     "output_type": "stream",
     "text": [
      "<class 'float'>\n",
      "<class 'str'>\n"
     ]
    }
   ],
   "source": [
    "print(type(b)) # See what type the variable storing 3.4 has\n",
    "print(type(c)) # See what type the variable storing 'hello' has"
   ]
  },
  {
   "cell_type": "code",
   "execution_count": 38,
   "metadata": {
    "id": "NhRtpcgNg35q"
   },
   "outputs": [
    {
     "name": "stdout",
     "output_type": "stream",
     "text": [
      "[1, 2, 'hello', 2.3]\n",
      "<class 'list'>\n"
     ]
    }
   ],
   "source": [
    "d = [1, 2, 'hello', 2.3] # This creates a list d and initializes it with the sequence 1,2, 'hello', 2.3. The square brackets tell that this is a list. \n",
    "# Note that the data types of the elements in the sequence are different.\n",
    "print(d)\n",
    "print(type(d))"
   ]
  },
  {
   "cell_type": "code",
   "execution_count": 42,
   "metadata": {
    "id": "IZI2GcwokK6d"
   },
   "outputs": [
    {
     "name": "stdout",
     "output_type": "stream",
     "text": [
      "1\n"
     ]
    }
   ],
   "source": [
    "print(d[0]) # We can also access single positions in the list using squared brackets. As you can see, this accesses the first position. \n",
    "# Watch out: some programming languages start indexing at 1, Python starts counting at 0 (i.e., the first position is accessed by 0)."
   ]
  },
  {
   "cell_type": "code",
   "execution_count": 50,
   "metadata": {
    "id": "uqavr6W1-wrF"
   },
   "outputs": [
    {
     "name": "stdout",
     "output_type": "stream",
     "text": [
      "<class 'str'>\n",
      "<class 'list'>\n"
     ]
    }
   ],
   "source": [
    "print(type(d[2])) # We can also print the data type of the element which is at the third position in the sequence\n",
    "print(type(d))"
   ]
  },
  {
   "cell_type": "code",
   "execution_count": 52,
   "metadata": {
    "id": "Oea4muh7g8P1"
   },
   "outputs": [
    {
     "name": "stdout",
     "output_type": "stream",
     "text": [
      "[5.2, 2, 'hello', 2.3]\n"
     ]
    }
   ],
   "source": [
    "d[0] = 5.2 # We can set positions in the list to new values. \n",
    "print(d) "
   ]
  },
  {
   "cell_type": "code",
   "execution_count": 54,
   "metadata": {
    "id": "xENDOwRIjjrm"
   },
   "outputs": [
    {
     "name": "stdout",
     "output_type": "stream",
     "text": [
      "4\n"
     ]
    }
   ],
   "source": [
    "print(len(d)) # The length of the list can be obtained using the function len"
   ]
  },
  {
   "cell_type": "code",
   "execution_count": 80,
   "metadata": {
    "id": "20OHE0WgjqUv"
   },
   "outputs": [
    {
     "name": "stdout",
     "output_type": "stream",
     "text": [
      "[10]\n",
      "1\n"
     ]
    }
   ],
   "source": [
    "d.append(10) # We can also call a function/method append which creates another position at the end of the list and puts 10 there.\n",
    "print(d)\n",
    "print(len(d))"
   ]
  },
  {
   "cell_type": "code",
   "execution_count": 64,
   "metadata": {
    "id": "M27QO5TW9PET"
   },
   "outputs": [
    {
     "name": "stdout",
     "output_type": "stream",
     "text": [
      "[]\n",
      "[1, 2, 3, 4, 5, 6, 7, 8, 9, 10]\n",
      "[1, 2.0, 3, 4.0, 5]\n"
     ]
    }
   ],
   "source": [
    "# The following creates more lists\n",
    "empty_list = []\n",
    "int_list = [1, 2, 3, 4, 5, 6, 7, 8, 9, 10]\n",
    "mixed_list = [1, 2., 3, 4., 5]\n",
    "print(empty_list)\n",
    "print(int_list)\n",
    "print(mixed_list)"
   ]
  },
  {
   "cell_type": "markdown",
   "metadata": {
    "id": "XPs9OLKaaC_9"
   },
   "source": [
    "## Exercises\n",
    "\n",
    "1. Create two integers `start_int`, `stop_int` and initialize them with 100 and 1000.\n",
    "2. Create a float `x` and initialize it with 2.3\n",
    "3. Multiply `start_int` with `x` and write the result into a variable `res`. \n",
    "4. Print the variable `res`.\n",
    "5. Also print the data types of `start_int`, `x`, and `res`. \n",
    "6. Create a list `e` with the sequence 1, 2, 3, 4, 5.\n",
    "7. Replace the '3' with the string 'test'. Which index did you use?\n",
    "8. What happens if you write 2.1 to the -1-th position (i.e.,  e[-1] = ?). Print the list.\n",
    "9. Add another position at the end of the list with the value 12345."
   ]
  },
  {
   "cell_type": "code",
   "execution_count": 1,
   "metadata": {
    "scrolled": true
   },
   "outputs": [
    {
     "name": "stdout",
     "output_type": "stream",
     "text": [
      "<class 'int'>\n",
      "<class 'float'>\n",
      "229.99999999999997\n",
      "230\n",
      "[1, 2, 3, 4, 5]\n",
      "[1, 2, 'test', 4, 5]\n",
      "[1, 2, 'test', 4, 2.1]\n",
      "[1, 2, 'test', 4, 2.1, 12345]\n",
      "[1, 2, 'test', 4, 2.1, 12345, 12345]\n"
     ]
    }
   ],
   "source": [
    "#task 1\n",
    "start_int = 100\n",
    "print(type(start_int))\n",
    "stop_int = 1000\n",
    "\n",
    "#task 2\n",
    "x = 2.3\n",
    "print(type(x))\n",
    "\n",
    "#task 3 and 4\n",
    "res = start_int * x\n",
    "print(res) #This is a problem of floating point operation, because computers cannot represent all numbers well. One could use the Decimal package to solve this problem or round the number\n",
    "print(round(res))\n",
    "\n",
    "#task 6\n",
    "e = [1,2,3,4,5]\n",
    "print(e)\n",
    "e[2] = \"test\"\n",
    "print(e)\n",
    "e[-1] = 2.1\n",
    "print(e)\n",
    "e.append(12345)\n",
    "print(e)\n",
    "e.append(12345)\n",
    "print(e)"
   ]
  },
  {
   "cell_type": "markdown",
   "metadata": {
    "id": "_YsJEjbMKad2"
   },
   "source": [
    "### Basic Math Computations\n",
    "The `+`, `-`, and `*` operators are overloaded in Python and depend on the data types of the variables which are added. Let's have a look"
   ]
  },
  {
   "cell_type": "code",
   "execution_count": 94,
   "metadata": {
    "id": "Rdzw7tYjKQj0"
   },
   "outputs": [
    {
     "name": "stdout",
     "output_type": "stream",
     "text": [
      "4\n",
      "5.0\n",
      "texttext\n",
      "[1, 2, 'a', 1, 2, 'a']\n"
     ]
    }
   ],
   "source": [
    "# Let's create some variables of different data types\n",
    "a = 2\n",
    "b = 3.0\n",
    "c = 'text'\n",
    "d = [1, 2, 'a']\n",
    "\n",
    "# Now we can add some\n",
    "print(a + a)\n",
    "print(a + b)\n",
    "print(c + c)\n",
    "print(d + d)"
   ]
  },
  {
   "cell_type": "markdown",
   "metadata": {
    "id": "ms9naMUlwJcW"
   },
   "source": [
    "### Exercise\n",
    "1. Try what happens when you add (`+`), subtract (`-`), and multiply (`*`) variables of various data types (Boolean, Integer, Float, Lists). Not all combinations work. What error message do you see, when it doesn't work? Can you read the error message."
   ]
  },
  {
   "cell_type": "code",
   "execution_count": 96,
   "metadata": {},
   "outputs": [
    {
     "name": "stdout",
     "output_type": "stream",
     "text": [
      "6.0\n"
     ]
    },
    {
     "ename": "TypeError",
     "evalue": "unsupported operand type(s) for +: 'int' and 'list'",
     "output_type": "error",
     "traceback": [
      "\u001b[0;31m---------------------------------------------------------------------------\u001b[0m",
      "\u001b[0;31mTypeError\u001b[0m                                 Traceback (most recent call last)",
      "Cell \u001b[0;32mIn[96], line 2\u001b[0m\n\u001b[1;32m      1\u001b[0m \u001b[38;5;28mprint\u001b[39m(b\u001b[38;5;241m*\u001b[39ma)\n\u001b[0;32m----> 2\u001b[0m \u001b[38;5;28mprint\u001b[39m(\u001b[38;5;241m25\u001b[39m\u001b[38;5;241m+\u001b[39md)\n",
      "\u001b[0;31mTypeError\u001b[0m: unsupported operand type(s) for +: 'int' and 'list'"
     ]
    }
   ],
   "source": [
    "print(b*a)\n",
    "print(25+d)"
   ]
  },
  {
   "cell_type": "markdown",
   "metadata": {
    "id": "kvhDY9BBK3pJ"
   },
   "source": [
    "### Additional Information: Error Messages and Debugging\n",
    "\n",
    "In the previous exercises you most likely tried something which didn't work at the first try. The reason can be twofold: \n",
    "\n",
    "1. That you programmed something which runs from the interpreter perspective (it doesn't crash) but yields a wrong result. These mistakes are particularly painful to find. For me it helps to go through the code line by line and simply `print` the values of variables. Using this technique you quickly see at which point a wrong value is stored in a variable. This is also the main reason why we later pick Pytorch over Tensorflow as Pytorch allows to always `print` the values of variables.\n",
    "\n",
    "2. The interpreter threw an error. This happens if you want to execute a line of code which doesn't make sense/is illegal in Python. Examples can be\n",
    "```\n",
    "a = 2 + 'hallo'\n",
    "b = [1, 2, 3] + 4\n",
    "```\n",
    "Python is very good in describing its errors. The first line throws \n",
    "```\n",
    "TypeError: unsupported operand type(s) for +: 'int' and 'str'\n",
    "```\n",
    "In these cases, closely read the error message. There is also always a line number shown. So go to the line number and try to figure out what happens based on the error message. Are you dividing by zero? Are there data types that you didn't want?\n",
    "\n",
    "The above two things usually take 90% of the time spent programming. In the beginning, each error message is a pain and it takes long to fix it. After a while you have seen many things and already know what is going on before you even looked at the line the error is thrown."
   ]
  },
  {
   "cell_type": "markdown",
   "metadata": {
    "id": "84nNjs5TLhUp"
   },
   "source": [
    "### Comparison between Variables\n",
    "\n",
    "Quite often, it is handy to evaluate if two variables have the same value. Especially when later looking at `if` and `else` statements, this is crucial. Let's have a look at a couple of examples:\n"
   ]
  },
  {
   "cell_type": "code",
   "execution_count": 104,
   "metadata": {
    "id": "FyAk0iyzxMk8"
   },
   "outputs": [
    {
     "name": "stdout",
     "output_type": "stream",
     "text": [
      "False\n",
      "True\n",
      "True\n"
     ]
    }
   ],
   "source": [
    "a = 2\n",
    "b = 3\n",
    "print(a == b)\n",
    "print(a == 2)\n",
    "c = (a == 2)\n",
    "type(c)\n",
    "d = (a == 2) & False\n",
    "d = (a == 2) | False\n",
    "print(d)"
   ]
  },
  {
   "cell_type": "markdown",
   "metadata": {
    "id": "-DOjzBqexNA4"
   },
   "source": [
    "Note the two equal signs ```==```. As the single equal sign sets a value to a variable, we need two equal signs to compare two values. Other comparisons are\n",
    "\n",
    "- greater ```x > 5```\n",
    "- greater or equal ```x >= 2```\n",
    "- smaller ```x < 3```\n",
    "- smaller or equal ```x <= 7```\n",
    "- unequal ```x != 12```\n",
    "\n",
    "Additional Information: A condition always boils down to an (internal) Boolean variable --- True or False. If the Boolean variable is True, the conditional code block is executed, if it is False, the block is not executed.  "
   ]
  },
  {
   "cell_type": "markdown",
   "metadata": {
    "id": "X3rysZlT_nTd"
   },
   "source": [
    "### Slicing of Lists\n",
    "\n",
    "Quite often, you want to extract a sub-list of your original list. This can be done with the syntax ```list[beginning_index:ending_index]```, where the ```beginning_index``` is included and the ```ending_index``` is excluded. Let's have a look at a couple of examples."
   ]
  },
  {
   "cell_type": "code",
   "execution_count": 136,
   "metadata": {
    "id": "S6KxO1lEASAS"
   },
   "outputs": [
    {
     "name": "stdout",
     "output_type": "stream",
     "text": [
      "[10, 923, 12, 23, 1, 2, 35, 12, 34]\n",
      "12\n"
     ]
    }
   ],
   "source": [
    "l = [10, 923, 12, 23, 1, 2, 35, 12, 34] # We first create a list\n",
    "print(l)\n",
    "print(l[2])"
   ]
  },
  {
   "cell_type": "code",
   "execution_count": 138,
   "metadata": {
    "id": "f8AhHB7RAeh_"
   },
   "outputs": [
    {
     "name": "stdout",
     "output_type": "stream",
     "text": [
      "[10, 923, 12]\n"
     ]
    }
   ],
   "source": [
    "# Now we want to create a new sub-list that only contains the first three elements:\n",
    "sub_list = l[0:3] # We start at index 0 and want to end at index 2 (Remember that the ending_index is excluded)\n",
    "print(sub_list)"
   ]
  },
  {
   "cell_type": "code",
   "execution_count": 140,
   "metadata": {
    "id": "ygZWe5MlBAis"
   },
   "outputs": [
    {
     "name": "stdout",
     "output_type": "stream",
     "text": [
      "[12, 23, 1, 2, 35]\n"
     ]
    }
   ],
   "source": [
    "# Let's create a sub-list from the element at index 2 to the element at index 6.\n",
    "sub_list = l[2:7]\n",
    "print(sub_list)"
   ]
  },
  {
   "cell_type": "markdown",
   "metadata": {
    "id": "t2I4LW0WBddT"
   },
   "source": [
    "Note that the description of the position can be unclear. Do we say that 923 is the second element (although its index is 1) or do we say that 12 is the second element (although its position is 3). Try to be precise here and always use the index of an element."
   ]
  },
  {
   "cell_type": "code",
   "execution_count": 156,
   "metadata": {
    "id": "8bI2sq_tBy9G"
   },
   "outputs": [
    {
     "name": "stdout",
     "output_type": "stream",
     "text": [
      "[35, 12]\n",
      "[]\n",
      "[10, 923, 12, 23, 1, 2, 35, 12, 34]\n"
     ]
    }
   ],
   "source": [
    "# We have seen before that we can also access the last element with the index -1. Let's see what happens if we use that when slicing\n",
    "print(l[-3: -1])\n",
    "print(l[-3: -4])\n",
    "print(l[0:100])"
   ]
  },
  {
   "cell_type": "markdown",
   "metadata": {
    "id": "SmWAc2-7CGjh"
   },
   "source": [
    "Python lists can be accessed from the end of the list using negativ indizes. ```l[-3:-4]``` returns an empty list because the beginning_index is after the ending_index. "
   ]
  },
  {
   "cell_type": "code",
   "execution_count": 134,
   "metadata": {
    "id": "YueJfVtdCiD7"
   },
   "outputs": [
    {
     "name": "stdout",
     "output_type": "stream",
     "text": [
      "[12, 23, 1, 2, 34, 12, 34]\n",
      "[10, 923, 12, 23]\n"
     ]
    }
   ],
   "source": [
    "# We can also not specify the beginning_index or the ending_index and the list starts at the beginning or runs until the end of the list, respectively\n",
    "print(l[2:])\n",
    "print(l[:4])"
   ]
  },
  {
   "cell_type": "markdown",
   "metadata": {
    "id": "4sATVDfpC6Rr"
   },
   "source": [
    "### Exercise\n",
    "\n",
    "1. Create a list my_list with a sequence of length 11 with booleans, integers, floats, and strings\n",
    "2. Replace the element with index 3 by 'moin'\n",
    "3. Replace the second last element by 0 and the element with index 4 with 15\n",
    "4. Add 2 to the second last element\n",
    "5. Multiply the element with index 4 by 3\n",
    "6. Can you print the center element of the list?\n",
    "7. Can you also print the center element without specifying the index. Hint: Use the length of the list. Probably you run into an error. Have a look at https://www.w3schools.com/python/python_casting.asp and try to fix the error. "
   ]
  },
  {
   "cell_type": "code",
   "execution_count": 164,
   "metadata": {
    "colab": {
     "base_uri": "https://localhost:8080/"
    },
    "id": "D3C1MFoC1S8J",
    "outputId": "9d7520a1-95a3-45cb-e2f7-74fb4a0cc8b3"
   },
   "outputs": [
    {
     "name": "stdout",
     "output_type": "stream",
     "text": [
      "[1, 3, 2, True, 3.4, 'hallo', 5, 4, 2, 3, False]\n",
      "[1, 3, 2, 'moin', 3.4, 'hallo', 5, 4, 2, 3, False]\n",
      "[1, 3, 2, 'moin', 15, 'hallo', 5, 4, 2, 0, False]\n",
      "[1, 3, 2, 'moin', 15, 'hallo', 5, 4, 2, 4, False]\n",
      "[1, 3, 2, 'moin', 135, 'hallo', 5, 4, 2, 4, False]\n",
      "hallo\n",
      "6.5\n",
      "5\n",
      "3\n"
     ]
    }
   ],
   "source": [
    "#task 1\n",
    "my_list = [1, 3, 2, True, 3.4, 'hallo', 5, 4, 2, 3, False]\n",
    "print(my_list)\n",
    "\n",
    "#task 2 \n",
    "my_list[3] = 'moin'\n",
    "print(my_list)\n",
    "\n",
    "#task 3 \n",
    "my_list[-2] = 0\n",
    "my_list[4] = 15\n",
    "print(my_list)\n",
    "\n",
    "#task 4\n",
    "my_list[-2] = my_list[-2] + 2 #(short version: my_list[-2] += 2)\n",
    "my_list[-2] += 2\n",
    "print(my_list)\n",
    "\n",
    "#task 5\n",
    "my_list[4] = my_list[4] * 3 #(short version: my_list[4] *= 3)\n",
    "my_list[4] *= 3\n",
    "print(my_list)\n",
    "\n",
    "#task 6\n",
    "print(my_list[5])\n",
    "\n",
    "my_list.append(4)\n",
    "my_list.append(5)\n",
    "\n",
    "#task 7\n",
    "print(len(my_list) / ^2)\n",
    "#print(my_list[len(my_list) / 2]) #leads to an error\n",
    "print(my_list[int(len(my_list) / 2)])\n",
    "print(int(3.2))"
   ]
  },
  {
   "cell_type": "markdown",
   "metadata": {},
   "source": [
    "## Conditions"
   ]
  },
  {
   "cell_type": "markdown",
   "metadata": {},
   "source": [
    "Above, we have seen how logical comparisons can be made with `==` (equality), `!=` (inequality), `<` (less than), `<=` (less than or qual), ... \n",
    "Now, we can use these logical comparisons to alter the program flow.. "
   ]
  },
  {
   "cell_type": "code",
   "execution_count": 21,
   "metadata": {},
   "outputs": [
    {
     "name": "stdout",
     "output_type": "stream",
     "text": [
      "b is greater than a\n",
      "Wird immer ausgeführt\n",
      "b is greater than a\n"
     ]
    }
   ],
   "source": [
    "a = 33\n",
    "b = 200\n",
    "\n",
    "if b > a:\n",
    "  print(\"b is greater than a\")\n",
    "print(\"Wird immer ausgeführt\")\n",
    "    \n",
    "#this condition can also be extended with `elseif` or `else` statements\n",
    "\n",
    "a = 199\n",
    "if b > a:\n",
    "  print(\"b is greater than a\")\n",
    "elif b == a:\n",
    "  print (\"equal\")\n",
    "else:\n",
    "  print(\"a is greater than b\")"
   ]
  },
  {
   "cell_type": "markdown",
   "metadata": {},
   "source": [
    "Please note that Python relies on **indentation** (whitespace at the beginning of a line) to define scope in the code. Other programming languages often use curly-brackets for this purpose. "
   ]
  },
  {
   "cell_type": "code",
   "execution_count": 23,
   "metadata": {},
   "outputs": [
    {
     "ename": "IndentationError",
     "evalue": "expected an indented block after 'if' statement on line 2 (3106660785.py, line 3)",
     "output_type": "error",
     "traceback": [
      "\u001b[0;36m  Cell \u001b[0;32mIn[23], line 3\u001b[0;36m\u001b[0m\n\u001b[0;31m    print(\"b is greater than a\")\u001b[0m\n\u001b[0m    ^\u001b[0m\n\u001b[0;31mIndentationError\u001b[0m\u001b[0;31m:\u001b[0m expected an indented block after 'if' statement on line 2\n"
     ]
    }
   ],
   "source": [
    "#this will not work:\n",
    "if b > a:\n",
    "print(\"b is greater than a\")"
   ]
  },
  {
   "cell_type": "markdown",
   "metadata": {
    "id": "wXcyQfCsbxkQ"
   },
   "source": [
    "## For Loops"
   ]
  },
  {
   "cell_type": "markdown",
   "metadata": {
    "id": "lQBFy_T-iRQG"
   },
   "source": [
    "For loops are handy to iterate through a list. Iterating through a list means that you create a circle of programming code in which a variable stores the first value of the list in a first round, then in the second round stores the second value, ..., until you are at the last value of the list. It's easier to show it using an example :-)"
   ]
  },
  {
   "cell_type": "code",
   "execution_count": 27,
   "metadata": {
    "id": "H-BjxniLiOxB"
   },
   "outputs": [
    {
     "name": "stdout",
     "output_type": "stream",
     "text": [
      "[1, 2, 3, 4, 5]\n"
     ]
    }
   ],
   "source": [
    "list_to_iterate = [1, 2, 3, 4, 5] # We first create a list containing a couple of values\n",
    "print(list_to_iterate)"
   ]
  },
  {
   "cell_type": "code",
   "execution_count": 29,
   "metadata": {
    "id": "YriYkjPWjKqx"
   },
   "outputs": [
    {
     "name": "stdout",
     "output_type": "stream",
     "text": [
      "1\n",
      "Next iteration\n",
      "2\n",
      "Next iteration\n",
      "3\n",
      "Next iteration\n",
      "4\n",
      "Next iteration\n",
      "5\n",
      "Next iteration\n"
     ]
    }
   ],
   "source": [
    "# We now create the for loop.\n",
    "for variable_to_store_values_in_each_iteration in list_to_iterate:\n",
    "  print(variable_to_store_values_in_each_iteration)\n",
    "  print('Next iteration')\n",
    "\n",
    "# Of course, you would never name your variable with such a long name"
   ]
  },
  {
   "cell_type": "code",
   "execution_count": 31,
   "metadata": {
    "id": "nxQqUuhKlQrs"
   },
   "outputs": [
    {
     "name": "stdout",
     "output_type": "stream",
     "text": [
      "2\n",
      "4\n",
      "6\n",
      "8\n",
      "10\n"
     ]
    }
   ],
   "source": [
    "# For loops are nice because you access all elements in the list:\n",
    "\n",
    "for x in list_to_iterate:\n",
    "  print(x * 2)"
   ]
  },
  {
   "cell_type": "markdown",
   "metadata": {
    "id": "zlaFN8wSmApf"
   },
   "source": [
    "As you probably noticed, the print lines in the past two code blocks are indented. This is used by the Python programming language to put blocks of code together. In other programming languages, this is usually done by some kind of brackets. See the following example to understand the behavior:"
   ]
  },
  {
   "cell_type": "code",
   "execution_count": 33,
   "metadata": {
    "id": "gvJwkP6-m3fM"
   },
   "outputs": [
    {
     "name": "stdout",
     "output_type": "stream",
     "text": [
      "hello\n",
      "hello\n",
      "hello\n",
      "hello\n",
      "hello\n",
      "world\n"
     ]
    }
   ],
   "source": [
    "for x in list_to_iterate:\n",
    "  print('hello')\n",
    "print('world')"
   ]
  },
  {
   "cell_type": "markdown",
   "metadata": {
    "id": "wAf0lzzxLsVW"
   },
   "source": [
    "As you can see, 'hello' is indented and, thus, is in the for loop block. It gets executed multiple times. 'world' is outside (after) the for loop block and, thus, only gets executed once. "
   ]
  },
  {
   "cell_type": "markdown",
   "metadata": {
    "id": "CK7pZgj0nDQc"
   },
   "source": [
    "## Exercises\n",
    "\n",
    "1. Create a list list_2 with the values 5 to 10.\n",
    "2. Create a for loop which iterates over the *positions* of the list (not the values) and sets all values of list_2 to 2 (i.e., the resulting list should store the sequence 2, 2, ..., 2). Hint: Create another list which helps you to access the positions in list_2\n",
    "3. Have a look at the function range (for instance at https://pynative.com/python-range-function/). Can you solve the problem from 2 also using the range function?\n",
    "4. Difficult: Print the following using a for-loop. Hint: Use `print('string', end=' ')` to print 'string' without having a new line afterwards. Use `print('\\n')` to print a new line. \n",
    "```\n",
    "1\n",
    "1 2 \n",
    "1 2 3 \n",
    "1 2 3 4 \n",
    "1 2 3 4 5\n",
    "```"
   ]
  },
  {
   "cell_type": "code",
   "execution_count": 41,
   "metadata": {
    "scrolled": true
   },
   "outputs": [
    {
     "name": "stdout",
     "output_type": "stream",
     "text": [
      "5\n",
      "6\n",
      "7\n",
      "8\n",
      "9\n",
      "10\n",
      "[3, 3, 3, 3, 3, 3]\n",
      "[1]\n",
      "[1, 2]\n",
      "[1, 2, 3]\n",
      "[1, 2, 3, 4]\n",
      "[1, 2, 3, 4, 5]\n",
      "1 1 2 1 2 3 1 2 3 4 1 2 3 4 5 "
     ]
    }
   ],
   "source": [
    "#task 1\n",
    "list_2 = [5, 6, 7, 8, 9, 10]\n",
    "\n",
    "list_index = [0, 1, 2, 3, 4, 5]\n",
    "\n",
    "#task 2 - initial solution, using an additional (manually created) list\n",
    "for x in list_index:\n",
    "    list_2[x] = 2\n",
    "print(list_2)\n",
    "\n",
    "#task 3 - alternative solution: using range()\n",
    "list_index = range(0,len(list_2)) #len gives the length of the list and range creates an integer row\n",
    "for x in list_index:\n",
    "    list_2[x] = 2\n",
    "print(list_2)\n",
    "\n",
    "#task 2/3 - alternative solution, using build-in list iteration interface\n",
    "for idx, x in enumerate(list_2):\n",
    "    print(x)\n",
    "    list_2[idx] = 3\n",
    "print(list_2)\n",
    "\n",
    "\n",
    "\n",
    "#task 4\n",
    "list_3 = [1,2,3,4,5]\n",
    "list_3idx = [1,2,3,4,5]\n",
    "\n",
    "for x in list_3idx:\n",
    "    print(list_3[0:x]) # this gives us the output with the list-brackets\n",
    "\n",
    "for x in list_3idx:\n",
    "    for y in list_3[0:x]: # we can use a nested loop to come to the solution\n",
    "      print(y, end = \" \")\n",
    "    print(\"\\n\")"
   ]
  },
  {
   "cell_type": "markdown",
   "metadata": {
    "id": "gPkw53-wHRgq"
   },
   "source": [
    "### Loops combined with If-Else Statements\n",
    "\n",
    "If and else Statements can be used if you only want to run code if a condition is fullfilled. Similar to the for-loop, Python uses indented code to tell where the block starts and ends:\n",
    "\n",
    "```\n",
    "if condition_1:\n",
    "  print('condition_1 fullfilled')\n",
    "  print('we are still in the if-clause')\n",
    "elif condition_2:\n",
    "  print('condition_2 fullfilled')\n",
    "else:\n",
    "  print('no condition fullfilled')\n",
    "\n",
    "print('we are out of the if-else statement')\n",
    "```"
   ]
  },
  {
   "cell_type": "code",
   "execution_count": 43,
   "metadata": {
    "id": "WKtgSEemIxbk"
   },
   "outputs": [
    {
     "name": "stdout",
     "output_type": "stream",
     "text": [
      "hello eva\n",
      "moin markus\n",
      "name not in if-else conditions\n",
      "name not in if-else conditions\n"
     ]
    }
   ],
   "source": [
    "l = ['eva', 'markus', 'sandra', 'mathias'] # Let's create a list that we can iterate through\n",
    "\n",
    "for name in l:\n",
    "  if name == 'eva':\n",
    "    print('hello eva')\n",
    "  elif name == 'markus':\n",
    "    print('moin markus')\n",
    "  else:\n",
    "    print('name not in if-else conditions')"
   ]
  },
  {
   "cell_type": "markdown",
   "metadata": {
    "id": "6qUPM1_rJgnQ"
   },
   "source": [
    "### Exercise\n",
    "\n",
    "1. Create a list l with number from 0 to 10.\n",
    "2. Iterate through the list and print 'even' whenever the element at the iteration is even. Else print 'not even'"
   ]
  },
  {
   "cell_type": "code",
   "execution_count": 48,
   "metadata": {},
   "outputs": [
    {
     "name": "stdout",
     "output_type": "stream",
     "text": [
      "0 is even\n",
      "1 is not even\n",
      "2 is even\n",
      "3 is not even\n",
      "4 is even\n",
      "5 is not even\n",
      "6 is even\n",
      "7 is not even\n",
      "8 is even\n",
      "9 is not even\n",
      "10 is even\n"
     ]
    }
   ],
   "source": [
    "list = range(0,11)\n",
    "\n",
    "for x in list:\n",
    "    #print(x)\n",
    "    if x % 2 == 0:   # is the modulo operation - this is the rest of a dividion\n",
    "      print(x, \"is even\")\n",
    "    else:\n",
    "      print(x, \"is not even\")"
   ]
  },
  {
   "cell_type": "markdown",
   "metadata": {
    "id": "hGwzl6tfVWTz"
   },
   "source": [
    "## Functions\n",
    "\n",
    "A *function* is a reusable block of code that does a specific task. Functions are commonplace in Python, either on their own or as they belong to other objects. To invoke a function `func`, you call it as `func(arguments)`.\n",
    "\n",
    "We've seen built-in Python functions and methods. For example, `len()` and `print()` are built-in Python functions."
   ]
  },
  {
   "cell_type": "markdown",
   "metadata": {
    "id": "wKchHU-BVWTz"
   },
   "source": [
    "## User-defined functions\n",
    "\n",
    "We now learn to write our own functions. Below is the syntax for defining a basic function with one input argument and one output. You can also define functions with no input or output arguments, or multiple input or output arguments. As you can see, Python uses indented blocks to tell where the function code starts and where it ends.\n",
    "\n",
    "```\n",
    "def name_of_function(arg):\n",
    "  ...\n",
    "  return(output)\n",
    "```\n",
    "\n",
    "Here are two such functions with one input and one output argument."
   ]
  },
  {
   "cell_type": "code",
   "execution_count": 50,
   "metadata": {
    "id": "C7ObcLsFVWT0"
   },
   "outputs": [],
   "source": [
    "def square(x):\n",
    "  x_sqr = x*x\n",
    "  return(x_sqr)\n",
    "\n",
    "def cube(x):\n",
    "  x_cub = x*x*x\n",
    "  return(x_cub)"
   ]
  },
  {
   "cell_type": "markdown",
   "metadata": {
    "id": "AcTAXYHrMuvQ"
   },
   "source": [
    "We can now call these two functions with arguments."
   ]
  },
  {
   "cell_type": "code",
   "execution_count": 52,
   "metadata": {
    "id": "R2bzMkIVMyNw"
   },
   "outputs": [
    {
     "name": "stdout",
     "output_type": "stream",
     "text": [
      "25\n",
      "729000\n"
     ]
    }
   ],
   "source": [
    "square_return = square(5)\n",
    "print(square_return)\n",
    "square_return = cube(90)\n",
    "print(square_return)"
   ]
  },
  {
   "cell_type": "markdown",
   "metadata": {
    "id": "hRCUgK51VWT0"
   },
   "source": [
    "What if you want to return two variables at a time? Simply separate them with a comma:\n",
    "\n",
    "Additional Information: The returned thing (125, 25) (with the normal brackets) is of data type `tuple`. It is not as common as a list, so we skipped it previously."
   ]
  },
  {
   "cell_type": "code",
   "execution_count": 62,
   "metadata": {
    "id": "T6tQlwDAVWT1"
   },
   "outputs": [
    {
     "name": "stdout",
     "output_type": "stream",
     "text": [
      "125\n",
      "25\n",
      "(125, 25)\n",
      "<class 'tuple'>\n"
     ]
    }
   ],
   "source": [
    "def square_and_cube(x):\n",
    "  x_cub = x*x*x\n",
    "  x_sqr = x*x\n",
    "  return x_cub, x_sqr\n",
    "\n",
    "a, b = square_and_cube(5)\n",
    "print(a)\n",
    "print(b)\n",
    "print(square_and_cube(5))\n",
    "\n",
    "x = square_and_cube(5)\n",
    "print(type(x))"
   ]
  },
  {
   "cell_type": "markdown",
   "metadata": {
    "id": "-O9poqK-uIR8"
   },
   "source": [
    "And if you want to have two inputs?"
   ]
  },
  {
   "cell_type": "code",
   "execution_count": 65,
   "metadata": {
    "id": "dt8upcY5uL4S"
   },
   "outputs": [
    {
     "name": "stdout",
     "output_type": "stream",
     "text": [
      "[4, 6, 8]\n"
     ]
    }
   ],
   "source": [
    "def elemt_wise_sum(x, y):\n",
    "  result_sum = [] #This is an empty list\n",
    "\n",
    "  for index in range(len(x)):                 # We now iterate through the list\n",
    "    result_sum.append(x[index] + y[index])    # and add the respective values from the two lists\n",
    "      \n",
    "  return result_sum\n",
    "\n",
    "print(elemt_wise_sum([1, 2, 3], [3, 4, 5]))"
   ]
  },
  {
   "cell_type": "markdown",
   "metadata": {
    "id": "3uAtAv-IVWT4"
   },
   "source": [
    "## Methods\n",
    "A function can also belong to an object (if you don't know what an object and a class is, please refer to https://www.geeksforgeeks.org/python-classes-and-objects/ or other sources). When a function belongs to an object, it is called a *method*. By \"object,\" we mean an \"instance\" of a class (e.g., list, integer, or floating point variable).\n",
    "\n",
    "For example, when we invoke `append()` on an existing list, `append()` is a method.\n",
    "\n",
    "**Please note:** There are functions that belong to objects (called methods) and that there are functions that are independent of objects (called functions)."
   ]
  },
  {
   "cell_type": "markdown",
   "metadata": {
    "id": "BFrefJP8txDo"
   },
   "source": [
    "## Exercises\n",
    "\n",
    "1. Create a function `elemt_wise_product` which takes three lists as an input and returns a list in which each position is equal to the product of the three values from the three lists, \n",
    "e.g., `elemt_wise_product([0, 1, 2], [4, 5, 6], [2, 3, 4])` should return `[0, 15, 48]`. You can assume that the lists have equal length.\n",
    "2. Create a function `hello_name` which takes an input `name` and prints 'hello' if the name equals 'eva', 'sandra', or 'markus'. Else it doesn't print anything. "
   ]
  },
  {
   "cell_type": "code",
   "execution_count": 71,
   "metadata": {},
   "outputs": [
    {
     "name": "stdout",
     "output_type": "stream",
     "text": [
      "[0, 15, 48]\n",
      "hello sandra\n"
     ]
    }
   ],
   "source": [
    "#task 1\n",
    "def elemt_wise_product(list_1, list_2, list_3):\n",
    "    #check if the length of the given lists is equal (not required for the task but good programming behavior)\n",
    "    if not (len(list_1) == len(list_2) and len(list_1) == len(list_3)):\n",
    "        #this command produces an error with the given message\n",
    "        raise ValueError(\"list lengths are not equal\")\n",
    "\n",
    "    #create a list with the indices\n",
    "    list_idx = range(0, len(list_1))\n",
    "\n",
    "    #create a list for results\n",
    "    result = []\n",
    "\n",
    "    #iterate over the lists\n",
    "    for x in list_idx:\n",
    "        result.append(list_1[x] * list_2[x] * list_3[x])\n",
    "    return(result)\n",
    "\n",
    "print(elemt_wise_product([0, 1, 2], [4, 5, 6], [2, 3, 4]))\n",
    "\n",
    "#task 2\n",
    "def hello_name(name):\n",
    "    if name == \"eva\" or name == \"sandra\" or name == \"markus\":\n",
    "        print(\"hello \" + name)\n",
    "\n",
    "hello_name('Hans')\n",
    "hello_name(\"sandra\")"
   ]
  }
 ],
 "metadata": {
  "anaconda-cloud": {},
  "colab": {
   "collapsed_sections": [],
   "name": "1_Python_Introduction (10).ipynb",
   "provenance": []
  },
  "kernelspec": {
   "display_name": "Python [conda env:base] *",
   "language": "python",
   "name": "conda-base-py"
  },
  "language_info": {
   "codemirror_mode": {
    "name": "ipython",
    "version": 3
   },
   "file_extension": ".py",
   "mimetype": "text/x-python",
   "name": "python",
   "nbconvert_exporter": "python",
   "pygments_lexer": "ipython3",
   "version": "3.12.7"
  }
 },
 "nbformat": 4,
 "nbformat_minor": 4
}
