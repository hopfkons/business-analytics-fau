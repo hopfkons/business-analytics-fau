{
 "cells": [
  {
   "cell_type": "markdown",
   "id": "976ce381-44d6-48ab-a523-5ea3d935ceb0",
   "metadata": {},
   "source": [
    "# First linear regression model\n",
    "This notebook will illustrate the contents of the lecture and tutorial in the week 5."
   ]
  },
  {
   "cell_type": "code",
   "execution_count": 4,
   "id": "0685acdd-715e-4da6-8f24-e52ea554a286",
   "metadata": {},
   "outputs": [],
   "source": [
    "import matplotlib.pyplot as plt\n",
    "import numpy as np\n",
    "import pandas as pd\n",
    "import statsmodels.api as sm\n",
    "\n",
    "from sklearn import linear_model\n",
    "from sklearn.metrics import mean_squared_error, r2_score"
   ]
  },
  {
   "cell_type": "markdown",
   "id": "997de6c6-fac2-4082-9e0f-5a10d2896e81",
   "metadata": {},
   "source": [
    "## Load the rent index data\n",
    "The data stems from a rent index in Munich from 1999 and stems from the [Textbook of L. Fahrmeir et al.](https://link.springer.com/book/10.1007/978-3-642-01837-4)."
   ]
  },
  {
   "cell_type": "code",
   "execution_count": 6,
   "id": "aa818d29-7a35-4527-a710-e8de9ecf95be",
   "metadata": {},
   "outputs": [
    {
     "name": "stdout",
     "output_type": "stream",
     "text": [
      "miete      float64\n",
      "mieteqm    float64\n",
      "flaeche      int64\n",
      "bjahr      float64\n",
      "bad          int64\n",
      "kueche       int64\n",
      "bezv         int64\n",
      "lage         int64\n",
      "zh           int64\n",
      "dtype: object\n",
      "(3082, 9)\n"
     ]
    }
   ],
   "source": [
    "mietspiegel = pd.read_table(\"data/mietspiegel99.raw\")\n",
    "print(mietspiegel.dtypes)\n",
    "mietspiegel.head(5)\n",
    "print(mietspiegel.shape)"
   ]
  },
  {
   "cell_type": "markdown",
   "id": "4d85b3f5-5f58-42f8-8d67-d88f298bdd69",
   "metadata": {},
   "source": [
    "| Variable  | Description                       | Categories |\r\n",
    "|-----------|-----------------------------------|------------|\r\n",
    "|miete      |Net rent per month (in DM)         | *numeric* |\r\n",
    "|mieteqm    |Net rent per square meter (in DM)  | *numeric* |\r\n",
    "|flaeche    |Living area in square meter        | *numeric* |\r\n",
    "|bjahr      |Year of construction (in years)    | *numeric* |\r\n",
    "|lage       |Exposure of the dwelling            |1 = norm |  \r\n",
    "|           |                                    |2 = g  d |\r\n",
    "|           |                                    |3 = excellent |\r\n",
    "|bad        |Furnishings in the bathroom         |0 = normal |\r\n",
    "|           |                                    |1 = upper |\r\n",
    "|kueche     |Furnishings in the kitchen         | 0 = normal |\r\n",
    "|           |                                    |1 = upper |\r\n",
    "|zh         |Central heating                     |0 = no |\r\n",
    "|           |                                    |1 = yes |\r\n",
    "|bez        |District in Munich                | *numeric* |\r\n",
    "ich\t(numeric)\r\n"
   ]
  },
  {
   "cell_type": "markdown",
   "id": "817f6287-cd14-43a3-8489-e0b0a667627c",
   "metadata": {},
   "source": [
    "## Some data preparations"
   ]
  },
  {
   "cell_type": "code",
   "execution_count": 8,
   "id": "fdd358b2-a650-4918-8608-8070306681e3",
   "metadata": {},
   "outputs": [
    {
     "data": {
      "text/html": [
       "<div>\n",
       "<style scoped>\n",
       "    .dataframe tbody tr th:only-of-type {\n",
       "        vertical-align: middle;\n",
       "    }\n",
       "\n",
       "    .dataframe tbody tr th {\n",
       "        vertical-align: top;\n",
       "    }\n",
       "\n",
       "    .dataframe thead th {\n",
       "        text-align: right;\n",
       "    }\n",
       "</style>\n",
       "<table border=\"1\" class=\"dataframe\">\n",
       "  <thead>\n",
       "    <tr style=\"text-align: right;\">\n",
       "      <th></th>\n",
       "      <th>miete</th>\n",
       "      <th>mieteqm</th>\n",
       "      <th>flaeche</th>\n",
       "      <th>bjahr</th>\n",
       "      <th>bad</th>\n",
       "      <th>kueche</th>\n",
       "      <th>bezv</th>\n",
       "      <th>lage</th>\n",
       "      <th>zh</th>\n",
       "    </tr>\n",
       "  </thead>\n",
       "  <tbody>\n",
       "    <tr>\n",
       "      <th>0</th>\n",
       "      <td>235.9</td>\n",
       "      <td>6.740000</td>\n",
       "      <td>35</td>\n",
       "      <td>1939</td>\n",
       "      <td>0</td>\n",
       "      <td>0</td>\n",
       "      <td>1112</td>\n",
       "      <td>1</td>\n",
       "      <td>0</td>\n",
       "    </tr>\n",
       "    <tr>\n",
       "      <th>1</th>\n",
       "      <td>852.1</td>\n",
       "      <td>8.193269</td>\n",
       "      <td>104</td>\n",
       "      <td>1939</td>\n",
       "      <td>1</td>\n",
       "      <td>0</td>\n",
       "      <td>1112</td>\n",
       "      <td>1</td>\n",
       "      <td>1</td>\n",
       "    </tr>\n",
       "    <tr>\n",
       "      <th>2</th>\n",
       "      <td>693.7</td>\n",
       "      <td>23.920690</td>\n",
       "      <td>29</td>\n",
       "      <td>1971</td>\n",
       "      <td>0</td>\n",
       "      <td>0</td>\n",
       "      <td>2114</td>\n",
       "      <td>2</td>\n",
       "      <td>1</td>\n",
       "    </tr>\n",
       "    <tr>\n",
       "      <th>3</th>\n",
       "      <td>551.7</td>\n",
       "      <td>14.146150</td>\n",
       "      <td>39</td>\n",
       "      <td>1972</td>\n",
       "      <td>0</td>\n",
       "      <td>0</td>\n",
       "      <td>2148</td>\n",
       "      <td>2</td>\n",
       "      <td>1</td>\n",
       "    </tr>\n",
       "    <tr>\n",
       "      <th>4</th>\n",
       "      <td>1574.1</td>\n",
       "      <td>16.227830</td>\n",
       "      <td>97</td>\n",
       "      <td>1985</td>\n",
       "      <td>0</td>\n",
       "      <td>0</td>\n",
       "      <td>2222</td>\n",
       "      <td>1</td>\n",
       "      <td>1</td>\n",
       "    </tr>\n",
       "    <tr>\n",
       "      <th>...</th>\n",
       "      <td>...</td>\n",
       "      <td>...</td>\n",
       "      <td>...</td>\n",
       "      <td>...</td>\n",
       "      <td>...</td>\n",
       "      <td>...</td>\n",
       "      <td>...</td>\n",
       "      <td>...</td>\n",
       "      <td>...</td>\n",
       "    </tr>\n",
       "    <tr>\n",
       "      <th>3077</th>\n",
       "      <td>1024.5</td>\n",
       "      <td>15.291050</td>\n",
       "      <td>67</td>\n",
       "      <td>1971</td>\n",
       "      <td>0</td>\n",
       "      <td>0</td>\n",
       "      <td>2148</td>\n",
       "      <td>2</td>\n",
       "      <td>1</td>\n",
       "    </tr>\n",
       "    <tr>\n",
       "      <th>3078</th>\n",
       "      <td>1389.6</td>\n",
       "      <td>16.742170</td>\n",
       "      <td>83</td>\n",
       "      <td>1918</td>\n",
       "      <td>0</td>\n",
       "      <td>0</td>\n",
       "      <td>341</td>\n",
       "      <td>2</td>\n",
       "      <td>0</td>\n",
       "    </tr>\n",
       "    <tr>\n",
       "      <th>3079</th>\n",
       "      <td>1624.8</td>\n",
       "      <td>14.770910</td>\n",
       "      <td>110</td>\n",
       "      <td>1918</td>\n",
       "      <td>1</td>\n",
       "      <td>0</td>\n",
       "      <td>961</td>\n",
       "      <td>2</td>\n",
       "      <td>1</td>\n",
       "    </tr>\n",
       "    <tr>\n",
       "      <th>3080</th>\n",
       "      <td>1086.8</td>\n",
       "      <td>26.507320</td>\n",
       "      <td>41</td>\n",
       "      <td>1972</td>\n",
       "      <td>0</td>\n",
       "      <td>0</td>\n",
       "      <td>381</td>\n",
       "      <td>2</td>\n",
       "      <td>1</td>\n",
       "    </tr>\n",
       "    <tr>\n",
       "      <th>3081</th>\n",
       "      <td>703.6</td>\n",
       "      <td>11.348390</td>\n",
       "      <td>62</td>\n",
       "      <td>1953</td>\n",
       "      <td>0</td>\n",
       "      <td>0</td>\n",
       "      <td>522</td>\n",
       "      <td>2</td>\n",
       "      <td>0</td>\n",
       "    </tr>\n",
       "  </tbody>\n",
       "</table>\n",
       "<p>3082 rows × 9 columns</p>\n",
       "</div>"
      ],
      "text/plain": [
       "       miete    mieteqm  flaeche  bjahr  bad  kueche  bezv  lage  zh\n",
       "0      235.9   6.740000       35   1939    0       0  1112     1   0\n",
       "1      852.1   8.193269      104   1939    1       0  1112     1   1\n",
       "2      693.7  23.920690       29   1971    0       0  2114     2   1\n",
       "3      551.7  14.146150       39   1972    0       0  2148     2   1\n",
       "4     1574.1  16.227830       97   1985    0       0  2222     1   1\n",
       "...      ...        ...      ...    ...  ...     ...   ...   ...  ..\n",
       "3077  1024.5  15.291050       67   1971    0       0  2148     2   1\n",
       "3078  1389.6  16.742170       83   1918    0       0   341     2   0\n",
       "3079  1624.8  14.770910      110   1918    1       0   961     2   1\n",
       "3080  1086.8  26.507320       41   1972    0       0   381     2   1\n",
       "3081   703.6  11.348390       62   1953    0       0   522     2   0\n",
       "\n",
       "[3082 rows x 9 columns]"
      ]
     },
     "execution_count": 8,
     "metadata": {},
     "output_type": "execute_result"
    }
   ],
   "source": [
    "mietspiegel.bjahr = mietspiegel.bjahr.astype(int)\n",
    "#mietspiegel = mietspiegel[mietspiegel.bjahr <= 1995]\n",
    "mietspiegel"
   ]
  },
  {
   "cell_type": "markdown",
   "id": "2b093c86-433d-40f5-bd39-0763d16445ae",
   "metadata": {},
   "source": [
    "## Descriptive analyses\n",
    "We compute descriptive statistics for all variables and visualize the correlation of all variables"
   ]
  },
  {
   "cell_type": "code",
   "execution_count": 10,
   "id": "961ab1aa-ed6c-4795-89e0-ee5a7d6da3ed",
   "metadata": {},
   "outputs": [
    {
     "data": {
      "text/html": [
       "<div>\n",
       "<style scoped>\n",
       "    .dataframe tbody tr th:only-of-type {\n",
       "        vertical-align: middle;\n",
       "    }\n",
       "\n",
       "    .dataframe tbody tr th {\n",
       "        vertical-align: top;\n",
       "    }\n",
       "\n",
       "    .dataframe thead th {\n",
       "        text-align: right;\n",
       "    }\n",
       "</style>\n",
       "<table border=\"1\" class=\"dataframe\">\n",
       "  <thead>\n",
       "    <tr style=\"text-align: right;\">\n",
       "      <th></th>\n",
       "      <th>miete</th>\n",
       "      <th>mieteqm</th>\n",
       "      <th>flaeche</th>\n",
       "      <th>bjahr</th>\n",
       "      <th>bad</th>\n",
       "      <th>kueche</th>\n",
       "      <th>bezv</th>\n",
       "      <th>lage</th>\n",
       "      <th>zh</th>\n",
       "    </tr>\n",
       "  </thead>\n",
       "  <tbody>\n",
       "    <tr>\n",
       "      <th>count</th>\n",
       "      <td>3082.000000</td>\n",
       "      <td>3082.000000</td>\n",
       "      <td>3082.000000</td>\n",
       "      <td>3082.000000</td>\n",
       "      <td>3082.000000</td>\n",
       "      <td>3082.000000</td>\n",
       "      <td>3082.000000</td>\n",
       "      <td>3082.000000</td>\n",
       "      <td>3082.000000</td>\n",
       "    </tr>\n",
       "    <tr>\n",
       "      <th>mean</th>\n",
       "      <td>895.902498</td>\n",
       "      <td>13.866955</td>\n",
       "      <td>67.374757</td>\n",
       "      <td>1956.244971</td>\n",
       "      <td>0.061973</td>\n",
       "      <td>0.042505</td>\n",
       "      <td>1169.715769</td>\n",
       "      <td>1.443219</td>\n",
       "      <td>0.895847</td>\n",
       "    </tr>\n",
       "    <tr>\n",
       "      <th>std</th>\n",
       "      <td>381.530442</td>\n",
       "      <td>4.750216</td>\n",
       "      <td>23.720446</td>\n",
       "      <td>22.298381</td>\n",
       "      <td>0.241145</td>\n",
       "      <td>0.201771</td>\n",
       "      <td>677.849333</td>\n",
       "      <td>0.545425</td>\n",
       "      <td>0.305509</td>\n",
       "    </tr>\n",
       "    <tr>\n",
       "      <th>min</th>\n",
       "      <td>79.000000</td>\n",
       "      <td>0.810811</td>\n",
       "      <td>20.000000</td>\n",
       "      <td>1918.000000</td>\n",
       "      <td>0.000000</td>\n",
       "      <td>0.000000</td>\n",
       "      <td>113.000000</td>\n",
       "      <td>1.000000</td>\n",
       "      <td>0.000000</td>\n",
       "    </tr>\n",
       "    <tr>\n",
       "      <th>25%</th>\n",
       "      <td>627.950000</td>\n",
       "      <td>10.258868</td>\n",
       "      <td>51.000000</td>\n",
       "      <td>1939.000000</td>\n",
       "      <td>0.000000</td>\n",
       "      <td>0.000000</td>\n",
       "      <td>561.000000</td>\n",
       "      <td>1.000000</td>\n",
       "      <td>1.000000</td>\n",
       "    </tr>\n",
       "    <tr>\n",
       "      <th>50%</th>\n",
       "      <td>832.600000</td>\n",
       "      <td>13.611470</td>\n",
       "      <td>65.000000</td>\n",
       "      <td>1959.000000</td>\n",
       "      <td>0.000000</td>\n",
       "      <td>0.000000</td>\n",
       "      <td>1025.000000</td>\n",
       "      <td>1.000000</td>\n",
       "      <td>1.000000</td>\n",
       "    </tr>\n",
       "    <tr>\n",
       "      <th>75%</th>\n",
       "      <td>1090.750000</td>\n",
       "      <td>17.239607</td>\n",
       "      <td>81.000000</td>\n",
       "      <td>1972.000000</td>\n",
       "      <td>0.000000</td>\n",
       "      <td>0.000000</td>\n",
       "      <td>1714.000000</td>\n",
       "      <td>2.000000</td>\n",
       "      <td>1.000000</td>\n",
       "    </tr>\n",
       "    <tr>\n",
       "      <th>max</th>\n",
       "      <td>3594.600000</td>\n",
       "      <td>34.557140</td>\n",
       "      <td>160.000000</td>\n",
       "      <td>1997.000000</td>\n",
       "      <td>1.000000</td>\n",
       "      <td>1.000000</td>\n",
       "      <td>2529.000000</td>\n",
       "      <td>3.000000</td>\n",
       "      <td>1.000000</td>\n",
       "    </tr>\n",
       "  </tbody>\n",
       "</table>\n",
       "</div>"
      ],
      "text/plain": [
       "             miete      mieteqm      flaeche        bjahr          bad  \\\n",
       "count  3082.000000  3082.000000  3082.000000  3082.000000  3082.000000   \n",
       "mean    895.902498    13.866955    67.374757  1956.244971     0.061973   \n",
       "std     381.530442     4.750216    23.720446    22.298381     0.241145   \n",
       "min      79.000000     0.810811    20.000000  1918.000000     0.000000   \n",
       "25%     627.950000    10.258868    51.000000  1939.000000     0.000000   \n",
       "50%     832.600000    13.611470    65.000000  1959.000000     0.000000   \n",
       "75%    1090.750000    17.239607    81.000000  1972.000000     0.000000   \n",
       "max    3594.600000    34.557140   160.000000  1997.000000     1.000000   \n",
       "\n",
       "            kueche         bezv         lage           zh  \n",
       "count  3082.000000  3082.000000  3082.000000  3082.000000  \n",
       "mean      0.042505  1169.715769     1.443219     0.895847  \n",
       "std       0.201771   677.849333     0.545425     0.305509  \n",
       "min       0.000000   113.000000     1.000000     0.000000  \n",
       "25%       0.000000   561.000000     1.000000     1.000000  \n",
       "50%       0.000000  1025.000000     1.000000     1.000000  \n",
       "75%       0.000000  1714.000000     2.000000     1.000000  \n",
       "max       1.000000  2529.000000     3.000000     1.000000  "
      ]
     },
     "execution_count": 10,
     "metadata": {},
     "output_type": "execute_result"
    }
   ],
   "source": [
    "mietspiegel.describe()"
   ]
  },
  {
   "cell_type": "code",
   "execution_count": 12,
   "id": "d560a8dd-7786-4e34-a696-28ca98996c49",
   "metadata": {},
   "outputs": [
    {
     "data": {
      "image/png": "[encoded data removed]",
      "text/plain": [
       "<Figure size 640x480 with 2 Axes>"
      ]
     },
     "metadata": {},
     "output_type": "display_data"
    }
   ],
   "source": [
    "colnames = mietspiegel.columns.values\n",
    "#print(colnames)\n",
    "\n",
    "fig = plt.figure()\n",
    "ax = fig.add_subplot(111)\n",
    "cax = ax.matshow(mietspiegel.corr())\n",
    "fig.colorbar(cax)\n",
    "\n",
    "#set the column names as axis tick labels\n",
    "xaxis = np.arange(len(colnames))\n",
    "ax.set_xticks(xaxis)\n",
    "ax.set_yticks(xaxis)\n",
    "ax.set_xticklabels(colnames)\n",
    "ax.set_yticklabels(colnames)\n",
    "\n",
    "plt.show()"
   ]
  },
  {
   "cell_type": "markdown",
   "id": "2492ac87-a5b9-49cd-95b5-c8d0aebd4eed",
   "metadata": {},
   "source": [
    "## First regression model\n",
    "The rent (`miete`) has a high correlation with the living space area (`flaeche`)."
   ]
  },
  {
   "cell_type": "code",
   "execution_count": 14,
   "id": "2827c269-15f4-473e-8bc6-4f4bde5ef90e",
   "metadata": {},
   "outputs": [
    {
     "data": {
      "text/plain": [
       "<Axes: xlabel='flaeche', ylabel='miete'>"
      ]
     },
     "execution_count": 14,
     "metadata": {},
     "output_type": "execute_result"
    },
    {
     "data": {
      "image/png": "[encoded data removed]",
      "text/plain": [
       "<Figure size 640x480 with 1 Axes>"
      ]
     },
     "metadata": {},
     "output_type": "display_data"
    }
   ],
   "source": [
    "mietspiegel.plot.scatter(x=\"flaeche\", y=\"miete\")"
   ]
  },
  {
   "cell_type": "code",
   "execution_count": 28,
   "id": "4a0b5e2a-41ec-4bb7-af4f-d9c8f7b45936",
   "metadata": {},
   "outputs": [
    {
     "name": "stdout",
     "output_type": "stream",
     "text": [
      "(3082,)\n",
      "(3082, 1)\n",
      "Coefficients: \n",
      " [[9.40185535]]\n",
      "Intercept: \n",
      " [262.45478219]\n"
     ]
    }
   ],
   "source": [
    "# Create linear regression object\n",
    "regr1 = linear_model.LinearRegression()\n",
    "\n",
    "#extract the variables that we need from the dataset\n",
    "y = mietspiegel.miete.values\n",
    "x = mietspiegel.flaeche.values\n",
    "\n",
    "# they currently have the shape (3059,) but we need (3059,1), see https://scikit-learn.org/stable/modules/generated/sklearn.linear_model.LinearRegression.html#sklearn.linear_model.LinearRegression.fit\n",
    "print(y.shape)\n",
    "len = x.size\n",
    "x = x.reshape(len, 1)\n",
    "y = y.reshape(len, 1)\n",
    "print(y.shape)\n",
    "\n",
    "# We fit a linear regression model\n",
    "regr1.fit(x, y)\n",
    "\n",
    "# The regression coefficient\n",
    "print(\"Coefficients: \\n\", regr1.coef_)\n",
    "print(\"Intercept: \\n\", regr1.intercept_)\n"
   ]
  },
  {
   "cell_type": "markdown",
   "id": "085d3f19-cb6e-422b-8055-b99b4ed06797",
   "metadata": {},
   "source": [
    "## Interpretation of the results\n",
    "The model estimates an intercept / constant of 262.45, which means that a (hypothetical) appartment with 0m² living area has a base price of 262.48 DM. The coefficient of 9.40 means that for every 1m² 9.40 DM are added to the price.\n",
    "\n",
    "We plot the estimated regression line in the scatterplot. The line has the slope of 9.40 and an its intersection with the y-axis at 262.45."
   ]
  },
  {
   "cell_type": "code",
   "execution_count": 30,
   "id": "acc2b5c8-c724-4323-bb23-38305787ee49",
   "metadata": {},
   "outputs": [
    {
     "data": {
      "image/png": "[encoded data removed]",
      "text/plain": [
       "<Figure size 640x480 with 1 Axes>"
      ]
     },
     "metadata": {},
     "output_type": "display_data"
    }
   ],
   "source": [
    "pred = regr1.predict(x)\n",
    "plt.scatter(x, y, color=\"black\")\n",
    "plt.plot(x, pred, color=\"red\")\n",
    "plt.show()"
   ]
  },
  {
   "cell_type": "markdown",
   "id": "0523e4ad-458d-4ce2-be0f-e9ae3f28838e",
   "metadata": {},
   "source": [
    "# Linear regression using the statsmodel library\n",
    "We see that the interface to the regression model with scikit learn is very limited. This is not surprising, given that scikit learn is a library primarily used for machine learning application. If more insights are needed into regression models -- indeed, linear regression is a very powerful tool to understand data and conduct exploratory data analysis -- you can use the statsmodel library. \n",
    "\n",
    "Further learning resources using the statsmodel library with python can be found in an [online book by the Simon Fraser University](https://www.sfu.ca/~mjbrydon/tutorials/BAinPy/09_regression.html)."
   ]
  },
  {
   "cell_type": "code",
   "execution_count": 32,
   "id": "b1a221cf-3232-4b15-8622-2db446c13a5e",
   "metadata": {},
   "outputs": [
    {
     "data": {
      "text/html": [
       "<table class=\"simpletable\">\n",
       "<caption>OLS Regression Results</caption>\n",
       "<tr>\n",
       "  <th>Dep. Variable:</th>            <td>y</td>        <th>  R-squared:         </th> <td>   0.342</td> \n",
       "</tr>\n",
       "<tr>\n",
       "  <th>Model:</th>                   <td>OLS</td>       <th>  Adj. R-squared:    </th> <td>   0.341</td> \n",
       "</tr>\n",
       "<tr>\n",
       "  <th>Method:</th>             <td>Least Squares</td>  <th>  F-statistic:       </th> <td>   1599.</td> \n",
       "</tr>\n",
       "<tr>\n",
       "  <th>Date:</th>             <td>Mon, 26 May 2025</td> <th>  Prob (F-statistic):</th> <td>6.13e-282</td>\n",
       "</tr>\n",
       "<tr>\n",
       "  <th>Time:</th>                 <td>10:35:08</td>     <th>  Log-Likelihood:    </th> <td> -22048.</td> \n",
       "</tr>\n",
       "<tr>\n",
       "  <th>No. Observations:</th>      <td>  3082</td>      <th>  AIC:               </th> <td>4.410e+04</td>\n",
       "</tr>\n",
       "<tr>\n",
       "  <th>Df Residuals:</th>          <td>  3080</td>      <th>  BIC:               </th> <td>4.411e+04</td>\n",
       "</tr>\n",
       "<tr>\n",
       "  <th>Df Model:</th>              <td>     1</td>      <th>                     </th>     <td> </td>    \n",
       "</tr>\n",
       "<tr>\n",
       "  <th>Covariance Type:</th>      <td>nonrobust</td>    <th>                     </th>     <td> </td>    \n",
       "</tr>\n",
       "</table>\n",
       "<table class=\"simpletable\">\n",
       "<tr>\n",
       "    <td></td>       <th>coef</th>     <th>std err</th>      <th>t</th>      <th>P>|t|</th>  <th>[0.025</th>    <th>0.975]</th>  \n",
       "</tr>\n",
       "<tr>\n",
       "  <th>const</th> <td>  262.4548</td> <td>   16.796</td> <td>   15.626</td> <td> 0.000</td> <td>  229.522</td> <td>  295.388</td>\n",
       "</tr>\n",
       "<tr>\n",
       "  <th>x1</th>    <td>    9.4019</td> <td>    0.235</td> <td>   39.982</td> <td> 0.000</td> <td>    8.941</td> <td>    9.863</td>\n",
       "</tr>\n",
       "</table>\n",
       "<table class=\"simpletable\">\n",
       "<tr>\n",
       "  <th>Omnibus:</th>       <td>209.552</td> <th>  Durbin-Watson:     </th> <td>   2.008</td>\n",
       "</tr>\n",
       "<tr>\n",
       "  <th>Prob(Omnibus):</th> <td> 0.000</td>  <th>  Jarque-Bera (JB):  </th> <td> 442.485</td>\n",
       "</tr>\n",
       "<tr>\n",
       "  <th>Skew:</th>          <td> 0.448</td>  <th>  Prob(JB):          </th> <td>8.23e-97</td>\n",
       "</tr>\n",
       "<tr>\n",
       "  <th>Kurtosis:</th>      <td> 4.625</td>  <th>  Cond. No.          </th> <td>    215.</td>\n",
       "</tr>\n",
       "</table><br/><br/>Notes:<br/>[1] Standard Errors assume that the covariance matrix of the errors is correctly specified."
      ],
      "text/latex": [
       "\\begin{center}\n",
       "\\begin{tabular}{lclc}\n",
       "\\toprule\n",
       "\\textbf{Dep. Variable:}    &        y         & \\textbf{  R-squared:         } &     0.342   \\\\\n",
       "\\textbf{Model:}            &       OLS        & \\textbf{  Adj. R-squared:    } &     0.341   \\\\\n",
       "\\textbf{Method:}           &  Least Squares   & \\textbf{  F-statistic:       } &     1599.   \\\\\n",
       "\\textbf{Date:}             & Mon, 26 May 2025 & \\textbf{  Prob (F-statistic):} & 6.13e-282   \\\\\n",
       "\\textbf{Time:}             &     10:35:08     & \\textbf{  Log-Likelihood:    } &   -22048.   \\\\\n",
       "\\textbf{No. Observations:} &        3082      & \\textbf{  AIC:               } & 4.410e+04   \\\\\n",
       "\\textbf{Df Residuals:}     &        3080      & \\textbf{  BIC:               } & 4.411e+04   \\\\\n",
       "\\textbf{Df Model:}         &           1      & \\textbf{                     } &             \\\\\n",
       "\\textbf{Covariance Type:}  &    nonrobust     & \\textbf{                     } &             \\\\\n",
       "\\bottomrule\n",
       "\\end{tabular}\n",
       "\\begin{tabular}{lcccccc}\n",
       "               & \\textbf{coef} & \\textbf{std err} & \\textbf{t} & \\textbf{P$> |$t$|$} & \\textbf{[0.025} & \\textbf{0.975]}  \\\\\n",
       "\\midrule\n",
       "\\textbf{const} &     262.4548  &       16.796     &    15.626  &         0.000        &      229.522    &      295.388     \\\\\n",
       "\\textbf{x1}    &       9.4019  &        0.235     &    39.982  &         0.000        &        8.941    &        9.863     \\\\\n",
       "\\bottomrule\n",
       "\\end{tabular}\n",
       "\\begin{tabular}{lclc}\n",
       "\\textbf{Omnibus:}       & 209.552 & \\textbf{  Durbin-Watson:     } &    2.008  \\\\\n",
       "\\textbf{Prob(Omnibus):} &   0.000 & \\textbf{  Jarque-Bera (JB):  } &  442.485  \\\\\n",
       "\\textbf{Skew:}          &   0.448 & \\textbf{  Prob(JB):          } & 8.23e-97  \\\\\n",
       "\\textbf{Kurtosis:}      &   4.625 & \\textbf{  Cond. No.          } &     215.  \\\\\n",
       "\\bottomrule\n",
       "\\end{tabular}\n",
       "%\\caption{OLS Regression Results}\n",
       "\\end{center}\n",
       "\n",
       "Notes: \\newline\n",
       " [1] Standard Errors assume that the covariance matrix of the errors is correctly specified."
      ],
      "text/plain": [
       "<class 'statsmodels.iolib.summary.Summary'>\n",
       "\"\"\"\n",
       "                            OLS Regression Results                            \n",
       "==============================================================================\n",
       "Dep. Variable:                      y   R-squared:                       0.342\n",
       "Model:                            OLS   Adj. R-squared:                  0.341\n",
       "Method:                 Least Squares   F-statistic:                     1599.\n",
       "Date:                Mon, 26 May 2025   Prob (F-statistic):          6.13e-282\n",
       "Time:                        10:35:08   Log-Likelihood:                -22048.\n",
       "No. Observations:                3082   AIC:                         4.410e+04\n",
       "Df Residuals:                    3080   BIC:                         4.411e+04\n",
       "Df Model:                           1                                         \n",
       "Covariance Type:            nonrobust                                         \n",
       "==============================================================================\n",
       "                 coef    std err          t      P>|t|      [0.025      0.975]\n",
       "------------------------------------------------------------------------------\n",
       "const        262.4548     16.796     15.626      0.000     229.522     295.388\n",
       "x1             9.4019      0.235     39.982      0.000       8.941       9.863\n",
       "==============================================================================\n",
       "Omnibus:                      209.552   Durbin-Watson:                   2.008\n",
       "Prob(Omnibus):                  0.000   Jarque-Bera (JB):              442.485\n",
       "Skew:                           0.448   Prob(JB):                     8.23e-97\n",
       "Kurtosis:                       4.625   Cond. No.                         215.\n",
       "==============================================================================\n",
       "\n",
       "Notes:\n",
       "[1] Standard Errors assume that the covariance matrix of the errors is correctly specified.\n",
       "\"\"\""
      ]
     },
     "execution_count": 32,
     "metadata": {},
     "output_type": "execute_result"
    }
   ],
   "source": [
    "x2 = sm.add_constant(x)\n",
    "regr2 = sm.OLS(y, x2)\n",
    "regr2_result = regr2.fit()\n",
    "regr2_result.summary()"
   ]
  },
  {
   "cell_type": "markdown",
   "id": "850f6c1c-a290-47ff-954b-1c7b1bc3747e",
   "metadata": {},
   "source": [
    "## Analysis of residuals\n",
    "\n",
    "One assumption of the linear regression is that the residuals are normally distributed (it is called *homoscedasticity*, or homogeneity of variances). To check this, we can plot the distributions. \n",
    "\n",
    "### Exercise: Visually analyzing the residuals\n",
    "1. Use a histogram to plot the residuals (hint: you can access them using `regr2_result.resid`.\n",
    "2. Use a boxplot to visualize the residuals. Are they normally distributed?\n",
    "3. Now, use a quantile-quantile (QQ-plot) to compare the distribution of the residuals with the normal distribution. "
   ]
  },
  {
   "cell_type": "code",
   "execution_count": null,
   "id": "979b276c-1d37-4f60-b4ae-cc0116b659a4",
   "metadata": {},
   "outputs": [],
   "source": [
    "# 1. using the histogram\n",
    "\n",
    "\n",
    "# 2. using the boxplot\n",
    "\n",
    "\n",
    "# 3. using a QQ plot\n"
   ]
  },
  {
   "cell_type": "markdown",
   "id": "858bb1b3-63b2-4779-889b-1a573ffd9e5b",
   "metadata": {},
   "source": [
    "## Multinomial linear regression\n",
    "\n",
    "We want to further improve the model and add further independent variables. We start with a dummy `glage` variable encoding a better exposure of the object.\n",
    "\n",
    "### Exercise: Include dummy variables\n",
    "1. Prepare a dummy variable for exposure\n",
    "2. Fit the regression and visualize the regression lines in the scatterplot\n",
    "   "
   ]
  },
  {
   "cell_type": "code",
   "execution_count": null,
   "id": "da4eada0-7f82-42ca-abdb-9bb82734a6b8",
   "metadata": {},
   "outputs": [],
   "source": [
    "#please implement here\n"
   ]
  },
  {
   "cell_type": "code",
   "execution_count": null,
   "id": "41b58343-a1f0-44b7-84f2-735b70a9fe12",
   "metadata": {},
   "outputs": [],
   "source": [
    "# visualize the fitted regression lines in the scatterplot\n"
   ]
  },
  {
   "cell_type": "markdown",
   "id": "ee32285f-a6c4-470f-b6fc-269d998d36b7",
   "metadata": {},
   "source": [
    "# Use a dummy variable with three categories\n",
    "For more categories, we can use the build-in function of pandas to do the encoding.\n",
    "\n",
    "### Expercise: Multiple levels in the dummy variable\n",
    "1. After defining the new dummy variable with three levels, use it in the regression mode\n",
    "2. Plot the three lines in the scatterplot"
   ]
  },
  {
   "cell_type": "code",
   "execution_count": null,
   "id": "7a1670d9-e307-4351-b72f-cd0304fc31e8",
   "metadata": {},
   "outputs": [],
   "source": [
    "#x3 = mietspiegel[[\"flaeche\", \"lage\"]]\n",
    "dlage = pd.get_dummies(mietspiegel.lage, # the variable to be encoded\n",
    "                       prefix=\"dlage\",   #prefix of the name of the dummy variables\n",
    "                       drop_first=True,  #remove the first value of the dummy to avoid perfect colinearity\n",
    "                       dtype=float)      #dummy should be numeric, not boolean\n",
    "print(dlage.head(5))"
   ]
  },
  {
   "cell_type": "code",
   "execution_count": null,
   "id": "10d16cd2-4672-4a85-8c1c-964442538778",
   "metadata": {},
   "outputs": [],
   "source": [
    "#use the new dummy in the regression\n"
   ]
  },
  {
   "cell_type": "code",
   "execution_count": null,
   "id": "4c84abbb-ea7d-41ac-8237-b11a2a300592",
   "metadata": {},
   "outputs": [],
   "source": [
    "#visualize the new estimates in the scatterplot\n"
   ]
  }
 ],
 "metadata": {
  "kernelspec": {
   "display_name": "Python [conda env:base] *",
   "language": "python",
   "name": "conda-base-py"
  },
  "language_info": {
   "codemirror_mode": {
    "name": "ipython",
    "version": 3
   },
   "file_extension": ".py",
   "mimetype": "text/x-python",
   "name": "python",
   "nbconvert_exporter": "python",
   "pygments_lexer": "ipython3",
   "version": "3.12.7"
  }
 },
 "nbformat": 4,
 "nbformat_minor": 5
}
