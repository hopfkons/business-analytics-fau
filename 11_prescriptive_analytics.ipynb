{
 "cells": [
  {
   "cell_type": "markdown",
   "id": "5b835363-2f4e-45bb-b2fc-3b32397055cb",
   "metadata": {},
   "source": [
    "# Prescriptive analytics\n",
    "\n",
    "## Using additive aggregation in Python"
   ]
  },
  {
   "cell_type": "code",
   "execution_count": 53,
   "id": "22a69e27-517f-4959-9ac0-829bcd34193e",
   "metadata": {},
   "outputs": [],
   "source": [
    "from io import StringIO\n",
    "import pandas as pd\n",
    "import numpy as np"
   ]
  },
  {
   "cell_type": "markdown",
   "id": "22185d70-e77e-4761-b6e9-51931e8d0cb8",
   "metadata": {},
   "source": [
    "### Load and prepare the decision matrix and the alternatives"
   ]
  },
  {
   "cell_type": "code",
   "execution_count": 57,
   "id": "0bb12c48-83ea-4e7f-ac63-c39c5243f01f",
   "metadata": {},
   "outputs": [
    {
     "name": "stdout",
     "output_type": "stream",
     "text": [
      "Production_cost        int64\n",
      "Production_volume      int64\n",
      "Expected_lifetime      int64\n",
      "Production_time        int64\n",
      "Return_rate          float64\n",
      "price                  int64\n",
      "dtype: object\n"
     ]
    }
   ],
   "source": [
    "data = StringIO(\"\"\"Alternative;Production_cost;Production_volume;Expected_lifetime;Production_time;Return_rate;price\n",
    "1) Direct marketing of a quality product;20;20000;5;8;0,005;50\n",
    "2) Branding by utility companies;22;50000;5;10;0,005;80\n",
    "3) Branding by shower installation companies;25;30000;5;12;0,005;100\n",
    "4) Partnering with smart home vendors;30;2000;10;16;0,001;120\n",
    "5) Creating a cheap functioning product;15;100000;3;12;0,01;40\n",
    "\n",
    "\"\"\")\n",
    "DM = pd.read_csv(data, sep=\";\", decimal=\",\")\n",
    "alternative = DM['Alternative']\n",
    "DM = DM.drop('Alternative', axis=1)\n",
    "#print(DM)\n",
    "print(DM.dtypes)\n",
    "#for column_name in DM.rows:\n",
    "\n"
   ]
  },
  {
   "cell_type": "markdown",
   "id": "f94c7f87-d640-4fc4-a969-8e2ccc7a7c0e",
   "metadata": {},
   "source": [
    "### Normalize the criteria values "
   ]
  },
  {
   "cell_type": "code",
   "execution_count": 58,
   "id": "eb4f5871-3a34-43ab-9361-2a6aedfe6fb5",
   "metadata": {},
   "outputs": [
    {
     "name": "stdout",
     "output_type": "stream",
     "text": [
      "   Production_cost  Production_volume  Expected_lifetime  Production_time  \\\n",
      "0         0.178571           0.099010           0.178571         0.137931   \n",
      "1         0.196429           0.247525           0.178571         0.172414   \n",
      "2         0.223214           0.148515           0.178571         0.206897   \n",
      "3         0.267857           0.009901           0.357143         0.275862   \n",
      "4         0.133929           0.495050           0.107143         0.206897   \n",
      "\n",
      "   Return_rate     price  \n",
      "0     0.192308  0.128205  \n",
      "1     0.192308  0.205128  \n",
      "2     0.192308  0.256410  \n",
      "3     0.038462  0.307692  \n",
      "4     0.384615  0.102564  \n"
     ]
    }
   ],
   "source": [
    "DM_normalized = DM / DM.sum()\n",
    "\n",
    "#Alternatively, using the apply() method\n",
    "#DM_normalized = DM.apply(lambda x: x / x.sum(), axis=0)\n",
    "\n",
    "print(DM_normalized)"
   ]
  },
  {
   "cell_type": "markdown",
   "id": "b037d976-4d7a-4575-ad99-d1e4c52af9b3",
   "metadata": {},
   "source": [
    "### Compute the utility per alternative"
   ]
  },
  {
   "cell_type": "code",
   "execution_count": 59,
   "id": "8e1bbc2d-fb49-4094-ad17-57e37512cbb3",
   "metadata": {},
   "outputs": [
    {
     "name": "stdout",
     "output_type": "stream",
     "text": [
      "                                    Alternative   utility\n",
      "0      1) Direct marketing of a quality product  0.914597\n",
      "1              2) Branding by utility companies  1.192374\n",
      "2  3) Branding by shower installation companies  1.205915\n",
      "3         4) Partnering with smart home vendors  1.256917\n",
      "4       5) Creating a cheap functioning product  1.430197\n"
     ]
    }
   ],
   "source": [
    "utilities = pd.Series(DM_normalized.sum(axis=1), name=\"utility\")\n",
    "\n",
    "U = pd.concat([alternative, utilities], axis=1)\n",
    "print(U)"
   ]
  },
  {
   "cell_type": "markdown",
   "id": "8b9265d4-b886-40a0-9329-11e5d8e41d84",
   "metadata": {},
   "source": [
    "### Obtain the optimal alternative"
   ]
  },
  {
   "cell_type": "code",
   "execution_count": 60,
   "id": "5dc14518-af7d-4903-9025-e90d6d5aaa3c",
   "metadata": {},
   "outputs": [
    {
     "name": "stdout",
     "output_type": "stream",
     "text": [
      "The optimal alternative is:\n",
      "Alternative    5) Creating a cheap functioning product\n",
      "utility                                       1.430197\n",
      "Name: 4, dtype: object\n"
     ]
    }
   ],
   "source": [
    "max_utility_index = U['utility'].idxmax()\n",
    "max_utility_row = U.loc[max_utility_index]\n",
    "print(\"The optimal alternative is:\")\n",
    "print(U.loc[max_utility_index])"
   ]
  },
  {
   "cell_type": "markdown",
   "id": "d1513773-9e43-4499-82a6-6b49d04a98d3",
   "metadata": {},
   "source": [
    "## Linear programming"
   ]
  },
  {
   "cell_type": "code",
   "execution_count": 62,
   "id": "8bb0af6c-53b9-4d83-b296-630d7c17d6f6",
   "metadata": {},
   "outputs": [],
   "source": [
    "from scipy.optimize import linprog"
   ]
  },
  {
   "cell_type": "markdown",
   "id": "754bd0e2-5124-4974-8eb4-66339d0b138f",
   "metadata": {},
   "source": [
    "The solver interface from scipy: You put the values from the system above into the appropriate lists, tuples, or NumPy arrays:\n",
    "\n",
    "| Variable | Content |\n",
    "|----------|---------|\n",
    "| obj | holds the coefficients from the objective function.|\n",
    "| lhs_ineq | holds the left-side coefficients from the inequality (red, blue, and yellow) constraints.|\n",
    "| rhs_ineq | holds the right-side coefficients from the inequality (red, blue, and yellow) constraints.|\n",
    "| lhs_eq | holds the left-side coefficients from the equality (green) constraint.|\n",
    "| rhs_eq | holds the right-side coefficients from the equality (green) constraint.|\n",
    "\n",
    "Note: Please, be careful with the order of rows and columns!\n",
    "\n",
    "The order of the rows for the left and right sides of the constraints must be the same. Each row represents one constraint.\n",
    "\n",
    "The order of the coefficients from the objective function and left sides of the constraints must match. Each column corresponds to a single decision variable.\n"
   ]
  },
  {
   "cell_type": "code",
   "execution_count": 67,
   "id": "23d60f94-faa6-458d-8920-bd762f92c164",
   "metadata": {},
   "outputs": [
    {
     "data": {
      "text/plain": [
       "        message: Optimization terminated successfully. (HiGHS Status 7: Optimal)\n",
       "        success: True\n",
       "         status: 0\n",
       "            fun: -16.818181818181817\n",
       "              x: [ 7.727e+00  4.545e+00]\n",
       "            nit: 0\n",
       "          lower:  residual: [ 7.727e+00  4.545e+00]\n",
       "                 marginals: [ 0.000e+00  0.000e+00]\n",
       "          upper:  residual: [       inf        inf]\n",
       "                 marginals: [ 0.000e+00  0.000e+00]\n",
       "          eqlin:  residual: [ 0.000e+00]\n",
       "                 marginals: [-2.727e-01]\n",
       "        ineqlin:  residual: [ 0.000e+00  1.818e+01  3.364e+00]\n",
       "                 marginals: [-6.364e-01 -0.000e+00 -0.000e+00]\n",
       " mip_node_count: 0\n",
       " mip_dual_bound: 0.0\n",
       "        mip_gap: 0.0"
      ]
     },
     "execution_count": 67,
     "metadata": {},
     "output_type": "execute_result"
    }
   ],
   "source": [
    "obj = [-1, -2]\n",
    "#      ─┬  ─┬\n",
    "#       │   └┤ Coefficient for y\n",
    "#       └────┤ Coefficient for x\n",
    "\n",
    "lhs_ineq = [[ 2,  1],  # Red constraint left side\n",
    "            [-4,  5],  # Blue constraint left side\n",
    "            [ 1, -2]]  # Yellow constraint left side\n",
    "\n",
    "rhs_ineq = [20,  # Red constraint right side\n",
    "            10,  # Blue constraint right side\n",
    "             2]  # Yellow constraint right side\n",
    "\n",
    "lhs_eq = [[-1, 5]]  # Green constraint left side\n",
    "rhs_eq = [15]       # Green constraint right side\n",
    "bnd = [(0, float(\"inf\")),  # Bounds of x\n",
    "       (0, float(\"inf\"))]  # Bounds of y\n",
    "\n",
    "opt = linprog(c=obj, A_ub=lhs_ineq, b_ub=rhs_ineq,\n",
    "              A_eq=lhs_eq, b_eq=rhs_eq, bounds=bnd,\n",
    "              method=\"highs\")\n",
    "opt"
   ]
  },
  {
   "attachments": {},
   "cell_type": "markdown",
   "id": "aad23609-193e-4f17-a75d-744ae2e49287",
   "metadata": {},
   "source": [
    "### Exercise: Straton Case Company\n",
    "**Objective Function**: In scipy.optimize.linprog, the problem is formulated as a minimization problem by default. Therefore, to maximize 34x1 + 40x2, we minimize -34x1 - 40x2. This is why the coefficients of the objective function c are negated.\n",
    "\n",
    "**Constraints**: The constraints are specified in the form Ax <= b, similar to the R code.\n",
    "\n",
    "**Bounds**: The bounds for the variables are specified to ensure they are non-negative.\n",
    "\n",
    "**Solver**: The linprog function is called with the method set to 'highs', which is recommended for large problems and is generally more efficient."
   ]
  },
  {
   "cell_type": "code",
   "execution_count": 69,
   "id": "a1055879-2867-42a6-8d70-cd34507ba919",
   "metadata": {},
   "outputs": [
    {
     "name": "stdout",
     "output_type": "stream",
     "text": [
      "Optimal value: 342.0\n",
      "Solution: [3. 6.]\n"
     ]
    }
   ],
   "source": [
    "#Coefficients of the objective function\n",
    "c = [-34, -40]  # Multiply by -1 to convert max to min\n",
    "\n",
    "# Coefficients of the inequality constraints\n",
    "A = np.array([\n",
    "    [4, 6],\n",
    "    [2, 2],\n",
    "    [2, 1]\n",
    "])\n",
    "\n",
    "# Right-hand side of inequality constraints\n",
    "b = np.array([48, 18, 16])\n",
    "\n",
    "# Bounds for variables (x1 >= 0, x2 >= 0)\n",
    "x_bounds = [(0, None), (0, None)]\n",
    "\n",
    "# Solve the linear program\n",
    "result = linprog(c, A_ub=A, b_ub=b, bounds=x_bounds, method='highs')\n",
    "\n",
    "# Print the results\n",
    "print(\"Optimal value:\", -result.fun)  # Multiply by -1 to get the original max value\n",
    "print(\"Solution:\", result.x)"
   ]
  }
 ],
 "metadata": {
  "kernelspec": {
   "display_name": "Python 3 (ipykernel)",
   "language": "python",
   "name": "python3"
  },
  "language_info": {
   "codemirror_mode": {
    "name": "ipython",
    "version": 3
   },
   "file_extension": ".py",
   "mimetype": "text/x-python",
   "name": "python",
   "nbconvert_exporter": "python",
   "pygments_lexer": "ipython3",
   "version": "3.11.7"
  }
 },
 "nbformat": 4,
 "nbformat_minor": 5
}
